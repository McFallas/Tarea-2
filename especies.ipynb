{
 "cells": [
  {
   "cell_type": "markdown",
   "metadata": {},
   "source": [
    "# Tarea 2: Gráficos estadísticos interactivos con plotly"
   ]
  },
  {
   "cell_type": "markdown",
   "metadata": {},
   "source": [
    "# Introducción\n",
    "Costa Rica es conocida por su rica biodiversidad, alberga varias especies de felinos que desempeñan un papel esencial en el equilibrio ecológico. Desde el jaguar hasta el ocelote, estos felinos se encuentran en diferentes ecosistemas del país. Sin embargo, enfrentan desafíos significativos debido a la pérdida de hábitat, la caza furtiva y otros factores antropogénicos.\n",
    "\n",
    "Este sitio web tiene como objetivo proporcionar una visión de los registros de observaciones de tres especies de felinos en Costa Rica a lo largo del período de 2014 a 2024. Estas observaciones permiten comprender mejor la distribución y la frecuencia de avistamientos. La serie de gráficos a continuación ilustra la cantidad de observaciones por año, la distribución mensual en un año específico y la proporción relativa de avistamientos entre las especies.\n",
    "\n",
    "### Especies a tratar:\n",
    "##### ___Tabla #1___\n",
    "\n",
    "|   Nombre de  la Especie   | Nombre cientifico    | \n",
    "|:-------------------------:|:--------------------:|\n",
    "| Jaguar                    |  (_Panthera onca_)   |\n",
    "| Ocelote                   |(_Leopardus pardalis_)|\n",
    "| Puma                      |  (_Puma concolor_)   |\n"
   ]
  },
  {
   "cell_type": "markdown",
   "metadata": {},
   "source": [
    "# Carga de paquetes"
   ]
  },
  {
   "cell_type": "code",
   "execution_count": 37,
   "metadata": {},
   "outputs": [],
   "source": [
    "# Carga de plotly.express con el alias px\n",
    "import plotly.express as px\n",
    "\n",
    "# Carga de plotly.graph_objects con el alias go\n",
    "import plotly.graph_objects as go\n",
    "\n",
    "# Carga de requests y de json\n",
    "import requests\n",
    "import json\n",
    "\n",
    "# Carga de pandas y geopandas\n",
    "import pandas as pd\n",
    "import geopandas as gpd\n"
   ]
  },
  {
   "cell_type": "markdown",
   "metadata": {},
   "source": [
    "# Obtención de Datos"
   ]
  },
  {
   "cell_type": "markdown",
   "metadata": {},
   "source": [
    "## Jaguar *(Panthera onca)*"
   ]
  },
  {
   "cell_type": "code",
   "execution_count": 3,
   "metadata": {},
   "outputs": [
    {
     "name": "stdout",
     "output_type": "stream",
     "text": [
      "Especie: Panthera onca\n",
      "Fecha: 2024-01-30T15:18:56\n",
      "Localidad: None\n",
      "Longitud: -83.579157, Latitud: 10.467856\n",
      "----------------------------------------\n",
      "Especie: Panthera onca\n",
      "Fecha: 2024-01-25T07:16\n",
      "Localidad: None\n",
      "Longitud: -84.655167, Latitud: 10.22839\n",
      "----------------------------------------\n",
      "Especie: Panthera onca\n",
      "Fecha: 2024-02-01T13:24:14\n",
      "Localidad: None\n",
      "Longitud: -83.566878, Latitud: 10.449497\n",
      "----------------------------------------\n",
      "Especie: Panthera onca\n",
      "Fecha: 2024-02-06T09:51\n",
      "Localidad: None\n",
      "Longitud: -83.565366, Latitud: 8.466594\n",
      "----------------------------------------\n",
      "Especie: Panthera onca\n",
      "Fecha: 2024-02-08T16:38\n",
      "Localidad: None\n",
      "Longitud: -83.563344, Latitud: 10.454353\n",
      "----------------------------------------\n",
      "Especie: Panthera onca\n",
      "Fecha: 2024-02-09T11:42\n",
      "Localidad: None\n",
      "Longitud: -83.548497, Latitud: 10.469183\n",
      "----------------------------------------\n",
      "Especie: Panthera onca\n",
      "Fecha: 2024-02-09T11:45\n",
      "Localidad: None\n",
      "Longitud: -83.449484, Latitud: 10.556402\n",
      "----------------------------------------\n",
      "Especie: Panthera onca\n",
      "Fecha: 2024-03-11T06:40\n",
      "Localidad: None\n",
      "Longitud: -84.675464, Latitud: 10.839945\n",
      "----------------------------------------\n",
      "Especie: Panthera onca\n",
      "Fecha: 2024-03-05T17:27\n",
      "Localidad: None\n",
      "Longitud: -84.754684, Latitud: 10.32483\n",
      "----------------------------------------\n",
      "Especie: Panthera onca\n",
      "Fecha: 2024-05-25T07:57\n",
      "Localidad: None\n",
      "Longitud: -83.45606, Latitud: 10.411646\n",
      "----------------------------------------\n",
      "Especie: Panthera onca\n",
      "Fecha: 2024-07-11T11:45\n",
      "Localidad: None\n",
      "Longitud: -85.667942, Latitud: 10.69378\n",
      "----------------------------------------\n",
      "Especie: Panthera onca\n",
      "Fecha: 2024-08-30T15:51:24\n",
      "Localidad: None\n",
      "Longitud: -83.403606, Latitud: 10.452461\n",
      "----------------------------------------\n",
      "Especie: Panthera onca\n",
      "Fecha: 2024-10-09T10:52:19\n",
      "Localidad: None\n",
      "Longitud: -85.567751, Latitud: 11.103291\n",
      "----------------------------------------\n",
      "Especie: Panthera onca\n",
      "Fecha: 2024-10-11T22:00\n",
      "Localidad: None\n",
      "Longitud: -83.484608, Latitud: 10.454945\n",
      "----------------------------------------\n",
      "Especie: Panthera onca\n",
      "Fecha: 2023-02-14T09:10:50\n",
      "Localidad: None\n",
      "Longitud: -83.414722, Latitud: 10.505114\n",
      "----------------------------------------\n",
      "Especie: Panthera onca\n",
      "Fecha: 2023-02-19\n",
      "Localidad: CG-AMP\n",
      "Longitud: -85.176346, Latitud: 10.69997\n",
      "----------------------------------------\n",
      "Especie: Panthera onca\n",
      "Fecha: 2023-04-10T11:50:04\n",
      "Localidad: None\n",
      "Longitud: -85.725034, Latitud: 10.800742\n",
      "----------------------------------------\n",
      "Especie: Panthera onca\n",
      "Fecha: 2023-04-10T11:51:04\n",
      "Localidad: None\n",
      "Longitud: -85.738478, Latitud: 10.857479\n",
      "----------------------------------------\n",
      "Especie: Panthera onca\n",
      "Fecha: 2023-05-28\n",
      "Localidad: CG-BOR\n",
      "Longitud: -85.4147, Latitud: 10.819316\n",
      "----------------------------------------\n",
      "Especie: Panthera onca\n",
      "Fecha: 2023-05-28\n",
      "Localidad: CG-PAI\n",
      "Longitud: -85.343174, Latitud: 10.762941\n",
      "----------------------------------------\n",
      "Especie: Panthera onca\n",
      "Fecha: 2023-06-17T15:53\n",
      "Localidad: None\n",
      "Longitud: -85.429583, Latitud: 10.801074\n",
      "----------------------------------------\n",
      "Especie: Panthera onca\n",
      "Fecha: 2023-07-04T16:17:22\n",
      "Localidad: None\n",
      "Longitud: -84.171909, Latitud: 10.565713\n",
      "----------------------------------------\n",
      "Especie: Panthera onca\n",
      "Fecha: 2023-07-22T06:32\n",
      "Localidad: None\n",
      "Longitud: -84.640117, Latitud: 10.291615\n",
      "----------------------------------------\n",
      "Especie: Panthera onca\n",
      "Fecha: 2023-07-28T15:40\n",
      "Localidad: None\n",
      "Longitud: -84.688657, Latitud: 10.241681\n",
      "----------------------------------------\n",
      "Especie: Panthera onca\n",
      "Fecha: 2023-08-02T13:51\n",
      "Localidad: None\n",
      "Longitud: -84.752421, Latitud: 10.335011\n",
      "----------------------------------------\n",
      "Especie: Panthera onca\n",
      "Fecha: 2023-08-03T15:00\n",
      "Localidad: None\n",
      "Longitud: -84.744394, Latitud: 10.239703\n",
      "----------------------------------------\n",
      "Especie: Panthera onca\n",
      "Fecha: 2023-08-17T06:00\n",
      "Localidad: None\n",
      "Longitud: -84.715788, Latitud: 10.378098\n",
      "----------------------------------------\n",
      "Especie: Panthera onca\n",
      "Fecha: 2023-09-15T23:35\n",
      "Localidad: None\n",
      "Longitud: -84.713735, Latitud: 10.323172\n",
      "----------------------------------------\n",
      "Especie: Panthera onca\n",
      "Fecha: 2023-09-07T10:00\n",
      "Localidad: None\n",
      "Longitud: -84.75432, Latitud: 10.307928\n",
      "----------------------------------------\n",
      "Especie: Panthera onca\n",
      "Fecha: 2023-09-23\n",
      "Localidad: CG-BOR\n",
      "Longitud: -85.4147, Latitud: 10.819316\n",
      "----------------------------------------\n",
      "Especie: Panthera onca\n",
      "Fecha: 2023-10-01T10:29:25\n",
      "Localidad: None\n",
      "Longitud: -83.152311, Latitud: 10.164605\n",
      "----------------------------------------\n",
      "Especie: Panthera onca\n",
      "Fecha: 2023-10-04T05:53:18\n",
      "Localidad: None\n",
      "Longitud: -83.234848, Latitud: 10.106577\n",
      "----------------------------------------\n",
      "Especie: Panthera onca\n",
      "Fecha: 2023-10-11T12:28:54\n",
      "Localidad: None\n",
      "Longitud: -85.655421, Latitud: 10.704329\n",
      "----------------------------------------\n",
      "Especie: Panthera onca\n",
      "Fecha: 2022-04-10\n",
      "Localidad: Estaciz\u0005xperimental Forestal Horizontes\n",
      "Longitud: -85.572084, Latitud: 10.738537\n",
      "----------------------------------------\n",
      "Especie: Panthera onca\n",
      "Fecha: 2022-04-10\n",
      "Localidad: Estaciz\u0005xperimental Forestal Horizontes\n",
      "Longitud: -85.572084, Latitud: 10.738537\n",
      "----------------------------------------\n",
      "Especie: Panthera onca\n",
      "Fecha: 2022-04-10\n",
      "Localidad: Estaciz\u0005xperimental Forestal Horizontes\n",
      "Longitud: -85.572084, Latitud: 10.738537\n",
      "----------------------------------------\n",
      "Especie: Panthera onca\n",
      "Fecha: 2022-04-11\n",
      "Localidad: Estaciz\u0005xperimental Forestal Horizontes\n",
      "Longitud: -85.560203, Latitud: 10.763197\n",
      "----------------------------------------\n",
      "Especie: Panthera onca\n",
      "Fecha: 2022-04-11\n",
      "Localidad: Estaciz\u0005xperimental Forestal Horizontes\n",
      "Longitud: -85.560203, Latitud: 10.763197\n",
      "----------------------------------------\n",
      "Especie: Panthera onca\n",
      "Fecha: 2022-04-11\n",
      "Localidad: Estaciz\u0005xperimental Forestal Horizontes\n",
      "Longitud: -85.560203, Latitud: 10.763197\n",
      "----------------------------------------\n",
      "Especie: Panthera onca\n",
      "Fecha: 2022-04-13\n",
      "Localidad: Estaciz\u0005xperimental Forestal Horizontes\n",
      "Longitud: -85.58463, Latitud: 10.72969\n",
      "----------------------------------------\n",
      "Especie: Panthera onca\n",
      "Fecha: 2022-04-13\n",
      "Localidad: Estaciz\u0005xperimental Forestal Horizontes\n",
      "Longitud: -85.58463, Latitud: 10.72969\n",
      "----------------------------------------\n",
      "Especie: Panthera onca\n",
      "Fecha: 2022-04-13\n",
      "Localidad: Estaciz\u0005xperimental Forestal Horizontes\n",
      "Longitud: -85.58463, Latitud: 10.72969\n",
      "----------------------------------------\n",
      "Especie: Panthera onca\n",
      "Fecha: 2022-04-24\n",
      "Localidad: Estaciz\u0005xperimental Forestal Horizontes\n",
      "Longitud: -85.572084, Latitud: 10.738537\n",
      "----------------------------------------\n",
      "Especie: Panthera onca\n",
      "Fecha: 2022-04-24\n",
      "Localidad: Estaciz\u0005xperimental Forestal Horizontes\n",
      "Longitud: -85.572084, Latitud: 10.738537\n",
      "----------------------------------------\n",
      "Especie: Panthera onca\n",
      "Fecha: 2022-04-24\n",
      "Localidad: Estaciz\u0005xperimental Forestal Horizontes\n",
      "Longitud: -85.572084, Latitud: 10.738537\n",
      "----------------------------------------\n",
      "Especie: Panthera onca\n",
      "Fecha: 2022-04-12T07:13:13\n",
      "Localidad: None\n",
      "Longitud: -83.528661, Latitud: 10.59766\n",
      "----------------------------------------\n",
      "Especie: Panthera onca\n",
      "Fecha: 2022-05-16\n",
      "Localidad: Estaciz\u0005xperimental Forestal Horizontes\n",
      "Longitud: -85.572084, Latitud: 10.738537\n",
      "----------------------------------------\n",
      "Especie: Panthera onca\n",
      "Fecha: 2022-05-16\n",
      "Localidad: Estaciz\u0005xperimental Forestal Horizontes\n",
      "Longitud: -85.572084, Latitud: 10.738537\n",
      "----------------------------------------\n",
      "Especie: Panthera onca\n",
      "Fecha: 2022-05-16\n",
      "Localidad: Estaciz\u0005xperimental Forestal Horizontes\n",
      "Longitud: -85.572084, Latitud: 10.738537\n",
      "----------------------------------------\n",
      "Especie: Panthera onca\n",
      "Fecha: 2022-05-16\n",
      "Localidad: Estaciz\u0005xperimental Forestal Horizontes\n",
      "Longitud: -85.572084, Latitud: 10.738537\n",
      "----------------------------------------\n",
      "Especie: Panthera onca\n",
      "Fecha: 2022-05-16\n",
      "Localidad: Estaciz\u0005xperimental Forestal Horizontes\n",
      "Longitud: -85.572084, Latitud: 10.738537\n",
      "----------------------------------------\n",
      "Especie: Panthera onca\n",
      "Fecha: 2022-05-16\n",
      "Localidad: Estaciz\u0005xperimental Forestal Horizontes\n",
      "Longitud: -85.572084, Latitud: 10.738537\n",
      "----------------------------------------\n",
      "Especie: Panthera onca\n",
      "Fecha: 2022-05-22T08:00\n",
      "Localidad: None\n",
      "Longitud: -85.592733, Latitud: 11.02931\n",
      "----------------------------------------\n",
      "Especie: Panthera onca\n",
      "Fecha: 2022-08-22T19:02\n",
      "Localidad: None\n",
      "Longitud: -83.562764, Latitud: 10.489799\n",
      "----------------------------------------\n",
      "Especie: Panthera onca\n",
      "Fecha: 2022-09-28T05:25\n",
      "Localidad: None\n",
      "Longitud: -85.659663, Latitud: 10.847266\n",
      "----------------------------------------\n",
      "Especie: Panthera onca\n",
      "Fecha: 2022-10-09T18:40\n",
      "Localidad: None\n",
      "Longitud: -83.544452, Latitud: 10.544223\n",
      "----------------------------------------\n",
      "Especie: Panthera onca\n",
      "Fecha: 2022-10-28T17:14:58\n",
      "Localidad: None\n",
      "Longitud: -84.012202, Latitud: 10.513393\n",
      "----------------------------------------\n",
      "Especie: Panthera onca\n",
      "Fecha: 2022-12-23\n",
      "Localidad: Estaciz\u0005xperimental Forestal Horizontes\n",
      "Longitud: -85.57318, Latitud: 10.73641\n",
      "----------------------------------------\n",
      "Especie: Panthera onca\n",
      "Fecha: 2022-12-10T11:02:58\n",
      "Localidad: None\n",
      "Longitud: -83.454236, Latitud: 10.407485\n",
      "----------------------------------------\n",
      "Especie: Panthera onca\n",
      "Fecha: 2021-03-16\n",
      "Localidad: RANCHO QUEMADO\n",
      "Longitud: -83.55255, Latitud: 8.704\n",
      "----------------------------------------\n",
      "Especie: Panthera onca\n",
      "Fecha: 2021-04-10T13:20:47\n",
      "Localidad: None\n",
      "Longitud: -84.084341, Latitud: 10.26186\n",
      "----------------------------------------\n",
      "Especie: Panthera onca\n",
      "Fecha: 2021-05-14\n",
      "Localidad: Estaciz\u0005xperimental Forestal Horizontes\n",
      "Longitud: -85.5949, Latitud: 10.726964\n",
      "----------------------------------------\n",
      "Especie: Panthera onca\n",
      "Fecha: 2021-05-14\n",
      "Localidad: Estaciz\u0005xperimental Forestal Horizontes\n",
      "Longitud: -85.5949, Latitud: 10.726964\n",
      "----------------------------------------\n",
      "Especie: Panthera onca\n",
      "Fecha: 2021-05-19\n",
      "Localidad: Estaciz\u0005xperimental Forestal Horizontes\n",
      "Longitud: -85.5949, Latitud: 10.726964\n",
      "----------------------------------------\n",
      "Especie: Panthera onca\n",
      "Fecha: 2021-09-22\n",
      "Localidad: Estaciz\u0005xperimental Forestal Horizontes\n",
      "Longitud: -85.5949, Latitud: 10.726964\n",
      "----------------------------------------\n",
      "Especie: Panthera onca\n",
      "Fecha: 2020-01-27T12:02\n",
      "Localidad: None\n",
      "Longitud: -83.589544, Latitud: 10.563141\n",
      "----------------------------------------\n",
      "Especie: Panthera onca\n",
      "Fecha: 2020-03-26T12:14\n",
      "Localidad: None\n",
      "Longitud: -84.753038, Latitud: 10.388769\n",
      "----------------------------------------\n",
      "Especie: Panthera onca\n",
      "Fecha: 2020-03-14T09:43\n",
      "Localidad: None\n",
      "Longitud: -83.387481, Latitud: 8.512211\n",
      "----------------------------------------\n",
      "Especie: Panthera onca\n",
      "Fecha: 2020-05-23\n",
      "Localidad: Estaciz\u0005xperimental Forestal Horizontes\n",
      "Longitud: -85.5949, Latitud: 10.726964\n",
      "----------------------------------------\n",
      "Especie: Panthera onca\n",
      "Fecha: 2020-09-10T16:09:05Z\n",
      "Localidad: None\n",
      "Longitud: -83.541359, Latitud: 9.876449\n",
      "----------------------------------------\n",
      "Especie: Panthera onca\n",
      "Fecha: 2019-02-20\n",
      "Localidad: MOGOS\n",
      "Longitud: -83.40155, Latitud: 8.74807\n",
      "----------------------------------------\n",
      "Especie: Panthera onca\n",
      "Fecha: 2019-02-20\n",
      "Localidad: MOGOS\n",
      "Longitud: -83.40155, Latitud: 8.74807\n",
      "----------------------------------------\n",
      "Especie: Panthera onca\n",
      "Fecha: 2019-02-20\n",
      "Localidad: MOGOS\n",
      "Longitud: -83.40155, Latitud: 8.74807\n",
      "----------------------------------------\n",
      "Especie: Panthera onca\n",
      "Fecha: 2019-02-20\n",
      "Localidad: MOGOS\n",
      "Longitud: -83.40155, Latitud: 8.74807\n",
      "----------------------------------------\n",
      "Especie: Panthera onca\n",
      "Fecha: 2019-02-20\n",
      "Localidad: MOGOS\n",
      "Longitud: -83.40155, Latitud: 8.74807\n",
      "----------------------------------------\n",
      "Especie: Panthera onca\n",
      "Fecha: 2019-02-20\n",
      "Localidad: MOGOS\n",
      "Longitud: -83.40155, Latitud: 8.74807\n",
      "----------------------------------------\n",
      "Especie: Panthera onca\n",
      "Fecha: 2019-02-28\n",
      "Localidad: RANCHO QUEMADO\n",
      "Longitud: -83.5835, Latitud: 8.68927\n",
      "----------------------------------------\n",
      "Especie: Panthera onca\n",
      "Fecha: 2019-02-28\n",
      "Localidad: RANCHO QUEMADO\n",
      "Longitud: -83.5835, Latitud: 8.68927\n",
      "----------------------------------------\n",
      "Especie: Panthera onca\n",
      "Fecha: 2019-02-28\n",
      "Localidad: RANCHO QUEMADO\n",
      "Longitud: -83.5835, Latitud: 8.68927\n",
      "----------------------------------------\n",
      "Especie: Panthera onca\n",
      "Fecha: 2019-03-18T12:01\n",
      "Localidad: None\n",
      "Longitud: -83.536003, Latitud: 10.50904\n",
      "----------------------------------------\n",
      "Especie: Panthera onca\n",
      "Fecha: 2019-04-11\n",
      "Localidad: RANCHO QUEMADO\n",
      "Longitud: -83.58411, Latitud: 8.67738\n",
      "----------------------------------------\n",
      "Especie: Panthera onca\n",
      "Fecha: 2019-04-17\n",
      "Localidad: MOGOS\n",
      "Longitud: -83.40155, Latitud: 8.74807\n",
      "----------------------------------------\n",
      "Especie: Panthera onca\n",
      "Fecha: 2019-04-17\n",
      "Localidad: MOGOS\n",
      "Longitud: -83.40155, Latitud: 8.74807\n",
      "----------------------------------------\n",
      "Especie: Panthera onca\n",
      "Fecha: 2019-04-17\n",
      "Localidad: MOGOS\n",
      "Longitud: -83.40155, Latitud: 8.74807\n",
      "----------------------------------------\n",
      "Especie: Panthera onca\n",
      "Fecha: 2019-04-26\n",
      "Localidad: MOGOS\n",
      "Longitud: -83.40155, Latitud: 8.74807\n",
      "----------------------------------------\n",
      "Especie: Panthera onca\n",
      "Fecha: 2019-04-26\n",
      "Localidad: MOGOS\n",
      "Longitud: -83.40155, Latitud: 8.74807\n",
      "----------------------------------------\n",
      "Especie: Panthera onca\n",
      "Fecha: 2019-04-26\n",
      "Localidad: MOGOS\n",
      "Longitud: -83.40155, Latitud: 8.74807\n",
      "----------------------------------------\n",
      "Especie: Panthera onca\n",
      "Fecha: 2019-04-26\n",
      "Localidad: MOGOS\n",
      "Longitud: -83.40155, Latitud: 8.74807\n",
      "----------------------------------------\n",
      "Especie: Panthera onca\n",
      "Fecha: 2019-04-26\n",
      "Localidad: MOGOS\n",
      "Longitud: -83.40155, Latitud: 8.74807\n",
      "----------------------------------------\n",
      "Especie: Panthera onca\n",
      "Fecha: 2019-04-01\n",
      "Localidad: RANCHO QUEMADO\n",
      "Longitud: -83.5835, Latitud: 8.68927\n",
      "----------------------------------------\n",
      "Especie: Panthera onca\n",
      "Fecha: 2019-04-01\n",
      "Localidad: RANCHO QUEMADO\n",
      "Longitud: -83.5835, Latitud: 8.68927\n",
      "----------------------------------------\n",
      "Especie: Panthera onca\n",
      "Fecha: 2019-04-01\n",
      "Localidad: RANCHO QUEMADO\n",
      "Longitud: -83.5835, Latitud: 8.68927\n",
      "----------------------------------------\n",
      "Especie: Panthera onca\n",
      "Fecha: 2019-04-15\n",
      "Localidad: RANCHO QUEMADO\n",
      "Longitud: -83.5835, Latitud: 8.68927\n",
      "----------------------------------------\n",
      "Especie: Panthera onca\n",
      "Fecha: 2019-04-15\n",
      "Localidad: RANCHO QUEMADO\n",
      "Longitud: -83.5835, Latitud: 8.68927\n",
      "----------------------------------------\n",
      "Especie: Panthera onca\n",
      "Fecha: 2019-04-15\n",
      "Localidad: RANCHO QUEMADO\n",
      "Longitud: -83.5835, Latitud: 8.68927\n",
      "----------------------------------------\n",
      "Especie: Panthera onca\n",
      "Fecha: 2019-05-07\n",
      "Localidad: RANCHO QUEMADO\n",
      "Longitud: -83.58411, Latitud: 8.67738\n",
      "----------------------------------------\n",
      "Especie: Panthera onca\n",
      "Fecha: 2019-05-31\n",
      "Localidad: MOGOS\n",
      "Longitud: -83.40155, Latitud: 8.74807\n",
      "----------------------------------------\n",
      "Especie: Panthera onca\n",
      "Fecha: 2019-05-31\n",
      "Localidad: MOGOS\n",
      "Longitud: -83.40155, Latitud: 8.74807\n",
      "----------------------------------------\n",
      "Especie: Panthera onca\n",
      "Fecha: 2019-05-31\n",
      "Localidad: MOGOS\n",
      "Longitud: -83.40155, Latitud: 8.74807\n",
      "----------------------------------------\n",
      "Especie: Panthera onca\n",
      "Fecha: 2019-07-04\n",
      "Localidad: RANCHO QUEMADO\n",
      "Longitud: -83.55246, Latitud: 8.70394\n",
      "----------------------------------------\n",
      "Especie: Panthera onca\n",
      "Fecha: 2019-07-04\n",
      "Localidad: RANCHO QUEMADO\n",
      "Longitud: -83.55246, Latitud: 8.70394\n",
      "----------------------------------------\n",
      "Especie: Panthera onca\n",
      "Fecha: 2019-07-04\n",
      "Localidad: RANCHO QUEMADO\n",
      "Longitud: -83.55246, Latitud: 8.70394\n",
      "----------------------------------------\n",
      "Especie: Panthera onca\n",
      "Fecha: 2019-07-06\n",
      "Localidad: RANCHO QUEMADO\n",
      "Longitud: -83.55246, Latitud: 8.70394\n",
      "----------------------------------------\n",
      "Especie: Panthera onca\n",
      "Fecha: 2019-08-02T08:43:13\n",
      "Localidad: None\n",
      "Longitud: -83.433084, Latitud: 10.558145\n",
      "----------------------------------------\n",
      "Especie: Panthera onca\n",
      "Fecha: 2019-09-18T16:22:35\n",
      "Localidad: None\n",
      "Longitud: -85.594155, Latitud: 10.843254\n",
      "----------------------------------------\n",
      "Especie: Panthera onca\n",
      "Fecha: 2019-10-08T22:07\n",
      "Localidad: None\n",
      "Longitud: -83.692092, Latitud: 10.724513\n",
      "----------------------------------------\n",
      "Especie: Panthera onca\n",
      "Fecha: 2018-04-08T10:07:40\n",
      "Localidad: None\n",
      "Longitud: -83.7266, Latitud: 8.78439\n",
      "----------------------------------------\n",
      "Especie: Panthera onca\n",
      "Fecha: 2018-04-07T08:46:16\n",
      "Localidad: None\n",
      "Longitud: -83.765998, Latitud: 8.73978\n",
      "----------------------------------------\n",
      "Especie: Panthera onca\n",
      "Fecha: 2018-06-21T20:38:21\n",
      "Localidad: None\n",
      "Longitud: -84.181651, Latitud: 10.416283\n",
      "----------------------------------------\n",
      "Especie: Panthera onca\n",
      "Fecha: 2017-12-13T09:06:13\n",
      "Localidad: None\n",
      "Longitud: -83.339621, Latitud: 8.657425\n",
      "----------------------------------------\n",
      "Especie: Panthera onca\n",
      "Fecha: 2016-01-29\n",
      "Localidad: None\n",
      "Longitud: -83.42066, Latitud: 10.482056\n",
      "----------------------------------------\n",
      "Especie: Panthera onca\n",
      "Fecha: 2015-10-06T15:52\n",
      "Localidad: None\n",
      "Longitud: -83.488668, Latitud: 8.839019\n",
      "----------------------------------------\n",
      "Especie: Panthera onca\n",
      "Fecha: 2014-04-15T15:53\n",
      "Localidad: None\n",
      "Longitud: -83.45907, Latitud: 10.523513\n",
      "----------------------------------------\n",
      "Se han guardado 113 registros de presencia en el archivo 'registros-presencia-jaguar.geojson'\n"
     ]
    }
   ],
   "source": [
    "import requests\n",
    "import json\n",
    "\n",
    "def obtener_taxon_key(nombre_cientifico):\n",
    "    url = 'https://api.gbif.org/v1/species/match'\n",
    "\n",
    "    parametros = {\n",
    "        'name': nombre_cientifico,\n",
    "        'strict': True  # Asegura una coincidencia exacta\n",
    "    }\n",
    "\n",
    "    respuesta = requests.get(url, params=parametros)\n",
    "    \n",
    "    if respuesta.status_code == 200:\n",
    "        datos = respuesta.json()\n",
    "        \n",
    "        # Se revisa si la llave usageKy está presente en datos\n",
    "        if 'usageKey' in datos:\n",
    "            return datos['usageKey']\n",
    "        else:\n",
    "            return None\n",
    "    else:\n",
    "        return None\n",
    "\n",
    "# Nombre científico de la especie\n",
    "nombre_cientifico = 'Panthera onca'\n",
    "\n",
    "# taxonKey de la especie\n",
    "taxon_key = obtener_taxon_key(nombre_cientifico)\n",
    "\n",
    "if taxon_key:\n",
    "    # Se encontró el taxonKey\n",
    "\n",
    "    # URL\n",
    "    url = 'https://api.gbif.org/v1/occurrence/search'\n",
    "\n",
    "    # Parámetros de la solicitud GET\n",
    "    parametros = {\n",
    "        'country': 'CR',          # Código de país ISO para Costa Rica\n",
    "        'taxonKey': taxon_key,\n",
    "        'limit': 300,             # Número máximo de registros a obtener (máximo 300 por solicitud)\n",
    "        'hasCoordinate': 'true',   # Solo se incluyen registros de presencia con coordenadas\n",
    "        'year': '2014,2024'  # Rango de años especificado\n",
    "    }\n",
    "\n",
    "    # Solicitud GET\n",
    "    respuesta = requests.get(url, params=parametros)\n",
    "\n",
    "    # Se verifica si la solicitud fue exitosa\n",
    "    if respuesta.status_code == 200:\n",
    "        # La solicitud fue exitosa\n",
    "\n",
    "        # Se cargan en formato JSON los datos retornados\n",
    "        datos_registros = respuesta.json()\n",
    "\n",
    "        # Se extraen las ocurrencias\n",
    "        registros = datos_registros['results']\n",
    "\n",
    "        # Lista para las features de GeoJSON\n",
    "        features = []\n",
    "\n",
    "        # Se recorren los datos de registros de presencia y se convierten a features GeoJSON\n",
    "        for registro in registros:\n",
    "            especie = registro.get('species')\n",
    "            fecha = registro.get('eventDate')\n",
    "            localidad = registro.get('locality')\n",
    "            latitud = registro.get('decimalLatitude')\n",
    "            longitud = registro.get('decimalLongitude')\n",
    "\n",
    "            print(f\"Especie: {especie}\")\n",
    "            print(f\"Fecha: {fecha}\")\n",
    "            print(f\"Localidad: {localidad}\")\n",
    "            print(f\"Longitud: {longitud}, Latitud: {latitud}\")\n",
    "            print(\"-\" * 40)        \n",
    "\n",
    "            # Se verifica que las coordenadas están presentes\n",
    "            if latitud is not None and longitud is not None:\n",
    "                feature = {\n",
    "                    \"type\": \"Feature\",\n",
    "                    \"geometry\": {\n",
    "                        \"type\": \"Point\",\n",
    "                        \"coordinates\": [longitud, latitud]  # GeoJSON utiliza el orden [longitud, latitud]\n",
    "                    },\n",
    "                    \"properties\": {\n",
    "                        \"species\": especie,\n",
    "                        \"eventDate\": fecha,\n",
    "                        \"locality\": localidad\n",
    "                    }\n",
    "                }\n",
    "                features.append(feature)\n",
    "\n",
    " # Crear el FeatureCollection GeoJSON\n",
    "        geojson = {\n",
    "            \"type\": \"FeatureCollection\",\n",
    "            \"features\": features\n",
    "        }\n",
    "\n",
    "        # Almacenamiento de datos en un archivo llamado \"datos-registros-presencia.geojson\"\n",
    "        with open('registros-presencia-jaguar.geojson', 'w', encoding='utf-8') as archivo:\n",
    "            json.dump(geojson, archivo, indent=4, ensure_ascii=False)\n",
    "\n",
    "        print(f\"Se han guardado {len(features)} registros de presencia en el archivo 'registros-presencia-jaguar.geojson'\")\n",
    "    else:\n",
    "        # Se produjo un error\n",
    "        print(f\"Error {respuesta.status_code}\")\n",
    "else:\n",
    "    print(f'No se encontró el taxonKey de {nombre_cientifico}')      "
   ]
  },
  {
   "cell_type": "markdown",
   "metadata": {},
   "source": [
    "## Ocelote *(Leopardus pardalis)*"
   ]
  },
  {
   "cell_type": "code",
   "execution_count": 4,
   "metadata": {},
   "outputs": [
    {
     "name": "stdout",
     "output_type": "stream",
     "text": [
      "Especie: Leopardus pardalis\n",
      "Fecha: 2024-01-08T20:12\n",
      "Localidad: None\n",
      "Longitud: -83.358795, Latitud: 8.76312\n",
      "----------------------------------------\n",
      "Especie: Leopardus pardalis\n",
      "Fecha: 2024-02-15T21:52\n",
      "Localidad: None\n",
      "Longitud: -85.072136, Latitud: 9.868216\n",
      "----------------------------------------\n",
      "Especie: Leopardus pardalis\n",
      "Fecha: 2024-02-15T08:29:13\n",
      "Localidad: None\n",
      "Longitud: -84.792229, Latitud: 10.357254\n",
      "----------------------------------------\n",
      "Especie: Leopardus pardalis\n",
      "Fecha: 2024-02-15T21:52\n",
      "Localidad: None\n",
      "Longitud: -85.072136, Latitud: 9.868216\n",
      "----------------------------------------\n",
      "Especie: Leopardus pardalis\n",
      "Fecha: 2024-02-17T20:57:55\n",
      "Localidad: None\n",
      "Longitud: -83.417847, Latitud: 8.429842\n",
      "----------------------------------------\n",
      "Especie: Leopardus pardalis\n",
      "Fecha: 2024-02-29T09:58:19\n",
      "Localidad: None\n",
      "Longitud: -83.068289, Latitud: 9.813608\n",
      "----------------------------------------\n",
      "Especie: Leopardus pardalis\n",
      "Fecha: 2024-03-03T08:04:58\n",
      "Localidad: None\n",
      "Longitud: -85.334288, Latitud: 10.347842\n",
      "----------------------------------------\n",
      "Especie: Leopardus pardalis\n",
      "Fecha: 2024-03-03T09:32:05\n",
      "Localidad: None\n",
      "Longitud: -85.336503, Latitud: 10.345897\n",
      "----------------------------------------\n",
      "Especie: Leopardus pardalis\n",
      "Fecha: 2024-03-03T08:08:27\n",
      "Localidad: None\n",
      "Longitud: -85.334228, Latitud: 10.347867\n",
      "----------------------------------------\n",
      "Especie: Leopardus pardalis\n",
      "Fecha: 2024-03-24T23:11\n",
      "Localidad: None\n",
      "Longitud: -84.430545, Latitud: 9.792303\n",
      "----------------------------------------\n",
      "Especie: Leopardus pardalis\n",
      "Fecha: 2024-03-19T23:00\n",
      "Localidad: None\n",
      "Longitud: -83.785511, Latitud: 10.446409\n",
      "----------------------------------------\n",
      "Especie: Leopardus pardalis\n",
      "Fecha: 2024-04-05T18:31:50\n",
      "Localidad: None\n",
      "Longitud: -83.648867, Latitud: 9.890645\n",
      "----------------------------------------\n",
      "Especie: Leopardus pardalis\n",
      "Fecha: 2024-05-10T19:41\n",
      "Localidad: None\n",
      "Longitud: -85.768074, Latitud: 10.193915\n",
      "----------------------------------------\n",
      "Especie: Leopardus pardalis\n",
      "Fecha: 2024-05-20T02:26\n",
      "Localidad: None\n",
      "Longitud: -84.169686, Latitud: 9.938617\n",
      "----------------------------------------\n",
      "Especie: Leopardus pardalis\n",
      "Fecha: 2024-06-03T13:15:30\n",
      "Localidad: None\n",
      "Longitud: -85.570708, Latitud: 10.858163\n",
      "----------------------------------------\n",
      "Especie: Leopardus pardalis\n",
      "Fecha: 2024-06-05T21:07\n",
      "Localidad: None\n",
      "Longitud: -83.878531, Latitud: 9.685316\n",
      "----------------------------------------\n",
      "Especie: Leopardus pardalis\n",
      "Fecha: 2024-06-09T10:01:55\n",
      "Localidad: None\n",
      "Longitud: -85.025833, Latitud: 10.272467\n",
      "----------------------------------------\n",
      "Especie: Leopardus pardalis\n",
      "Fecha: 2024-06-22T00:54\n",
      "Localidad: None\n",
      "Longitud: -84.004577, Latitud: 10.431207\n",
      "----------------------------------------\n",
      "Especie: Leopardus pardalis\n",
      "Fecha: 2024-06-24T04:57\n",
      "Localidad: None\n",
      "Longitud: -84.002861, Latitud: 10.430843\n",
      "----------------------------------------\n",
      "Especie: Leopardus pardalis\n",
      "Fecha: 2024-07-10T01:57\n",
      "Localidad: None\n",
      "Longitud: -83.858171, Latitud: 9.668412\n",
      "----------------------------------------\n",
      "Especie: Leopardus pardalis\n",
      "Fecha: 2024-08-07T15:38:57\n",
      "Localidad: None\n",
      "Longitud: -84.795268, Latitud: 10.304266\n",
      "----------------------------------------\n",
      "Especie: Leopardus pardalis\n",
      "Fecha: 2024-10-10T06:28:17\n",
      "Localidad: None\n",
      "Longitud: -82.858061, Latitud: 9.740033\n",
      "----------------------------------------\n",
      "Especie: Leopardus pardalis\n",
      "Fecha: 2023-01-01\n",
      "Localidad: Estaciz\u0005xperimental Forestal Horizontes\n",
      "Longitud: -85.58434, Latitud: 10.71595\n",
      "----------------------------------------\n",
      "Especie: Leopardus pardalis\n",
      "Fecha: 2023-01-01\n",
      "Localidad: Estaciz\u0005xperimental Forestal Horizontes\n",
      "Longitud: -85.58434, Latitud: 10.71595\n",
      "----------------------------------------\n",
      "Especie: Leopardus pardalis\n",
      "Fecha: 2023-01-01\n",
      "Localidad: Estaciz\u0005xperimental Forestal Horizontes\n",
      "Longitud: -85.58434, Latitud: 10.71595\n",
      "----------------------------------------\n",
      "Especie: Leopardus pardalis\n",
      "Fecha: 2023-01-01\n",
      "Localidad: Estaciz\u0005xperimental Forestal Horizontes\n",
      "Longitud: -85.58434, Latitud: 10.71595\n",
      "----------------------------------------\n",
      "Especie: Leopardus pardalis\n",
      "Fecha: 2023-01-01\n",
      "Localidad: Estaciz\u0005xperimental Forestal Horizontes\n",
      "Longitud: -85.58434, Latitud: 10.71595\n",
      "----------------------------------------\n",
      "Especie: Leopardus pardalis\n",
      "Fecha: 2023-01-01\n",
      "Localidad: Estaciz\u0005xperimental Forestal Horizontes\n",
      "Longitud: -85.58434, Latitud: 10.71595\n",
      "----------------------------------------\n",
      "Especie: Leopardus pardalis\n",
      "Fecha: 2023-01-26\n",
      "Localidad: Estaciz\u0005xperimental Forestal Horizontes\n",
      "Longitud: -85.57318, Latitud: 10.73641\n",
      "----------------------------------------\n",
      "Especie: Leopardus pardalis\n",
      "Fecha: 2023-01-01\n",
      "Localidad: Estaciz\u0005xperimental Forestal Horizontes\n",
      "Longitud: -85.58434, Latitud: 10.71595\n",
      "----------------------------------------\n",
      "Especie: Leopardus pardalis\n",
      "Fecha: 2023-01-01\n",
      "Localidad: Estaciz\u0005xperimental Forestal Horizontes\n",
      "Longitud: -85.58434, Latitud: 10.71595\n",
      "----------------------------------------\n",
      "Especie: Leopardus pardalis\n",
      "Fecha: 2023-01-01\n",
      "Localidad: Estaciz\u0005xperimental Forestal Horizontes\n",
      "Longitud: -85.58434, Latitud: 10.71595\n",
      "----------------------------------------\n",
      "Especie: Leopardus pardalis\n",
      "Fecha: 2023-01-01\n",
      "Localidad: Estaciz\u0005xperimental Forestal Horizontes\n",
      "Longitud: -85.58434, Latitud: 10.71595\n",
      "----------------------------------------\n",
      "Especie: Leopardus pardalis\n",
      "Fecha: 2023-01-01\n",
      "Localidad: Estaciz\u0005xperimental Forestal Horizontes\n",
      "Longitud: -85.58434, Latitud: 10.71595\n",
      "----------------------------------------\n",
      "Especie: Leopardus pardalis\n",
      "Fecha: 2023-01-01\n",
      "Localidad: Estaciz\u0005xperimental Forestal Horizontes\n",
      "Longitud: -85.58434, Latitud: 10.71595\n",
      "----------------------------------------\n",
      "Especie: Leopardus pardalis\n",
      "Fecha: 2023-01-01\n",
      "Localidad: Estaciz\u0005xperimental Forestal Horizontes\n",
      "Longitud: -85.58434, Latitud: 10.71595\n",
      "----------------------------------------\n",
      "Especie: Leopardus pardalis\n",
      "Fecha: 2023-01-01\n",
      "Localidad: Estaciz\u0005xperimental Forestal Horizontes\n",
      "Longitud: -85.58434, Latitud: 10.71595\n",
      "----------------------------------------\n",
      "Especie: Leopardus pardalis\n",
      "Fecha: 2023-01-16T21:17\n",
      "Localidad: None\n",
      "Longitud: -83.289708, Latitud: 8.387461\n",
      "----------------------------------------\n",
      "Especie: Leopardus pardalis\n",
      "Fecha: 2023-01-23\n",
      "Localidad: CG-PAI\n",
      "Longitud: -85.343174, Latitud: 10.762941\n",
      "----------------------------------------\n",
      "Especie: Leopardus pardalis\n",
      "Fecha: 2023-02-10\n",
      "Localidad: RANCHO QUEMADO\n",
      "Longitud: -83.57413, Latitud: 8.67496\n",
      "----------------------------------------\n",
      "Especie: Leopardus pardalis\n",
      "Fecha: 2023-02-21\n",
      "Localidad: SIERPE\n",
      "Longitud: -83.49311, Latitud: 8.81811\n",
      "----------------------------------------\n",
      "Especie: Leopardus pardalis\n",
      "Fecha: 2023-02-22\n",
      "Localidad: RANCHO QUEMADO\n",
      "Longitud: -83.57304, Latitud: 8.67664\n",
      "----------------------------------------\n",
      "Especie: Leopardus pardalis\n",
      "Fecha: 2023-02-22\n",
      "Localidad: RANCHO QUEMADO\n",
      "Longitud: -83.57304, Latitud: 8.67664\n",
      "----------------------------------------\n",
      "Especie: Leopardus pardalis\n",
      "Fecha: 2023-02-28\n",
      "Localidad: RANCHO QUEMADO\n",
      "Longitud: -83.57304, Latitud: 8.67664\n",
      "----------------------------------------\n",
      "Especie: Leopardus pardalis\n",
      "Fecha: 2023-02-15\n",
      "Localidad: CG-BOR\n",
      "Longitud: -85.4147, Latitud: 10.819316\n",
      "----------------------------------------\n",
      "Especie: Leopardus pardalis\n",
      "Fecha: 2023-03-08\n",
      "Localidad: RANCHO QUEMADO\n",
      "Longitud: -83.57413, Latitud: 8.67496\n",
      "----------------------------------------\n",
      "Especie: Leopardus pardalis\n",
      "Fecha: 2023-03-10\n",
      "Localidad: Estaciz\u0005xperimental Forestal Horizontes\n",
      "Longitud: -85.57655, Latitud: 10.73542\n",
      "----------------------------------------\n",
      "Especie: Leopardus pardalis\n",
      "Fecha: 2023-03-10\n",
      "Localidad: Estaciz\u0005xperimental Forestal Horizontes\n",
      "Longitud: -85.57655, Latitud: 10.73542\n",
      "----------------------------------------\n",
      "Especie: Leopardus pardalis\n",
      "Fecha: 2023-03-10\n",
      "Localidad: Estaciz\u0005xperimental Forestal Horizontes\n",
      "Longitud: -85.57655, Latitud: 10.73542\n",
      "----------------------------------------\n",
      "Especie: Leopardus pardalis\n",
      "Fecha: 2023-03-10\n",
      "Localidad: Estaciz\u0005xperimental Forestal Horizontes\n",
      "Longitud: -85.5942, Latitud: 10.7154\n",
      "----------------------------------------\n",
      "Especie: Leopardus pardalis\n",
      "Fecha: 2023-03-18\n",
      "Localidad: Estaciz\u0005xperimental Forestal Horizontes\n",
      "Longitud: -85.57655, Latitud: 10.73542\n",
      "----------------------------------------\n",
      "Especie: Leopardus pardalis\n",
      "Fecha: 2023-03-23\n",
      "Localidad: RANCHO QUEMADO\n",
      "Longitud: -83.57304, Latitud: 8.67664\n",
      "----------------------------------------\n",
      "Especie: Leopardus pardalis\n",
      "Fecha: 2023-03-23\n",
      "Localidad: LOS PLANES, DRAKE\n",
      "Longitud: -83.69897, Latitud: 8.6694\n",
      "----------------------------------------\n",
      "Especie: Leopardus pardalis\n",
      "Fecha: 2023-03-27\n",
      "Localidad: RANCHO QUEMADO\n",
      "Longitud: -83.57304, Latitud: 8.67664\n",
      "----------------------------------------\n",
      "Especie: Leopardus pardalis\n",
      "Fecha: 2023-03-27\n",
      "Localidad: RANCHO QUEMADO\n",
      "Longitud: -83.57413, Latitud: 8.67496\n",
      "----------------------------------------\n",
      "Especie: Leopardus pardalis\n",
      "Fecha: 2023-03-28\n",
      "Localidad: RANCHO QUEMADO\n",
      "Longitud: -83.57304, Latitud: 8.67664\n",
      "----------------------------------------\n",
      "Especie: Leopardus pardalis\n",
      "Fecha: 2023-03-29\n",
      "Localidad: RANCHO QUEMADO\n",
      "Longitud: -83.57413, Latitud: 8.67496\n",
      "----------------------------------------\n",
      "Especie: Leopardus pardalis\n",
      "Fecha: 2023-03-30\n",
      "Localidad: RANCHO QUEMADO\n",
      "Longitud: -83.57413, Latitud: 8.67496\n",
      "----------------------------------------\n",
      "Especie: Leopardus pardalis\n",
      "Fecha: 2023-03-30\n",
      "Localidad: RANCHO QUEMADO\n",
      "Longitud: -83.57413, Latitud: 8.67496\n",
      "----------------------------------------\n",
      "Especie: Leopardus pardalis\n",
      "Fecha: 2023-03-30\n",
      "Localidad: RANCHO QUEMADO\n",
      "Longitud: -83.57413, Latitud: 8.67496\n",
      "----------------------------------------\n",
      "Especie: Leopardus pardalis\n",
      "Fecha: 2023-03-30\n",
      "Localidad: RANCHO QUEMADO\n",
      "Longitud: -83.57413, Latitud: 8.67496\n",
      "----------------------------------------\n",
      "Especie: Leopardus pardalis\n",
      "Fecha: 2023-03-31\n",
      "Localidad: RANCHO QUEMADO\n",
      "Longitud: -83.57304, Latitud: 8.67664\n",
      "----------------------------------------\n",
      "Especie: Leopardus pardalis\n",
      "Fecha: 2023-03-07T16:17:12\n",
      "Localidad: None\n",
      "Longitud: -83.455473, Latitud: 8.639392\n",
      "----------------------------------------\n",
      "Especie: Leopardus pardalis\n",
      "Fecha: 2023-03-05T04:38\n",
      "Localidad: None\n",
      "Longitud: -84.640597, Latitud: 10.37163\n",
      "----------------------------------------\n",
      "Especie: Leopardus pardalis\n",
      "Fecha: 2023-03-06T05:15\n",
      "Localidad: None\n",
      "Longitud: -84.72731, Latitud: 10.329257\n",
      "----------------------------------------\n",
      "Especie: Leopardus pardalis\n",
      "Fecha: 2023-03-06T04:44\n",
      "Localidad: None\n",
      "Longitud: -84.734554, Latitud: 10.293922\n",
      "----------------------------------------\n",
      "Especie: Leopardus pardalis\n",
      "Fecha: 2023-03-06T21:13\n",
      "Localidad: None\n",
      "Longitud: -84.608598, Latitud: 10.341556\n",
      "----------------------------------------\n",
      "Especie: Leopardus pardalis\n",
      "Fecha: 2023-04-03\n",
      "Localidad: RANCHO QUEMADO\n",
      "Longitud: -83.57304, Latitud: 8.67664\n",
      "----------------------------------------\n",
      "Especie: Leopardus pardalis\n",
      "Fecha: 2023-04-04\n",
      "Localidad: RANCHO QUEMADO\n",
      "Longitud: -83.57304, Latitud: 8.67664\n",
      "----------------------------------------\n",
      "Especie: Leopardus pardalis\n",
      "Fecha: 2023-04-04\n",
      "Localidad: RANCHO QUEMADO\n",
      "Longitud: -83.57304, Latitud: 8.67664\n",
      "----------------------------------------\n",
      "Especie: Leopardus pardalis\n",
      "Fecha: 2023-04-06\n",
      "Localidad: RANCHO QUEMADO\n",
      "Longitud: -83.57304, Latitud: 8.67664\n",
      "----------------------------------------\n",
      "Especie: Leopardus pardalis\n",
      "Fecha: 2023-04-08\n",
      "Localidad: RANCHO QUEMADO\n",
      "Longitud: -83.57304, Latitud: 8.67664\n",
      "----------------------------------------\n",
      "Especie: Leopardus pardalis\n",
      "Fecha: 2023-04-08\n",
      "Localidad: RANCHO QUEMADO\n",
      "Longitud: -83.57304, Latitud: 8.67664\n",
      "----------------------------------------\n",
      "Especie: Leopardus pardalis\n",
      "Fecha: 2023-04-08\n",
      "Localidad: RANCHO QUEMADO\n",
      "Longitud: -83.57413, Latitud: 8.67496\n",
      "----------------------------------------\n",
      "Especie: Leopardus pardalis\n",
      "Fecha: 2023-04-08\n",
      "Localidad: RANCHO QUEMADO\n",
      "Longitud: -83.57413, Latitud: 8.67496\n",
      "----------------------------------------\n",
      "Especie: Leopardus pardalis\n",
      "Fecha: 2023-04-10\n",
      "Localidad: RANCHO QUEMADO\n",
      "Longitud: -83.57304, Latitud: 8.67664\n",
      "----------------------------------------\n",
      "Especie: Leopardus pardalis\n",
      "Fecha: 2023-04-10\n",
      "Localidad: SIERPE\n",
      "Longitud: -83.49311, Latitud: 8.81811\n",
      "----------------------------------------\n",
      "Especie: Leopardus pardalis\n",
      "Fecha: 2023-04-11\n",
      "Localidad: Estaciz\u0005xperimental Forestal Horizontes\n",
      "Longitud: -85.57655, Latitud: 10.73542\n",
      "----------------------------------------\n",
      "Especie: Leopardus pardalis\n",
      "Fecha: 2023-04-11\n",
      "Localidad: RANCHO QUEMADO\n",
      "Longitud: -83.57304, Latitud: 8.67664\n",
      "----------------------------------------\n",
      "Especie: Leopardus pardalis\n",
      "Fecha: 2023-04-12\n",
      "Localidad: RANCHO QUEMADO\n",
      "Longitud: -83.57304, Latitud: 8.67664\n",
      "----------------------------------------\n",
      "Especie: Leopardus pardalis\n",
      "Fecha: 2023-04-14\n",
      "Localidad: RANCHO QUEMADO\n",
      "Longitud: -83.57304, Latitud: 8.67664\n",
      "----------------------------------------\n",
      "Especie: Leopardus pardalis\n",
      "Fecha: 2023-04-16\n",
      "Localidad: RANCHO QUEMADO\n",
      "Longitud: -83.57304, Latitud: 8.67664\n",
      "----------------------------------------\n",
      "Especie: Leopardus pardalis\n",
      "Fecha: 2023-04-17\n",
      "Localidad: RANCHO QUEMADO\n",
      "Longitud: -83.57304, Latitud: 8.67664\n",
      "----------------------------------------\n",
      "Especie: Leopardus pardalis\n",
      "Fecha: 2023-04-18\n",
      "Localidad: RANCHO QUEMADO\n",
      "Longitud: -83.57304, Latitud: 8.67664\n",
      "----------------------------------------\n",
      "Especie: Leopardus pardalis\n",
      "Fecha: 2023-04-18\n",
      "Localidad: RANCHO QUEMADO\n",
      "Longitud: -83.57304, Latitud: 8.67664\n",
      "----------------------------------------\n",
      "Especie: Leopardus pardalis\n",
      "Fecha: 2023-04-20\n",
      "Localidad: SIERPE\n",
      "Longitud: -83.49311, Latitud: 8.81811\n",
      "----------------------------------------\n",
      "Especie: Leopardus pardalis\n",
      "Fecha: 2023-04-21\n",
      "Localidad: RANCHO QUEMADO\n",
      "Longitud: -83.57304, Latitud: 8.67664\n",
      "----------------------------------------\n",
      "Especie: Leopardus pardalis\n",
      "Fecha: 2023-04-23\n",
      "Localidad: LOS PLANES, DRAKE\n",
      "Longitud: -83.69897, Latitud: 8.6694\n",
      "----------------------------------------\n",
      "Especie: Leopardus pardalis\n",
      "Fecha: 2023-04-24\n",
      "Localidad: RANCHO QUEMADO\n",
      "Longitud: -83.57304, Latitud: 8.67664\n",
      "----------------------------------------\n",
      "Especie: Leopardus pardalis\n",
      "Fecha: 2023-04-25\n",
      "Localidad: RANCHO QUEMADO\n",
      "Longitud: -83.57304, Latitud: 8.67664\n",
      "----------------------------------------\n",
      "Especie: Leopardus pardalis\n",
      "Fecha: 2023-04-25\n",
      "Localidad: RANCHO QUEMADO\n",
      "Longitud: -83.57304, Latitud: 8.67664\n",
      "----------------------------------------\n",
      "Especie: Leopardus pardalis\n",
      "Fecha: 2023-04-27\n",
      "Localidad: RANCHO QUEMADO\n",
      "Longitud: -83.57304, Latitud: 8.67664\n",
      "----------------------------------------\n",
      "Especie: Leopardus pardalis\n",
      "Fecha: 2023-04-28T07:19\n",
      "Localidad: None\n",
      "Longitud: -83.553343, Latitud: 10.121731\n",
      "----------------------------------------\n",
      "Especie: Leopardus pardalis\n",
      "Fecha: 2023-04-25\n",
      "Localidad: CG-BOR\n",
      "Longitud: -85.4147, Latitud: 10.819316\n",
      "----------------------------------------\n",
      "Especie: Leopardus pardalis\n",
      "Fecha: 2023-04-17\n",
      "Localidad: CG-BOR\n",
      "Longitud: -85.4147, Latitud: 10.819316\n",
      "----------------------------------------\n",
      "Especie: Leopardus pardalis\n",
      "Fecha: 2023-04-25\n",
      "Localidad: CG-PAI\n",
      "Longitud: -85.343174, Latitud: 10.762941\n",
      "----------------------------------------\n",
      "Especie: Leopardus pardalis\n",
      "Fecha: 2023-05-01\n",
      "Localidad: RANCHO QUEMADO\n",
      "Longitud: -83.57304, Latitud: 8.67664\n",
      "----------------------------------------\n",
      "Especie: Leopardus pardalis\n",
      "Fecha: 2023-05-02\n",
      "Localidad: RANCHO QUEMADO\n",
      "Longitud: -83.57304, Latitud: 8.67664\n",
      "----------------------------------------\n",
      "Especie: Leopardus pardalis\n",
      "Fecha: 2023-05-02\n",
      "Localidad: RANCHO QUEMADO\n",
      "Longitud: -83.57304, Latitud: 8.67664\n",
      "----------------------------------------\n",
      "Especie: Leopardus pardalis\n",
      "Fecha: 2023-05-02\n",
      "Localidad: RANCHO QUEMADO\n",
      "Longitud: -83.57304, Latitud: 8.67664\n",
      "----------------------------------------\n",
      "Especie: Leopardus pardalis\n",
      "Fecha: 2023-05-02\n",
      "Localidad: RANCHO QUEMADO\n",
      "Longitud: -83.57304, Latitud: 8.67664\n",
      "----------------------------------------\n",
      "Especie: Leopardus pardalis\n",
      "Fecha: 2023-05-03\n",
      "Localidad: RANCHO QUEMADO\n",
      "Longitud: -83.57304, Latitud: 8.67664\n",
      "----------------------------------------\n",
      "Especie: Leopardus pardalis\n",
      "Fecha: 2023-05-03\n",
      "Localidad: RANCHO QUEMADO\n",
      "Longitud: -83.57304, Latitud: 8.67664\n",
      "----------------------------------------\n",
      "Especie: Leopardus pardalis\n",
      "Fecha: 2023-05-03\n",
      "Localidad: RANCHO QUEMADO\n",
      "Longitud: -83.57304, Latitud: 8.67664\n",
      "----------------------------------------\n",
      "Especie: Leopardus pardalis\n",
      "Fecha: 2023-05-04\n",
      "Localidad: RANCHO QUEMADO\n",
      "Longitud: -83.57304, Latitud: 8.67664\n",
      "----------------------------------------\n",
      "Especie: Leopardus pardalis\n",
      "Fecha: 2023-05-06\n",
      "Localidad: RANCHO QUEMADO\n",
      "Longitud: -83.57304, Latitud: 8.67664\n",
      "----------------------------------------\n",
      "Especie: Leopardus pardalis\n",
      "Fecha: 2023-05-10\n",
      "Localidad: RANCHO QUEMADO\n",
      "Longitud: -83.57304, Latitud: 8.67664\n",
      "----------------------------------------\n",
      "Especie: Leopardus pardalis\n",
      "Fecha: 2023-05-12\n",
      "Localidad: RANCHO QUEMADO\n",
      "Longitud: -83.57304, Latitud: 8.67664\n",
      "----------------------------------------\n",
      "Especie: Leopardus pardalis\n",
      "Fecha: 2023-05-14\n",
      "Localidad: RANCHO QUEMADO\n",
      "Longitud: -83.57304, Latitud: 8.67664\n",
      "----------------------------------------\n",
      "Especie: Leopardus pardalis\n",
      "Fecha: 2023-05-15\n",
      "Localidad: RANCHO QUEMADO\n",
      "Longitud: -83.57304, Latitud: 8.67664\n",
      "----------------------------------------\n",
      "Especie: Leopardus pardalis\n",
      "Fecha: 2023-05-16\n",
      "Localidad: RANCHO QUEMADO\n",
      "Longitud: -83.57304, Latitud: 8.67664\n",
      "----------------------------------------\n",
      "Especie: Leopardus pardalis\n",
      "Fecha: 2023-05-16\n",
      "Localidad: RANCHO QUEMADO\n",
      "Longitud: -83.57304, Latitud: 8.67664\n",
      "----------------------------------------\n",
      "Especie: Leopardus pardalis\n",
      "Fecha: 2023-05-17\n",
      "Localidad: RANCHO QUEMADO\n",
      "Longitud: -83.57304, Latitud: 8.67664\n",
      "----------------------------------------\n",
      "Especie: Leopardus pardalis\n",
      "Fecha: 2023-05-17\n",
      "Localidad: RANCHO QUEMADO\n",
      "Longitud: -83.57304, Latitud: 8.67664\n",
      "----------------------------------------\n",
      "Especie: Leopardus pardalis\n",
      "Fecha: 2023-05-18\n",
      "Localidad: RANCHO QUEMADO\n",
      "Longitud: -83.57304, Latitud: 8.67664\n",
      "----------------------------------------\n",
      "Especie: Leopardus pardalis\n",
      "Fecha: 2023-05-19\n",
      "Localidad: RANCHO QUEMADO\n",
      "Longitud: -83.57304, Latitud: 8.67664\n",
      "----------------------------------------\n",
      "Especie: Leopardus pardalis\n",
      "Fecha: 2023-05-19\n",
      "Localidad: RANCHO QUEMADO\n",
      "Longitud: -83.57304, Latitud: 8.67664\n",
      "----------------------------------------\n",
      "Especie: Leopardus pardalis\n",
      "Fecha: 2023-05-20\n",
      "Localidad: RANCHO QUEMADO\n",
      "Longitud: -83.57304, Latitud: 8.67664\n",
      "----------------------------------------\n",
      "Especie: Leopardus pardalis\n",
      "Fecha: 2023-05-30\n",
      "Localidad: RANCHO QUEMADO\n",
      "Longitud: -83.57304, Latitud: 8.67664\n",
      "----------------------------------------\n",
      "Especie: Leopardus pardalis\n",
      "Fecha: 2023-05-05T14:20\n",
      "Localidad: None\n",
      "Longitud: -85.223282, Latitud: 9.959587\n",
      "----------------------------------------\n",
      "Especie: Leopardus pardalis\n",
      "Fecha: 2023-05-20T15:27:46\n",
      "Localidad: None\n",
      "Longitud: -85.30513, Latitud: 10.539813\n",
      "----------------------------------------\n",
      "Especie: Leopardus pardalis\n",
      "Fecha: 2023-05-26\n",
      "Localidad: CG-BOR\n",
      "Longitud: -85.4147, Latitud: 10.819316\n",
      "----------------------------------------\n",
      "Especie: Leopardus pardalis\n",
      "Fecha: 2023-05-13\n",
      "Localidad: CG-BOR\n",
      "Longitud: -85.4147, Latitud: 10.819316\n",
      "----------------------------------------\n",
      "Especie: Leopardus pardalis\n",
      "Fecha: 2023-05-05\n",
      "Localidad: CG-BOR\n",
      "Longitud: -85.4147, Latitud: 10.819316\n",
      "----------------------------------------\n",
      "Especie: Leopardus pardalis\n",
      "Fecha: 2023-05-21\n",
      "Localidad: CG-PAI\n",
      "Longitud: -85.343174, Latitud: 10.762941\n",
      "----------------------------------------\n",
      "Especie: Leopardus pardalis\n",
      "Fecha: 2023-06-04\n",
      "Localidad: RANCHO QUEMADO\n",
      "Longitud: -83.57304, Latitud: 8.67664\n",
      "----------------------------------------\n",
      "Especie: Leopardus pardalis\n",
      "Fecha: 2023-06-18T20:27:58\n",
      "Localidad: None\n",
      "Longitud: -83.641336, Latitud: 9.109663\n",
      "----------------------------------------\n",
      "Especie: Leopardus pardalis\n",
      "Fecha: 2023-06-13T09:09\n",
      "Localidad: None\n",
      "Longitud: -85.007056, Latitud: 10.714064\n",
      "----------------------------------------\n",
      "Especie: Leopardus pardalis\n",
      "Fecha: 2023-07-05T08:35:38\n",
      "Localidad: None\n",
      "Longitud: -83.362842, Latitud: 10.118688\n",
      "----------------------------------------\n",
      "Especie: Leopardus pardalis\n",
      "Fecha: 2023-07-22T20:11:38\n",
      "Localidad: None\n",
      "Longitud: -85.206241, Latitud: 9.897284\n",
      "----------------------------------------\n",
      "Especie: Leopardus pardalis\n",
      "Fecha: 2023-07-25T21:30\n",
      "Localidad: None\n",
      "Longitud: -83.34314, Latitud: 8.622821\n",
      "----------------------------------------\n",
      "Especie: Leopardus pardalis\n",
      "Fecha: 2023-07-07\n",
      "Localidad: CG-BOR\n",
      "Longitud: -85.4147, Latitud: 10.819316\n",
      "----------------------------------------\n",
      "Especie: Leopardus pardalis\n",
      "Fecha: 2023-08-17\n",
      "Localidad: CG-BOR\n",
      "Longitud: -85.4147, Latitud: 10.819316\n",
      "----------------------------------------\n",
      "Especie: Leopardus pardalis\n",
      "Fecha: 2023-08-18\n",
      "Localidad: CG-BOR\n",
      "Longitud: -85.4147, Latitud: 10.819316\n",
      "----------------------------------------\n",
      "Especie: Leopardus pardalis\n",
      "Fecha: 2023-08-29\n",
      "Localidad: CG-BOR\n",
      "Longitud: -85.4147, Latitud: 10.819316\n",
      "----------------------------------------\n",
      "Especie: Leopardus pardalis\n",
      "Fecha: 2023-09-20\n",
      "Localidad: Siquirres\n",
      "Longitud: -83.561349, Latitud: 10.122824\n",
      "----------------------------------------\n",
      "Especie: Leopardus pardalis\n",
      "Fecha: 2023-09-20\n",
      "Localidad: Siquirres\n",
      "Longitud: -83.561349, Latitud: 10.122824\n",
      "----------------------------------------\n",
      "Especie: Leopardus pardalis\n",
      "Fecha: 2023-09-15\n",
      "Localidad: CG-BOR\n",
      "Longitud: -85.4147, Latitud: 10.819316\n",
      "----------------------------------------\n",
      "Especie: Leopardus pardalis\n",
      "Fecha: 2023-09-13\n",
      "Localidad: CG-BOR\n",
      "Longitud: -85.4147, Latitud: 10.819316\n",
      "----------------------------------------\n",
      "Especie: Leopardus pardalis\n",
      "Fecha: 2023-09-23\n",
      "Localidad: CG-BOR\n",
      "Longitud: -85.4147, Latitud: 10.819316\n",
      "----------------------------------------\n",
      "Especie: Leopardus pardalis\n",
      "Fecha: 2023-09-17\n",
      "Localidad: CG-BOR\n",
      "Longitud: -85.4147, Latitud: 10.819316\n",
      "----------------------------------------\n",
      "Especie: Leopardus pardalis\n",
      "Fecha: 2023-09-24\n",
      "Localidad: CG-BOR\n",
      "Longitud: -85.4147, Latitud: 10.819316\n",
      "----------------------------------------\n",
      "Especie: Leopardus pardalis\n",
      "Fecha: 2023-09-22\n",
      "Localidad: CG-BOR\n",
      "Longitud: -85.4147, Latitud: 10.819316\n",
      "----------------------------------------\n",
      "Especie: Leopardus pardalis\n",
      "Fecha: 2023-10-27T17:18:51\n",
      "Localidad: None\n",
      "Longitud: -82.813477, Latitud: 9.69372\n",
      "----------------------------------------\n",
      "Especie: Leopardus pardalis\n",
      "Fecha: 2023-10-31T21:04\n",
      "Localidad: None\n",
      "Longitud: -84.007143, Latitud: 10.430514\n",
      "----------------------------------------\n",
      "Especie: Leopardus pardalis\n",
      "Fecha: 2023-10-15\n",
      "Localidad: CG-BOR\n",
      "Longitud: -85.4147, Latitud: 10.819316\n",
      "----------------------------------------\n",
      "Especie: Leopardus pardalis\n",
      "Fecha: 2023-10-16\n",
      "Localidad: CG-BOR\n",
      "Longitud: -85.4147, Latitud: 10.819316\n",
      "----------------------------------------\n",
      "Especie: Leopardus pardalis\n",
      "Fecha: 2023-10-21\n",
      "Localidad: CG-PAI\n",
      "Longitud: -85.343174, Latitud: 10.762941\n",
      "----------------------------------------\n",
      "Especie: Leopardus pardalis\n",
      "Fecha: 2023-11-18\n",
      "Localidad: CG-BOR\n",
      "Longitud: -85.4147, Latitud: 10.819316\n",
      "----------------------------------------\n",
      "Especie: Leopardus pardalis\n",
      "Fecha: 2023-11-16\n",
      "Localidad: CG-BOR\n",
      "Longitud: -85.4147, Latitud: 10.819316\n",
      "----------------------------------------\n",
      "Especie: Leopardus pardalis\n",
      "Fecha: 2023-12-10T01:29:54\n",
      "Localidad: None\n",
      "Longitud: -83.338753, Latitud: 8.404278\n",
      "----------------------------------------\n",
      "Especie: Leopardus pardalis\n",
      "Fecha: 2023-12-12\n",
      "Localidad: CG-BOR\n",
      "Longitud: -85.4147, Latitud: 10.819316\n",
      "----------------------------------------\n",
      "Especie: Leopardus pardalis\n",
      "Fecha: 2022-02-23\n",
      "Localidad: OSA\n",
      "Longitud: -83.53547, Latitud: 8.75427\n",
      "----------------------------------------\n",
      "Especie: Leopardus pardalis\n",
      "Fecha: 2022-02-01T15:38:33Z\n",
      "Localidad: None\n",
      "Longitud: -84.702904, Latitud: 10.435938\n",
      "----------------------------------------\n",
      "Especie: Leopardus pardalis\n",
      "Fecha: 2022-02-24T04:04\n",
      "Localidad: None\n",
      "Longitud: -84.708005, Latitud: 10.439739\n",
      "----------------------------------------\n",
      "Especie: Leopardus pardalis\n",
      "Fecha: 2022-03-17\n",
      "Localidad: RINCON\n",
      "Longitud: -83.49307, Latitud: 8.70573\n",
      "----------------------------------------\n",
      "Especie: Leopardus pardalis\n",
      "Fecha: 2022-04-01\n",
      "Localidad: Estaciz\u0005xperimental Forestal Horizontes\n",
      "Longitud: -85.560203, Latitud: 10.763197\n",
      "----------------------------------------\n",
      "Especie: Leopardus pardalis\n",
      "Fecha: 2022-04-01\n",
      "Localidad: Estaciz\u0005xperimental Forestal Horizontes\n",
      "Longitud: -85.560203, Latitud: 10.763197\n",
      "----------------------------------------\n",
      "Especie: Leopardus pardalis\n",
      "Fecha: 2022-04-01\n",
      "Localidad: Estaciz\u0005xperimental Forestal Horizontes\n",
      "Longitud: -85.560203, Latitud: 10.763197\n",
      "----------------------------------------\n",
      "Especie: Leopardus pardalis\n",
      "Fecha: 2022-04-08\n",
      "Localidad: Estaciz\u0005xperimental Forestal Horizontes\n",
      "Longitud: -85.560203, Latitud: 10.763197\n",
      "----------------------------------------\n",
      "Especie: Leopardus pardalis\n",
      "Fecha: 2022-04-08\n",
      "Localidad: Estaciz\u0005xperimental Forestal Horizontes\n",
      "Longitud: -85.560203, Latitud: 10.763197\n",
      "----------------------------------------\n",
      "Especie: Leopardus pardalis\n",
      "Fecha: 2022-04-08\n",
      "Localidad: Estaciz\u0005xperimental Forestal Horizontes\n",
      "Longitud: -85.560203, Latitud: 10.763197\n",
      "----------------------------------------\n",
      "Especie: Leopardus pardalis\n",
      "Fecha: 2022-04-08\n",
      "Localidad: Estaciz\u0005xperimental Forestal Horizontes\n",
      "Longitud: -85.560203, Latitud: 10.763197\n",
      "----------------------------------------\n",
      "Especie: Leopardus pardalis\n",
      "Fecha: 2022-04-16\n",
      "Localidad: Estaciz\u0005xperimental Forestal Horizontes\n",
      "Longitud: -85.572084, Latitud: 10.738537\n",
      "----------------------------------------\n",
      "Especie: Leopardus pardalis\n",
      "Fecha: 2022-04-16\n",
      "Localidad: Estaciz\u0005xperimental Forestal Horizontes\n",
      "Longitud: -85.572084, Latitud: 10.738537\n",
      "----------------------------------------\n",
      "Especie: Leopardus pardalis\n",
      "Fecha: 2022-04-16\n",
      "Localidad: Estaciz\u0005xperimental Forestal Horizontes\n",
      "Longitud: -85.572084, Latitud: 10.738537\n",
      "----------------------------------------\n",
      "Especie: Leopardus pardalis\n",
      "Fecha: 2022-04-26\n",
      "Localidad: Estaciz\u0005xperimental Forestal Horizontes\n",
      "Longitud: -85.572084, Latitud: 10.738537\n",
      "----------------------------------------\n",
      "Especie: Leopardus pardalis\n",
      "Fecha: 2022-04-26\n",
      "Localidad: Estaciz\u0005xperimental Forestal Horizontes\n",
      "Longitud: -85.572084, Latitud: 10.738537\n",
      "----------------------------------------\n",
      "Especie: Leopardus pardalis\n",
      "Fecha: 2022-04-26\n",
      "Localidad: Estaciz\u0005xperimental Forestal Horizontes\n",
      "Longitud: -85.572084, Latitud: 10.738537\n",
      "----------------------------------------\n",
      "Especie: Leopardus pardalis\n",
      "Fecha: 2022-04-28T19:53\n",
      "Localidad: None\n",
      "Longitud: -84.022373, Latitud: 10.418203\n",
      "----------------------------------------\n",
      "Especie: Leopardus pardalis\n",
      "Fecha: 2022-05-03\n",
      "Localidad: Estaciz\u0005xperimental Forestal Horizontes\n",
      "Longitud: -85.572084, Latitud: 10.738537\n",
      "----------------------------------------\n",
      "Especie: Leopardus pardalis\n",
      "Fecha: 2022-05-03\n",
      "Localidad: Estaciz\u0005xperimental Forestal Horizontes\n",
      "Longitud: -85.572084, Latitud: 10.738537\n",
      "----------------------------------------\n",
      "Especie: Leopardus pardalis\n",
      "Fecha: 2022-05-03\n",
      "Localidad: Estaciz\u0005xperimental Forestal Horizontes\n",
      "Longitud: -85.572084, Latitud: 10.738537\n",
      "----------------------------------------\n",
      "Especie: Leopardus pardalis\n",
      "Fecha: 2022-05-18\n",
      "Localidad: RINCON\n",
      "Longitud: -83.49307, Latitud: 8.70573\n",
      "----------------------------------------\n",
      "Especie: Leopardus pardalis\n",
      "Fecha: 2022-05-18\n",
      "Localidad: RINCON\n",
      "Longitud: -83.49307, Latitud: 8.70573\n",
      "----------------------------------------\n",
      "Especie: Leopardus pardalis\n",
      "Fecha: 2022-05-24\n",
      "Localidad: Estaciz\u0005xperimental Forestal Horizontes\n",
      "Longitud: -85.572084, Latitud: 10.738537\n",
      "----------------------------------------\n",
      "Especie: Leopardus pardalis\n",
      "Fecha: 2022-05-24\n",
      "Localidad: Estaciz\u0005xperimental Forestal Horizontes\n",
      "Longitud: -85.572084, Latitud: 10.738537\n",
      "----------------------------------------\n",
      "Especie: Leopardus pardalis\n",
      "Fecha: 2022-05-24\n",
      "Localidad: Estaciz\u0005xperimental Forestal Horizontes\n",
      "Longitud: -85.572084, Latitud: 10.738537\n",
      "----------------------------------------\n",
      "Especie: Leopardus pardalis\n",
      "Fecha: 2022-05-25\n",
      "Localidad: RINCON\n",
      "Longitud: -83.49307, Latitud: 8.70573\n",
      "----------------------------------------\n",
      "Especie: Leopardus pardalis\n",
      "Fecha: 2022-05-26\n",
      "Localidad: Estaciz\u0005xperimental Forestal Horizontes\n",
      "Longitud: -85.572084, Latitud: 10.738537\n",
      "----------------------------------------\n",
      "Especie: Leopardus pardalis\n",
      "Fecha: 2022-05-26\n",
      "Localidad: Estaciz\u0005xperimental Forestal Horizontes\n",
      "Longitud: -85.572084, Latitud: 10.738537\n",
      "----------------------------------------\n",
      "Especie: Leopardus pardalis\n",
      "Fecha: 2022-05-26\n",
      "Localidad: Estaciz\u0005xperimental Forestal Horizontes\n",
      "Longitud: -85.572084, Latitud: 10.738537\n",
      "----------------------------------------\n",
      "Especie: Leopardus pardalis\n",
      "Fecha: 2022-05-27\n",
      "Localidad: Estaciz\u0005xperimental Forestal Horizontes\n",
      "Longitud: -85.572084, Latitud: 10.738537\n",
      "----------------------------------------\n",
      "Especie: Leopardus pardalis\n",
      "Fecha: 2022-05-27\n",
      "Localidad: Estaciz\u0005xperimental Forestal Horizontes\n",
      "Longitud: -85.572084, Latitud: 10.738537\n",
      "----------------------------------------\n",
      "Especie: Leopardus pardalis\n",
      "Fecha: 2022-05-27\n",
      "Localidad: Estaciz\u0005xperimental Forestal Horizontes\n",
      "Longitud: -85.572084, Latitud: 10.738537\n",
      "----------------------------------------\n",
      "Especie: Leopardus pardalis\n",
      "Fecha: 2022-05-31\n",
      "Localidad: Estaciz\u0005xperimental Forestal Horizontes\n",
      "Longitud: -85.572084, Latitud: 10.738537\n",
      "----------------------------------------\n",
      "Especie: Leopardus pardalis\n",
      "Fecha: 2022-05-31\n",
      "Localidad: Estaciz\u0005xperimental Forestal Horizontes\n",
      "Longitud: -85.572084, Latitud: 10.738537\n",
      "----------------------------------------\n",
      "Especie: Leopardus pardalis\n",
      "Fecha: 2022-05-31\n",
      "Localidad: Estaciz\u0005xperimental Forestal Horizontes\n",
      "Longitud: -85.572084, Latitud: 10.738537\n",
      "----------------------------------------\n",
      "Especie: Leopardus pardalis\n",
      "Fecha: 2022-05-05T03:03\n",
      "Localidad: None\n",
      "Longitud: -83.631163, Latitud: 8.68922\n",
      "----------------------------------------\n",
      "Especie: Leopardus pardalis\n",
      "Fecha: 2022-05-18T20:15\n",
      "Localidad: None\n",
      "Longitud: -85.594657, Latitud: 10.727115\n",
      "----------------------------------------\n",
      "Especie: Leopardus pardalis\n",
      "Fecha: 2022-08-02T16:03:49\n",
      "Localidad: None\n",
      "Longitud: -83.179177, Latitud: 8.81328\n",
      "----------------------------------------\n",
      "Especie: Leopardus pardalis\n",
      "Fecha: 2022-08-28T11:18:15\n",
      "Localidad: None\n",
      "Longitud: -85.061775, Latitud: 9.864578\n",
      "----------------------------------------\n",
      "Especie: Leopardus pardalis\n",
      "Fecha: 2022-09-22T22:06:05\n",
      "Localidad: None\n",
      "Longitud: -83.782706, Latitud: 10.158021\n",
      "----------------------------------------\n",
      "Especie: Leopardus pardalis\n",
      "Fecha: 2022-11-21T22:07\n",
      "Localidad: None\n",
      "Longitud: -85.232623, Latitud: 9.909449\n",
      "----------------------------------------\n",
      "Especie: Leopardus pardalis\n",
      "Fecha: 2022-12-24\n",
      "Localidad: Estaciz\u0005xperimental Forestal Horizontes\n",
      "Longitud: -85.5942, Latitud: 10.7154\n",
      "----------------------------------------\n",
      "Especie: Leopardus pardalis\n",
      "Fecha: 2022-12-28\n",
      "Localidad: Estaciz\u0005xperimental Forestal Horizontes\n",
      "Longitud: -85.57561, Latitud: 10.71445\n",
      "----------------------------------------\n",
      "Especie: Leopardus pardalis\n",
      "Fecha: 2022-12-31\n",
      "Localidad: Estaciz\u0005xperimental Forestal Horizontes\n",
      "Longitud: -85.57318, Latitud: 10.73641\n",
      "----------------------------------------\n",
      "Especie: Leopardus pardalis\n",
      "Fecha: 2021-01-02T06:42:09\n",
      "Localidad: None\n",
      "Longitud: -83.597682, Latitud: 8.478535\n",
      "----------------------------------------\n",
      "Especie: Leopardus pardalis\n",
      "Fecha: 2021-01-22T06:51\n",
      "Localidad: None\n",
      "Longitud: -84.406594, Latitud: 9.603693\n",
      "----------------------------------------\n",
      "Especie: Leopardus pardalis\n",
      "Fecha: 2021-03-07\n",
      "Localidad: AGUA BUENA-RINCŒ\n",
      "Longitud: -83.49971, Latitud: 8.69671\n",
      "----------------------------------------\n",
      "Especie: Leopardus pardalis\n",
      "Fecha: 2021-03-13\n",
      "Localidad: RANCHO QUEMADO\n",
      "Longitud: -83.57422, Latitud: 8.6847\n",
      "----------------------------------------\n",
      "Especie: Leopardus pardalis\n",
      "Fecha: 2021-04-02\n",
      "Localidad: AGUA BUENA-RINCŒ\n",
      "Longitud: -83.49971, Latitud: 8.69671\n",
      "----------------------------------------\n",
      "Especie: Leopardus pardalis\n",
      "Fecha: 2021-04-08\n",
      "Localidad: RANCHO QUEMADO\n",
      "Longitud: -83.55255, Latitud: 8.704\n",
      "----------------------------------------\n",
      "Especie: Leopardus pardalis\n",
      "Fecha: 2021-04-19\n",
      "Localidad: BAJO SAN JUAN\n",
      "Longitud: -83.52418, Latitud: 8.73739\n",
      "----------------------------------------\n",
      "Especie: Leopardus pardalis\n",
      "Fecha: 2021-05-07\n",
      "Localidad: AGUA BUENA-RINCŒ\n",
      "Longitud: -83.49971, Latitud: 8.69671\n",
      "----------------------------------------\n",
      "Especie: Leopardus pardalis\n",
      "Fecha: 2021-05-13\n",
      "Localidad: BAJO SAN JUAN\n",
      "Longitud: -83.52418, Latitud: 8.73739\n",
      "----------------------------------------\n",
      "Especie: Leopardus pardalis\n",
      "Fecha: 2021-05-13\n",
      "Localidad: BAJO SAN JUAN\n",
      "Longitud: -83.52418, Latitud: 8.73739\n",
      "----------------------------------------\n",
      "Especie: Leopardus pardalis\n",
      "Fecha: 2021-05-24\n",
      "Localidad: AGUA BUENA-RINCŒ\n",
      "Longitud: -83.49971, Latitud: 8.69671\n",
      "----------------------------------------\n",
      "Especie: Leopardus pardalis\n",
      "Fecha: 2021-05-12T07:37:27\n",
      "Localidad: None\n",
      "Longitud: -85.470129, Latitud: 11.049293\n",
      "----------------------------------------\n",
      "Especie: Leopardus pardalis\n",
      "Fecha: 2021-05-12\n",
      "Localidad: None\n",
      "Longitud: -83.475477, Latitud: 8.673717\n",
      "----------------------------------------\n",
      "Especie: Leopardus pardalis\n",
      "Fecha: 2021-06-19\n",
      "Localidad: RINCON\n",
      "Longitud: -83.49317, Latitud: 8.70559\n",
      "----------------------------------------\n",
      "Especie: Leopardus pardalis\n",
      "Fecha: 2021-06-24\n",
      "Localidad: Estaciz\u0005xperimental Forestal Horizontes\n",
      "Longitud: -85.5949, Latitud: 10.726964\n",
      "----------------------------------------\n",
      "Especie: Leopardus pardalis\n",
      "Fecha: 2021-06-01T11:45:30Z\n",
      "Localidad: None\n",
      "Longitud: -85.217745, Latitud: 9.747438\n",
      "----------------------------------------\n",
      "Especie: Leopardus pardalis\n",
      "Fecha: 2021-06-23T10:55Z\n",
      "Localidad: None\n",
      "Longitud: -84.996605, Latitud: 10.70198\n",
      "----------------------------------------\n",
      "Especie: Leopardus pardalis\n",
      "Fecha: 2021-07-01T19:28:25Z\n",
      "Localidad: None\n",
      "Longitud: -85.007923, Latitud: 10.715132\n",
      "----------------------------------------\n",
      "Especie: Leopardus pardalis\n",
      "Fecha: 2021-09-21T17:27\n",
      "Localidad: None\n",
      "Longitud: -85.582998, Latitud: 10.876837\n",
      "----------------------------------------\n",
      "Especie: Leopardus pardalis\n",
      "Fecha: 2021-10-16T17:06:39\n",
      "Localidad: None\n",
      "Longitud: -85.610634, Latitud: 10.859814\n",
      "----------------------------------------\n",
      "Especie: Leopardus pardalis\n",
      "Fecha: 2021-11-08T18:18:02\n",
      "Localidad: None\n",
      "Longitud: -84.629044, Latitud: 10.496224\n",
      "----------------------------------------\n",
      "Especie: Leopardus pardalis\n",
      "Fecha: 2021-11-01T08:55:25\n",
      "Localidad: None\n",
      "Longitud: -83.336273, Latitud: 8.395056\n",
      "----------------------------------------\n",
      "Especie: Leopardus pardalis\n",
      "Fecha: 2021-12-06T13:27:29Z\n",
      "Localidad: None\n",
      "Longitud: -83.55179, Latitud: 8.463965\n",
      "----------------------------------------\n",
      "Especie: Leopardus pardalis\n",
      "Fecha: 2020-01-26T09:17:36\n",
      "Localidad: None\n",
      "Longitud: -83.102224, Latitud: 8.593898\n",
      "----------------------------------------\n",
      "Especie: Leopardus pardalis\n",
      "Fecha: 2020-02-10T12:17\n",
      "Localidad: None\n",
      "Longitud: -84.520869, Latitud: 9.732353\n",
      "----------------------------------------\n",
      "Especie: Leopardus pardalis\n",
      "Fecha: 2020-02-24T12:25\n",
      "Localidad: None\n",
      "Longitud: -84.520869, Latitud: 9.732353\n",
      "----------------------------------------\n",
      "Especie: Leopardus pardalis\n",
      "Fecha: 2020-02-20T12:25\n",
      "Localidad: None\n",
      "Longitud: -84.520869, Latitud: 9.732353\n",
      "----------------------------------------\n",
      "Especie: Leopardus pardalis\n",
      "Fecha: 2020-02-23\n",
      "Localidad: BAHIA CHAL\n",
      "Longitud: -83.47666, Latitud: 8.74332\n",
      "----------------------------------------\n",
      "Especie: Leopardus pardalis\n",
      "Fecha: 2020-02-04T02:19\n",
      "Localidad: None\n",
      "Longitud: -83.217148, Latitud: 8.268703\n",
      "----------------------------------------\n",
      "Especie: Leopardus pardalis\n",
      "Fecha: 2020-02-28T12:38\n",
      "Localidad: None\n",
      "Longitud: -83.32932, Latitud: 8.40959\n",
      "----------------------------------------\n",
      "Especie: Leopardus pardalis\n",
      "Fecha: 2020-03-28\n",
      "Localidad: Estaciz\u0005xperimental Forestal Horizontes\n",
      "Longitud: -85.581042, Latitud: 10.750751\n",
      "----------------------------------------\n",
      "Especie: Leopardus pardalis\n",
      "Fecha: 2020-03-05\n",
      "Localidad: Estaciz\u0005xperimental Forestal Horizontes\n",
      "Longitud: -85.58641, Latitud: 10.747174\n",
      "----------------------------------------\n",
      "Especie: Leopardus pardalis\n",
      "Fecha: 2020-03-06\n",
      "Localidad: Estaciz\u0005xperimental Forestal Horizontes\n",
      "Longitud: -85.58641, Latitud: 10.747174\n",
      "----------------------------------------\n",
      "Especie: Leopardus pardalis\n",
      "Fecha: 2020-03-10\n",
      "Localidad: Estaciz\u0005xperimental Forestal Horizontes\n",
      "Longitud: -85.58641, Latitud: 10.747174\n",
      "----------------------------------------\n",
      "Especie: Leopardus pardalis\n",
      "Fecha: 2020-03-15\n",
      "Localidad: Estaciz\u0005xperimental Forestal Horizontes\n",
      "Longitud: -85.581042, Latitud: 10.750751\n",
      "----------------------------------------\n",
      "Especie: Leopardus pardalis\n",
      "Fecha: 2020-03-16\n",
      "Localidad: Estaciz\u0005xperimental Forestal Horizontes\n",
      "Longitud: -85.581042, Latitud: 10.750751\n",
      "----------------------------------------\n",
      "Especie: Leopardus pardalis\n",
      "Fecha: 2020-03-16\n",
      "Localidad: Estaciz\u0005xperimental Forestal Horizontes\n",
      "Longitud: -85.581042, Latitud: 10.750751\n",
      "----------------------------------------\n",
      "Especie: Leopardus pardalis\n",
      "Fecha: 2020-03-08\n",
      "Localidad: BAHIA CHAL\n",
      "Longitud: -83.47666, Latitud: 8.74332\n",
      "----------------------------------------\n",
      "Especie: Leopardus pardalis\n",
      "Fecha: 2020-03-02T15:49:11Z\n",
      "Localidad: None\n",
      "Longitud: -83.000376, Latitud: 9.731756\n",
      "----------------------------------------\n",
      "Especie: Leopardus pardalis\n",
      "Fecha: 2020-03-10T17:57\n",
      "Localidad: None\n",
      "Longitud: -83.753428, Latitud: 9.748917\n",
      "----------------------------------------\n",
      "Especie: Leopardus pardalis\n",
      "Fecha: 2020-04-01\n",
      "Localidad: Estaciz\u0005xperimental Forestal Horizontes\n",
      "Longitud: -85.581042, Latitud: 10.750751\n",
      "----------------------------------------\n",
      "Especie: Leopardus pardalis\n",
      "Fecha: 2020-04-21\n",
      "Localidad: Estaciz\u0005xperimental Forestal Horizontes\n",
      "Longitud: -85.581042, Latitud: 10.750751\n",
      "----------------------------------------\n",
      "Especie: Leopardus pardalis\n",
      "Fecha: 2020-04-21\n",
      "Localidad: Estaciz\u0005xperimental Forestal Horizontes\n",
      "Longitud: -85.581042, Latitud: 10.750751\n",
      "----------------------------------------\n",
      "Especie: Leopardus pardalis\n",
      "Fecha: 2020-04-04\n",
      "Localidad: BANEGAS\n",
      "Longitud: -83.52216, Latitud: 8.68169\n",
      "----------------------------------------\n",
      "Especie: Leopardus pardalis\n",
      "Fecha: 2020-05-13\n",
      "Localidad: Estaciz\u0005xperimental Forestal Horizontes\n",
      "Longitud: -85.581042, Latitud: 10.750751\n",
      "----------------------------------------\n",
      "Especie: Leopardus pardalis\n",
      "Fecha: 2020-05-18\n",
      "Localidad: Estaciz\u0005xperimental Forestal Horizontes\n",
      "Longitud: -85.581042, Latitud: 10.750751\n",
      "----------------------------------------\n",
      "Especie: Leopardus pardalis\n",
      "Fecha: 2020-05-18\n",
      "Localidad: Estaciz\u0005xperimental Forestal Horizontes\n",
      "Longitud: -85.581042, Latitud: 10.750751\n",
      "----------------------------------------\n",
      "Especie: Leopardus pardalis\n",
      "Fecha: 2020-05-17\n",
      "Localidad: AGUA BUENA-RINCŒ\n",
      "Longitud: -83.50166, Latitud: 8.69623\n",
      "----------------------------------------\n",
      "Especie: Leopardus pardalis\n",
      "Fecha: 2020-05-28\n",
      "Localidad: BANEGAS\n",
      "Longitud: -83.51392, Latitud: 8.65507\n",
      "----------------------------------------\n",
      "Especie: Leopardus pardalis\n",
      "Fecha: 2020-06-02\n",
      "Localidad: Estaciz\u0005xperimental Forestal Horizontes\n",
      "Longitud: -85.581042, Latitud: 10.750751\n",
      "----------------------------------------\n",
      "Especie: Leopardus pardalis\n",
      "Fecha: 2020-06-11\n",
      "Localidad: Estaciz\u0005xperimental Forestal Horizontes\n",
      "Longitud: -85.581042, Latitud: 10.750751\n",
      "----------------------------------------\n",
      "Especie: Leopardus pardalis\n",
      "Fecha: 2020-06-11\n",
      "Localidad: Estaciz\u0005xperimental Forestal Horizontes\n",
      "Longitud: -85.581042, Latitud: 10.750751\n",
      "----------------------------------------\n",
      "Especie: Leopardus pardalis\n",
      "Fecha: 2020-06-11\n",
      "Localidad: Estaciz\u0005xperimental Forestal Horizontes\n",
      "Longitud: -85.581042, Latitud: 10.750751\n",
      "----------------------------------------\n",
      "Especie: Leopardus pardalis\n",
      "Fecha: 2020-07-10\n",
      "Localidad: Estaciz\u0005xperimental Forestal Horizontes\n",
      "Longitud: -85.5949, Latitud: 10.726964\n",
      "----------------------------------------\n",
      "Especie: Leopardus pardalis\n",
      "Fecha: 2020-07-09\n",
      "Localidad: BANEGAS\n",
      "Longitud: -83.51392, Latitud: 8.65507\n",
      "----------------------------------------\n",
      "Especie: Leopardus pardalis\n",
      "Fecha: 2020-07-14\n",
      "Localidad: BANEGAS\n",
      "Longitud: -83.51392, Latitud: 8.65507\n",
      "----------------------------------------\n",
      "Especie: Leopardus pardalis\n",
      "Fecha: 2020-07-26\n",
      "Localidad: BANEGAS\n",
      "Longitud: -83.51392, Latitud: 8.65507\n",
      "----------------------------------------\n",
      "Especie: Leopardus pardalis\n",
      "Fecha: 2020-07-06T16:47\n",
      "Localidad: None\n",
      "Longitud: -84.811357, Latitud: 10.304527\n",
      "----------------------------------------\n",
      "Especie: Leopardus pardalis\n",
      "Fecha: 2020-08-13\n",
      "Localidad: Estaciz\u0005xperimental Forestal Horizontes\n",
      "Longitud: -85.5949, Latitud: 10.726964\n",
      "----------------------------------------\n",
      "Especie: Leopardus pardalis\n",
      "Fecha: 2020-08-21\n",
      "Localidad: AGUA BUENA-RINCŒ\n",
      "Longitud: -83.50166, Latitud: 8.69623\n",
      "----------------------------------------\n",
      "Especie: Leopardus pardalis\n",
      "Fecha: 2020-08-10T19:34:16\n",
      "Localidad: None\n",
      "Longitud: -83.826978, Latitud: 9.733884\n",
      "----------------------------------------\n",
      "Especie: Leopardus pardalis\n",
      "Fecha: 2020-09-26\n",
      "Localidad: Estaciz\u0005xperimental Forestal Horizontes\n",
      "Longitud: -85.5949, Latitud: 10.726964\n",
      "----------------------------------------\n",
      "Especie: Leopardus pardalis\n",
      "Fecha: 2020-10-18\n",
      "Localidad: Estaciz\u0005xperimental Forestal Horizontes\n",
      "Longitud: -85.5949, Latitud: 10.726964\n",
      "----------------------------------------\n",
      "Especie: Leopardus pardalis\n",
      "Fecha: 2020-10-29T18:30\n",
      "Localidad: None\n",
      "Longitud: -84.973446, Latitud: 10.607369\n",
      "----------------------------------------\n",
      "Especie: Leopardus pardalis\n",
      "Fecha: 2020-11-29T21:27:48Z\n",
      "Localidad: None\n",
      "Longitud: -83.553096, Latitud: 10.121712\n",
      "----------------------------------------\n",
      "Especie: Leopardus pardalis\n",
      "Fecha: 2020-12-13T03:47\n",
      "Localidad: None\n",
      "Longitud: -82.784176, Latitud: 9.642406\n",
      "----------------------------------------\n",
      "Especie: Leopardus pardalis\n",
      "Fecha: 2019-01-01\n",
      "Localidad: RANCHO QUEMADO\n",
      "Longitud: -83.58411, Latitud: 8.67738\n",
      "----------------------------------------\n",
      "Especie: Leopardus pardalis\n",
      "Fecha: 2019-02-01\n",
      "Localidad: RANCHO QUEMADO\n",
      "Longitud: -83.58411, Latitud: 8.67738\n",
      "----------------------------------------\n",
      "Especie: Leopardus pardalis\n",
      "Fecha: 2019-02-15\n",
      "Localidad: MOGOS\n",
      "Longitud: -83.40155, Latitud: 8.74807\n",
      "----------------------------------------\n",
      "Especie: Leopardus pardalis\n",
      "Fecha: 2019-02-15\n",
      "Localidad: MOGOS\n",
      "Longitud: -83.40155, Latitud: 8.74807\n",
      "----------------------------------------\n",
      "Especie: Leopardus pardalis\n",
      "Fecha: 2019-02-15\n",
      "Localidad: MOGOS\n",
      "Longitud: -83.40155, Latitud: 8.74807\n",
      "----------------------------------------\n",
      "Especie: Leopardus pardalis\n",
      "Fecha: 2019-02-18\n",
      "Localidad: MOGOS\n",
      "Longitud: -83.40155, Latitud: 8.74807\n",
      "----------------------------------------\n",
      "Especie: Leopardus pardalis\n",
      "Fecha: 2019-02-18\n",
      "Localidad: MOGOS\n",
      "Longitud: -83.40155, Latitud: 8.74807\n",
      "----------------------------------------\n",
      "Especie: Leopardus pardalis\n",
      "Fecha: 2019-02-18\n",
      "Localidad: MOGOS\n",
      "Longitud: -83.40155, Latitud: 8.74807\n",
      "----------------------------------------\n",
      "Especie: Leopardus pardalis\n",
      "Fecha: 2019-02-24\n",
      "Localidad: RANCHO QUEMADO\n",
      "Longitud: -83.57298, Latitud: 8.67672\n",
      "----------------------------------------\n",
      "Especie: Leopardus pardalis\n",
      "Fecha: 2019-02-28\n",
      "Localidad: MOGOS\n",
      "Longitud: -83.40155, Latitud: 8.74807\n",
      "----------------------------------------\n",
      "Especie: Leopardus pardalis\n",
      "Fecha: 2019-02-28\n",
      "Localidad: MOGOS\n",
      "Longitud: -83.40155, Latitud: 8.74807\n",
      "----------------------------------------\n",
      "Especie: Leopardus pardalis\n",
      "Fecha: 2019-02-28\n",
      "Localidad: MOGOS\n",
      "Longitud: -83.40155, Latitud: 8.74807\n",
      "----------------------------------------\n",
      "Especie: Leopardus pardalis\n",
      "Fecha: 2019-02-28\n",
      "Localidad: MOGOS\n",
      "Longitud: -83.40155, Latitud: 8.74807\n",
      "----------------------------------------\n",
      "Especie: Leopardus pardalis\n",
      "Fecha: 2019-02-28\n",
      "Localidad: MOGOS\n",
      "Longitud: -83.40155, Latitud: 8.74807\n",
      "----------------------------------------\n",
      "Especie: Leopardus pardalis\n",
      "Fecha: 2019-02-28\n",
      "Localidad: MOGOS\n",
      "Longitud: -83.40155, Latitud: 8.74807\n",
      "----------------------------------------\n",
      "Especie: Leopardus pardalis\n",
      "Fecha: 2019-02-22T12:25\n",
      "Localidad: None\n",
      "Longitud: -84.520869, Latitud: 9.732353\n",
      "----------------------------------------\n",
      "Especie: Leopardus pardalis\n",
      "Fecha: 2019-02-13T13:53:04\n",
      "Localidad: None\n",
      "Longitud: -83.639285, Latitud: 10.191534\n",
      "----------------------------------------\n",
      "Especie: Leopardus pardalis\n",
      "Fecha: 2019-03-09\n",
      "Localidad: RANCHO QUEMADO\n",
      "Longitud: -83.57298, Latitud: 8.67672\n",
      "----------------------------------------\n",
      "Especie: Leopardus pardalis\n",
      "Fecha: 2019-03-25\n",
      "Localidad: BANEGAS\n",
      "Longitud: -83.52247, Latitud: 8.68312\n",
      "----------------------------------------\n",
      "Especie: Leopardus pardalis\n",
      "Fecha: 2019-03-25\n",
      "Localidad: RANCHO QUEMADO\n",
      "Longitud: -83.57298, Latitud: 8.67672\n",
      "----------------------------------------\n",
      "Especie: Leopardus pardalis\n",
      "Fecha: 2019-03-25\n",
      "Localidad: RANCHO QUEMADO\n",
      "Longitud: -83.57298, Latitud: 8.67672\n",
      "----------------------------------------\n",
      "Especie: Leopardus pardalis\n",
      "Fecha: 2019-03-25\n",
      "Localidad: RANCHO QUEMADO\n",
      "Longitud: -83.57298, Latitud: 8.67672\n",
      "----------------------------------------\n",
      "Especie: Leopardus pardalis\n",
      "Fecha: 2019-03-25\n",
      "Localidad: RANCHO QUEMADO\n",
      "Longitud: -83.57298, Latitud: 8.67672\n",
      "----------------------------------------\n",
      "Especie: Leopardus pardalis\n",
      "Fecha: 2019-03-25\n",
      "Localidad: RANCHO QUEMADO\n",
      "Longitud: -83.57298, Latitud: 8.67672\n",
      "----------------------------------------\n",
      "Especie: Leopardus pardalis\n",
      "Fecha: 2019-03-25\n",
      "Localidad: RANCHO QUEMADO\n",
      "Longitud: -83.57298, Latitud: 8.67672\n",
      "----------------------------------------\n",
      "Especie: Leopardus pardalis\n",
      "Fecha: 2019-03-25\n",
      "Localidad: RANCHO QUEMADO\n",
      "Longitud: -83.57298, Latitud: 8.67672\n",
      "----------------------------------------\n",
      "Especie: Leopardus pardalis\n",
      "Fecha: 2019-03-26\n",
      "Localidad: RANCHO QUEMADO\n",
      "Longitud: -83.57298, Latitud: 8.67672\n",
      "----------------------------------------\n",
      "Especie: Leopardus pardalis\n",
      "Fecha: 2019-03-27\n",
      "Localidad: RANCHO QUEMADO\n",
      "Longitud: -83.58411, Latitud: 8.67738\n",
      "----------------------------------------\n",
      "Especie: Leopardus pardalis\n",
      "Fecha: 2019-03-29\n",
      "Localidad: RANCHO QUEMADO\n",
      "Longitud: -83.55246, Latitud: 8.70394\n",
      "----------------------------------------\n",
      "Especie: Leopardus pardalis\n",
      "Fecha: 2019-03-29\n",
      "Localidad: RANCHO QUEMADO\n",
      "Longitud: -83.55246, Latitud: 8.70394\n",
      "----------------------------------------\n",
      "Especie: Leopardus pardalis\n",
      "Fecha: 2019-03-29\n",
      "Localidad: RANCHO QUEMADO\n",
      "Longitud: -83.55246, Latitud: 8.70394\n",
      "----------------------------------------\n",
      "Especie: Leopardus pardalis\n",
      "Fecha: 2019-03-09\n",
      "Localidad: Work with Nature - Reserve\n",
      "Longitud: -83.355003, Latitud: 10.004927\n",
      "----------------------------------------\n",
      "Especie: Leopardus pardalis\n",
      "Fecha: 2019-03-29\n",
      "Localidad: RANCHO QUEMADO\n",
      "Longitud: -83.55246, Latitud: 8.70394\n",
      "----------------------------------------\n",
      "Especie: Leopardus pardalis\n",
      "Fecha: 2019-04-03\n",
      "Localidad: RANCHO QUEMADO\n",
      "Longitud: -83.58411, Latitud: 8.67738\n",
      "----------------------------------------\n",
      "Especie: Leopardus pardalis\n",
      "Fecha: 2019-04-05\n",
      "Localidad: MOGOS\n",
      "Longitud: -83.39588, Latitud: 8.74224\n",
      "----------------------------------------\n",
      "Especie: Leopardus pardalis\n",
      "Fecha: 2019-04-07\n",
      "Localidad: RANCHO QUEMADO\n",
      "Longitud: -83.58411, Latitud: 8.67738\n",
      "----------------------------------------\n",
      "Especie: Leopardus pardalis\n",
      "Fecha: 2019-04-14\n",
      "Localidad: RANCHO QUEMADO\n",
      "Longitud: -83.58411, Latitud: 8.67738\n",
      "----------------------------------------\n",
      "Se han guardado 300 registros de presencia en el archivo 'registros-presencia-ocelote.geojson'\n"
     ]
    }
   ],
   "source": [
    "import requests\n",
    "import json\n",
    "\n",
    "def obtener_taxon_key(nombre_cientifico):\n",
    "    url = 'https://api.gbif.org/v1/species/match'\n",
    "\n",
    "    parametros = {\n",
    "        'name': nombre_cientifico,\n",
    "        'strict': True  # Asegura una coincidencia exacta\n",
    "    }\n",
    "\n",
    "    respuesta = requests.get(url, params=parametros)\n",
    "    \n",
    "    if respuesta.status_code == 200:\n",
    "        datos = respuesta.json()\n",
    "        \n",
    "        # Se revisa si la llave usageKy está presente en datos\n",
    "        if 'usageKey' in datos:\n",
    "            return datos['usageKey']\n",
    "        else:\n",
    "            return None\n",
    "    else:\n",
    "        return None\n",
    "\n",
    "# Nombre científico de la especie\n",
    "nombre_cientifico = 'Leopardus pardalis'\n",
    "\n",
    "# taxonKey de la especie\n",
    "taxon_key = obtener_taxon_key(nombre_cientifico)\n",
    "\n",
    "if taxon_key:\n",
    "    # Se encontró el taxonKey\n",
    "\n",
    "    # URL\n",
    "    url = 'https://api.gbif.org/v1/occurrence/search'\n",
    "\n",
    "    # Parámetros de la solicitud GET\n",
    "    parametros = {\n",
    "        'country': 'CR',          # Código de país ISO para Costa Rica\n",
    "        'taxonKey': taxon_key,\n",
    "        'limit': 300,             # Número máximo de registros a obtener (máximo 300 por solicitud)\n",
    "        'hasCoordinate': 'true',   # Solo se incluyen registros de presencia con coordenadas\n",
    "        'year': '2014,2024'  # Rango de años especificado\n",
    "    }\n",
    "\n",
    "    # Solicitud GET\n",
    "    respuesta = requests.get(url, params=parametros)\n",
    "\n",
    "    # Se verifica si la solicitud fue exitosa\n",
    "    if respuesta.status_code == 200:\n",
    "        # La solicitud fue exitosa\n",
    "\n",
    "        # Se cargan en formato JSON los datos retornados\n",
    "        datos_registros = respuesta.json()\n",
    "\n",
    "        # Se extraen las ocurrencias\n",
    "        registros = datos_registros['results']\n",
    "\n",
    "        # Lista para las features de GeoJSON\n",
    "        features = []\n",
    "\n",
    "        # Se recorren los datos de registros de presencia y se convierten a features GeoJSON\n",
    "        for registro in registros:\n",
    "            especie = registro.get('species')\n",
    "            fecha = registro.get('eventDate')\n",
    "            localidad = registro.get('locality')\n",
    "            latitud = registro.get('decimalLatitude')\n",
    "            longitud = registro.get('decimalLongitude')\n",
    "\n",
    "            print(f\"Especie: {especie}\")\n",
    "            print(f\"Fecha: {fecha}\")\n",
    "            print(f\"Localidad: {localidad}\")\n",
    "            print(f\"Longitud: {longitud}, Latitud: {latitud}\")\n",
    "            print(\"-\" * 40)        \n",
    "\n",
    "            # Se verifica que las coordenadas están presentes\n",
    "            if latitud is not None and longitud is not None:\n",
    "                feature = {\n",
    "                    \"type\": \"Feature\",\n",
    "                    \"geometry\": {\n",
    "                        \"type\": \"Point\",\n",
    "                        \"coordinates\": [longitud, latitud]  # GeoJSON utiliza el orden [longitud, latitud]\n",
    "                    },\n",
    "                    \"properties\": {\n",
    "                        \"species\": especie,\n",
    "                        \"eventDate\": fecha,\n",
    "                        \"locality\": localidad\n",
    "                    }\n",
    "                }\n",
    "                features.append(feature)\n",
    "\n",
    "# Crear el FeatureCollection GeoJSON\n",
    "        geojson = {\n",
    "            \"type\": \"FeatureCollection\",\n",
    "            \"features\": features\n",
    "        }\n",
    "\n",
    "        # Almacenamiento de datos en un archivo llamado \"datos-registros-presencia.geojson\"\n",
    "        with open('registros-presencia-ocelote.geojson', 'w', encoding='utf-8') as archivo:\n",
    "            json.dump(geojson, archivo, indent=4, ensure_ascii=False)\n",
    "\n",
    "        print(f\"Se han guardado {len(features)} registros de presencia en el archivo 'registros-presencia-ocelote.geojson'\")\n",
    "    else:\n",
    "        # Se produjo un error\n",
    "        print(f\"Error {respuesta.status_code}\")\n",
    "else:\n",
    "    print(f'No se encontró el taxonKey de {nombre_cientifico}')"
   ]
  },
  {
   "cell_type": "markdown",
   "metadata": {},
   "source": [
    "## Puma *(Puma concolor)*"
   ]
  },
  {
   "cell_type": "code",
   "execution_count": 5,
   "metadata": {},
   "outputs": [
    {
     "name": "stdout",
     "output_type": "stream",
     "text": [
      "Especie: Puma concolor\n",
      "Fecha: 2024-01-06T12:34:16\n",
      "Localidad: None\n",
      "Longitud: -85.107174, Latitud: 9.567627\n",
      "----------------------------------------\n",
      "Especie: Puma concolor\n",
      "Fecha: 2024-01-28T14:51\n",
      "Localidad: None\n",
      "Longitud: -85.092885, Latitud: 9.587534\n",
      "----------------------------------------\n",
      "Especie: Puma concolor\n",
      "Fecha: 2024-01-30T11:47\n",
      "Localidad: None\n",
      "Longitud: -85.092885, Latitud: 9.587534\n",
      "----------------------------------------\n",
      "Especie: Puma concolor\n",
      "Fecha: 2024-02-23T12:11:01\n",
      "Localidad: None\n",
      "Longitud: -84.010025, Latitud: 10.436928\n",
      "----------------------------------------\n",
      "Especie: Puma concolor\n",
      "Fecha: 2024-02-29T10:23:18\n",
      "Localidad: None\n",
      "Longitud: -83.068877, Latitud: 9.811892\n",
      "----------------------------------------\n",
      "Especie: Puma concolor\n",
      "Fecha: 2024-02-20T12:22:26\n",
      "Localidad: None\n",
      "Longitud: -83.732378, Latitud: 8.639435\n",
      "----------------------------------------\n",
      "Especie: Puma concolor\n",
      "Fecha: 2024-03-20T07:26\n",
      "Localidad: None\n",
      "Longitud: -84.470609, Latitud: 10.028272\n",
      "----------------------------------------\n",
      "Especie: Puma concolor\n",
      "Fecha: 2024-05-05T08:02:05\n",
      "Localidad: None\n",
      "Longitud: -83.781883, Latitud: 9.703638\n",
      "----------------------------------------\n",
      "Especie: Puma concolor\n",
      "Fecha: 2024-05-04T16:47:34\n",
      "Localidad: None\n",
      "Longitud: -85.057788, Latitud: 9.870732\n",
      "----------------------------------------\n",
      "Especie: Puma concolor\n",
      "Fecha: 2024-05-16\n",
      "Localidad: None\n",
      "Longitud: -83.729549, Latitud: 8.638793\n",
      "----------------------------------------\n",
      "Especie: Puma concolor\n",
      "Fecha: 2024-07-15T12:26:50\n",
      "Localidad: None\n",
      "Longitud: -85.060768, Latitud: 9.865877\n",
      "----------------------------------------\n",
      "Especie: Puma concolor\n",
      "Fecha: 2024-08-26T21:26\n",
      "Localidad: None\n",
      "Longitud: -84.00935, Latitud: 10.429334\n",
      "----------------------------------------\n",
      "Especie: Puma concolor\n",
      "Fecha: 2024-09-06T14:54:21\n",
      "Localidad: None\n",
      "Longitud: -83.546646, Latitud: 8.531232\n",
      "----------------------------------------\n",
      "Especie: Puma concolor\n",
      "Fecha: 2024-10-02T05:41\n",
      "Localidad: None\n",
      "Longitud: -84.381533, Latitud: 9.614115\n",
      "----------------------------------------\n",
      "Especie: Puma concolor\n",
      "Fecha: 2024-10-04\n",
      "Localidad: None\n",
      "Longitud: -85.608252, Latitud: 10.876291\n",
      "----------------------------------------\n",
      "Especie: Puma concolor\n",
      "Fecha: 2023-01-23\n",
      "Localidad: CG-BOR\n",
      "Longitud: -85.4147, Latitud: 10.819316\n",
      "----------------------------------------\n",
      "Especie: Puma concolor\n",
      "Fecha: 2023-02-18\n",
      "Localidad: SIERPE\n",
      "Longitud: -83.49311, Latitud: 8.81811\n",
      "----------------------------------------\n",
      "Especie: Puma concolor\n",
      "Fecha: 2023-02-18\n",
      "Localidad: SIERPE\n",
      "Longitud: -83.49311, Latitud: 8.81811\n",
      "----------------------------------------\n",
      "Especie: Puma concolor\n",
      "Fecha: 2023-02-22\n",
      "Localidad: SIERPE\n",
      "Longitud: -83.49311, Latitud: 8.81811\n",
      "----------------------------------------\n",
      "Especie: Puma concolor\n",
      "Fecha: 2023-02-23\n",
      "Localidad: CG-BOR\n",
      "Longitud: -85.4147, Latitud: 10.819316\n",
      "----------------------------------------\n",
      "Especie: Puma concolor\n",
      "Fecha: 2023-02-16\n",
      "Localidad: CG-AMP\n",
      "Longitud: -85.176346, Latitud: 10.69997\n",
      "----------------------------------------\n",
      "Especie: Puma concolor\n",
      "Fecha: 2023-03-31T07:19:04\n",
      "Localidad: None\n",
      "Longitud: -83.858868, Latitud: 9.303049\n",
      "----------------------------------------\n",
      "Especie: Puma concolor\n",
      "Fecha: 2023-03-03\n",
      "Localidad: CG-BOR\n",
      "Longitud: -85.4147, Latitud: 10.819316\n",
      "----------------------------------------\n",
      "Especie: Puma concolor\n",
      "Fecha: 2023-04-12T10:09:52\n",
      "Localidad: None\n",
      "Longitud: -84.115868, Latitud: 10.411692\n",
      "----------------------------------------\n",
      "Especie: Puma concolor\n",
      "Fecha: 2023-05-19\n",
      "Localidad: CG-BOR\n",
      "Longitud: -85.4147, Latitud: 10.819316\n",
      "----------------------------------------\n",
      "Especie: Puma concolor\n",
      "Fecha: 2023-05-18\n",
      "Localidad: CG-BOR\n",
      "Longitud: -85.4147, Latitud: 10.819316\n",
      "----------------------------------------\n",
      "Especie: Puma concolor\n",
      "Fecha: 2023-05-23\n",
      "Localidad: RINCON\n",
      "Longitud: -83.49329, Latitud: 8.70584\n",
      "----------------------------------------\n",
      "Especie: Puma concolor\n",
      "Fecha: 2023-06-11T13:48:20\n",
      "Localidad: None\n",
      "Longitud: -83.29222, Latitud: 8.379349\n",
      "----------------------------------------\n",
      "Especie: Puma concolor\n",
      "Fecha: 2023-06-30T10:48\n",
      "Localidad: None\n",
      "Longitud: -83.363318, Latitud: 8.751061\n",
      "----------------------------------------\n",
      "Especie: Puma concolor\n",
      "Fecha: 2023-06-09\n",
      "Localidad: RINCON\n",
      "Longitud: -83.49329, Latitud: 8.70584\n",
      "----------------------------------------\n",
      "Especie: Puma concolor\n",
      "Fecha: 2023-06-09\n",
      "Localidad: RINCON\n",
      "Longitud: -83.49329, Latitud: 8.70584\n",
      "----------------------------------------\n",
      "Especie: Puma concolor\n",
      "Fecha: 2023-06-19\n",
      "Localidad: RINCON\n",
      "Longitud: -83.49329, Latitud: 8.70584\n",
      "----------------------------------------\n",
      "Especie: Puma concolor\n",
      "Fecha: 2023-06-19\n",
      "Localidad: RINCON\n",
      "Longitud: -83.49329, Latitud: 8.70584\n",
      "----------------------------------------\n",
      "Especie: Puma concolor\n",
      "Fecha: 2023-07-13T20:35\n",
      "Localidad: None\n",
      "Longitud: -83.577721, Latitud: 9.471794\n",
      "----------------------------------------\n",
      "Especie: Puma concolor\n",
      "Fecha: 2023-07-16\n",
      "Localidad: CG-BOR\n",
      "Longitud: -85.4147, Latitud: 10.819316\n",
      "----------------------------------------\n",
      "Especie: Puma concolor\n",
      "Fecha: 2023-07-31\n",
      "Localidad: CG-BOR\n",
      "Longitud: -85.4147, Latitud: 10.819316\n",
      "----------------------------------------\n",
      "Especie: Puma concolor\n",
      "Fecha: 2023-08-20\n",
      "Localidad: CG-BOR\n",
      "Longitud: -85.4147, Latitud: 10.819316\n",
      "----------------------------------------\n",
      "Especie: Puma concolor\n",
      "Fecha: 2023-08-30\n",
      "Localidad: CG-BOR\n",
      "Longitud: -85.4147, Latitud: 10.819316\n",
      "----------------------------------------\n",
      "Especie: Puma concolor\n",
      "Fecha: 2023-09-15T11:47\n",
      "Localidad: None\n",
      "Longitud: -83.825205, Latitud: 9.236382\n",
      "----------------------------------------\n",
      "Especie: Puma concolor\n",
      "Fecha: 2023-09-16\n",
      "Localidad: CG-BOR\n",
      "Longitud: -85.4147, Latitud: 10.819316\n",
      "----------------------------------------\n",
      "Especie: Puma concolor\n",
      "Fecha: 2023-09-18\n",
      "Localidad: CG-BOR\n",
      "Longitud: -85.4147, Latitud: 10.819316\n",
      "----------------------------------------\n",
      "Especie: Puma concolor\n",
      "Fecha: 2023-09-19\n",
      "Localidad: CG-BOR\n",
      "Longitud: -85.4147, Latitud: 10.819316\n",
      "----------------------------------------\n",
      "Especie: Puma concolor\n",
      "Fecha: 2023-10-03T09:09:02\n",
      "Localidad: None\n",
      "Longitud: -84.60463, Latitud: 9.774725\n",
      "----------------------------------------\n",
      "Especie: Puma concolor\n",
      "Fecha: 2023-10-16T11:32:57\n",
      "Localidad: None\n",
      "Longitud: -83.577372, Latitud: 9.093135\n",
      "----------------------------------------\n",
      "Especie: Puma concolor\n",
      "Fecha: 2023-10-19\n",
      "Localidad: CG-PAI\n",
      "Longitud: -85.343174, Latitud: 10.762941\n",
      "----------------------------------------\n",
      "Especie: Puma concolor\n",
      "Fecha: 2023-11-21T08:43:34\n",
      "Localidad: None\n",
      "Longitud: -85.348022, Latitud: 10.324298\n",
      "----------------------------------------\n",
      "Especie: Puma concolor\n",
      "Fecha: 2023-11-16\n",
      "Localidad: CG-BOR\n",
      "Longitud: -85.4147, Latitud: 10.819316\n",
      "----------------------------------------\n",
      "Especie: Puma concolor\n",
      "Fecha: 2023-12-27T13:00:04\n",
      "Localidad: None\n",
      "Longitud: -85.713924, Latitud: 10.294338\n",
      "----------------------------------------\n",
      "Especie: Puma concolor\n",
      "Fecha: 2023-12-24T10:02\n",
      "Localidad: None\n",
      "Longitud: -83.762271, Latitud: 8.625625\n",
      "----------------------------------------\n",
      "Especie: Puma concolor\n",
      "Fecha: 2022-01-10T11:48:59\n",
      "Localidad: None\n",
      "Longitud: -83.734288, Latitud: 8.619177\n",
      "----------------------------------------\n",
      "Especie: Puma concolor\n",
      "Fecha: 2022-03-08\n",
      "Localidad: BAJO SAN JUAN\n",
      "Longitud: -83.52402, Latitud: 8.74288\n",
      "----------------------------------------\n",
      "Especie: Puma concolor\n",
      "Fecha: 2022-03-10\n",
      "Localidad: RINCON\n",
      "Longitud: -83.49377, Latitud: 8.70544\n",
      "----------------------------------------\n",
      "Especie: Puma concolor\n",
      "Fecha: 2022-03-10\n",
      "Localidad: RINCON\n",
      "Longitud: -83.49377, Latitud: 8.70544\n",
      "----------------------------------------\n",
      "Especie: Puma concolor\n",
      "Fecha: 2022-03-17\n",
      "Localidad: RINCON\n",
      "Longitud: -83.49377, Latitud: 8.70544\n",
      "----------------------------------------\n",
      "Especie: Puma concolor\n",
      "Fecha: 2022-03-18\n",
      "Localidad: RINCON\n",
      "Longitud: -83.49377, Latitud: 8.70544\n",
      "----------------------------------------\n",
      "Especie: Puma concolor\n",
      "Fecha: 2022-03-18\n",
      "Localidad: RINCON\n",
      "Longitud: -83.49377, Latitud: 8.70544\n",
      "----------------------------------------\n",
      "Especie: Puma concolor\n",
      "Fecha: 2022-04-03\n",
      "Localidad: Estaciz\u0005xperimental Forestal Horizontes\n",
      "Longitud: -85.560203, Latitud: 10.763197\n",
      "----------------------------------------\n",
      "Especie: Puma concolor\n",
      "Fecha: 2022-04-03\n",
      "Localidad: Estaciz\u0005xperimental Forestal Horizontes\n",
      "Longitud: -85.560203, Latitud: 10.763197\n",
      "----------------------------------------\n",
      "Especie: Puma concolor\n",
      "Fecha: 2022-04-03\n",
      "Localidad: Estaciz\u0005xperimental Forestal Horizontes\n",
      "Longitud: -85.560203, Latitud: 10.763197\n",
      "----------------------------------------\n",
      "Especie: Puma concolor\n",
      "Fecha: 2022-04-06\n",
      "Localidad: Estaciz\u0005xperimental Forestal Horizontes\n",
      "Longitud: -85.572084, Latitud: 10.738537\n",
      "----------------------------------------\n",
      "Especie: Puma concolor\n",
      "Fecha: 2022-04-06\n",
      "Localidad: Estaciz\u0005xperimental Forestal Horizontes\n",
      "Longitud: -85.572084, Latitud: 10.738537\n",
      "----------------------------------------\n",
      "Especie: Puma concolor\n",
      "Fecha: 2022-04-06\n",
      "Localidad: Estaciz\u0005xperimental Forestal Horizontes\n",
      "Longitud: -85.572084, Latitud: 10.738537\n",
      "----------------------------------------\n",
      "Especie: Puma concolor\n",
      "Fecha: 2022-04-07\n",
      "Localidad: Estaciz\u0005xperimental Forestal Horizontes\n",
      "Longitud: -85.560203, Latitud: 10.763197\n",
      "----------------------------------------\n",
      "Especie: Puma concolor\n",
      "Fecha: 2022-04-07\n",
      "Localidad: Estaciz\u0005xperimental Forestal Horizontes\n",
      "Longitud: -85.560203, Latitud: 10.763197\n",
      "----------------------------------------\n",
      "Especie: Puma concolor\n",
      "Fecha: 2022-04-07\n",
      "Localidad: Estaciz\u0005xperimental Forestal Horizontes\n",
      "Longitud: -85.560203, Latitud: 10.763197\n",
      "----------------------------------------\n",
      "Especie: Puma concolor\n",
      "Fecha: 2022-04-07\n",
      "Localidad: RINCON\n",
      "Longitud: -83.49307, Latitud: 8.70573\n",
      "----------------------------------------\n",
      "Especie: Puma concolor\n",
      "Fecha: 2022-04-11\n",
      "Localidad: RINCON\n",
      "Longitud: -83.49307, Latitud: 8.70573\n",
      "----------------------------------------\n",
      "Especie: Puma concolor\n",
      "Fecha: 2022-04-15\n",
      "Localidad: Estaciz\u0005xperimental Forestal Horizontes\n",
      "Longitud: -85.560203, Latitud: 10.763197\n",
      "----------------------------------------\n",
      "Especie: Puma concolor\n",
      "Fecha: 2022-04-15\n",
      "Localidad: Estaciz\u0005xperimental Forestal Horizontes\n",
      "Longitud: -85.560203, Latitud: 10.763197\n",
      "----------------------------------------\n",
      "Especie: Puma concolor\n",
      "Fecha: 2022-04-15\n",
      "Localidad: Estaciz\u0005xperimental Forestal Horizontes\n",
      "Longitud: -85.560203, Latitud: 10.763197\n",
      "----------------------------------------\n",
      "Especie: Puma concolor\n",
      "Fecha: 2022-04-16\n",
      "Localidad: Estaciz\u0005xperimental Forestal Horizontes\n",
      "Longitud: -85.560203, Latitud: 10.763197\n",
      "----------------------------------------\n",
      "Especie: Puma concolor\n",
      "Fecha: 2022-04-16\n",
      "Localidad: Estaciz\u0005xperimental Forestal Horizontes\n",
      "Longitud: -85.560203, Latitud: 10.763197\n",
      "----------------------------------------\n",
      "Especie: Puma concolor\n",
      "Fecha: 2022-04-16\n",
      "Localidad: Estaciz\u0005xperimental Forestal Horizontes\n",
      "Longitud: -85.560203, Latitud: 10.763197\n",
      "----------------------------------------\n",
      "Especie: Puma concolor\n",
      "Fecha: 2022-04-28\n",
      "Localidad: Estaciz\u0005xperimental Forestal Horizontes\n",
      "Longitud: -85.560203, Latitud: 10.763197\n",
      "----------------------------------------\n",
      "Especie: Puma concolor\n",
      "Fecha: 2022-04-28\n",
      "Localidad: Estaciz\u0005xperimental Forestal Horizontes\n",
      "Longitud: -85.560203, Latitud: 10.763197\n",
      "----------------------------------------\n",
      "Especie: Puma concolor\n",
      "Fecha: 2022-04-28\n",
      "Localidad: Estaciz\u0005xperimental Forestal Horizontes\n",
      "Longitud: -85.560203, Latitud: 10.763197\n",
      "----------------------------------------\n",
      "Especie: Puma concolor\n",
      "Fecha: 2022-04-30\n",
      "Localidad: Estaciz\u0005xperimental Forestal Horizontes\n",
      "Longitud: -85.572084, Latitud: 10.738537\n",
      "----------------------------------------\n",
      "Especie: Puma concolor\n",
      "Fecha: 2022-04-30\n",
      "Localidad: Estaciz\u0005xperimental Forestal Horizontes\n",
      "Longitud: -85.572084, Latitud: 10.738537\n",
      "----------------------------------------\n",
      "Especie: Puma concolor\n",
      "Fecha: 2022-04-30\n",
      "Localidad: Estaciz\u0005xperimental Forestal Horizontes\n",
      "Longitud: -85.572084, Latitud: 10.738537\n",
      "----------------------------------------\n",
      "Especie: Puma concolor\n",
      "Fecha: 2022-04-22T08:37:10\n",
      "Localidad: None\n",
      "Longitud: -83.587722, Latitud: 8.458567\n",
      "----------------------------------------\n",
      "Especie: Puma concolor\n",
      "Fecha: 2022-04-08T17:13:22\n",
      "Localidad: None\n",
      "Longitud: -83.587044, Latitud: 8.458845\n",
      "----------------------------------------\n",
      "Especie: Puma concolor\n",
      "Fecha: 2022-04-22T14:30:01\n",
      "Localidad: None\n",
      "Longitud: -83.588478, Latitud: 8.463374\n",
      "----------------------------------------\n",
      "Especie: Puma concolor\n",
      "Fecha: 2022-05-10\n",
      "Localidad: Estaciz\u0005xperimental Forestal Horizontes\n",
      "Longitud: -85.560203, Latitud: 10.763197\n",
      "----------------------------------------\n",
      "Especie: Puma concolor\n",
      "Fecha: 2022-05-10\n",
      "Localidad: Estaciz\u0005xperimental Forestal Horizontes\n",
      "Longitud: -85.560203, Latitud: 10.763197\n",
      "----------------------------------------\n",
      "Especie: Puma concolor\n",
      "Fecha: 2022-05-10\n",
      "Localidad: Estaciz\u0005xperimental Forestal Horizontes\n",
      "Longitud: -85.560203, Latitud: 10.763197\n",
      "----------------------------------------\n",
      "Especie: Puma concolor\n",
      "Fecha: 2022-05-24\n",
      "Localidad: Estaciz\u0005xperimental Forestal Horizontes\n",
      "Longitud: -85.560203, Latitud: 10.763197\n",
      "----------------------------------------\n",
      "Especie: Puma concolor\n",
      "Fecha: 2022-05-24\n",
      "Localidad: Estaciz\u0005xperimental Forestal Horizontes\n",
      "Longitud: -85.560203, Latitud: 10.763197\n",
      "----------------------------------------\n",
      "Especie: Puma concolor\n",
      "Fecha: 2022-05-24\n",
      "Localidad: Estaciz\u0005xperimental Forestal Horizontes\n",
      "Longitud: -85.560203, Latitud: 10.763197\n",
      "----------------------------------------\n",
      "Especie: Puma concolor\n",
      "Fecha: 2022-06-13T15:54:06\n",
      "Localidad: None\n",
      "Longitud: -83.543663, Latitud: 8.551713\n",
      "----------------------------------------\n",
      "Especie: Puma concolor\n",
      "Fecha: 2022-07-07T13:49:49\n",
      "Localidad: None\n",
      "Longitud: -84.119168, Latitud: 10.294274\n",
      "----------------------------------------\n",
      "Especie: Puma concolor\n",
      "Fecha: 2022-07-21T10:43:41\n",
      "Localidad: None\n",
      "Longitud: -84.792093, Latitud: 10.351244\n",
      "----------------------------------------\n",
      "Especie: Puma concolor\n",
      "Fecha: 2022-08-02T16:46:07\n",
      "Localidad: None\n",
      "Longitud: -83.136722, Latitud: 8.81664\n",
      "----------------------------------------\n",
      "Especie: Puma concolor\n",
      "Fecha: 2021-01-10T19:51Z\n",
      "Localidad: None\n",
      "Longitud: -83.664421, Latitud: 8.642761\n",
      "----------------------------------------\n",
      "Especie: Puma concolor\n",
      "Fecha: 2021-03-04\n",
      "Localidad: RANCHO QUEMADO\n",
      "Longitud: -83.55255, Latitud: 8.704\n",
      "----------------------------------------\n",
      "Especie: Puma concolor\n",
      "Fecha: 2021-03-07T07:51\n",
      "Localidad: None\n",
      "Longitud: -83.265757, Latitud: 8.732302\n",
      "----------------------------------------\n",
      "Especie: Puma concolor\n",
      "Fecha: 2021-04-10\n",
      "Localidad: Estaciz\u0005xperimental Forestal Horizontes\n",
      "Longitud: -85.5949, Latitud: 10.726964\n",
      "----------------------------------------\n",
      "Especie: Puma concolor\n",
      "Fecha: 2021-04-10\n",
      "Localidad: Estaciz\u0005xperimental Forestal Horizontes\n",
      "Longitud: -85.5949, Latitud: 10.726964\n",
      "----------------------------------------\n",
      "Especie: Puma concolor\n",
      "Fecha: 2021-04-12\n",
      "Localidad: Estaciz\u0005xperimental Forestal Horizontes\n",
      "Longitud: -85.5949, Latitud: 10.726964\n",
      "----------------------------------------\n",
      "Especie: Puma concolor\n",
      "Fecha: 2021-04-12\n",
      "Localidad: Estaciz\u0005xperimental Forestal Horizontes\n",
      "Longitud: -85.5949, Latitud: 10.726964\n",
      "----------------------------------------\n",
      "Especie: Puma concolor\n",
      "Fecha: 2021-04-12\n",
      "Localidad: Estaciz\u0005xperimental Forestal Horizontes\n",
      "Longitud: -85.5949, Latitud: 10.726964\n",
      "----------------------------------------\n",
      "Especie: Puma concolor\n",
      "Fecha: 2021-04-12\n",
      "Localidad: Estaciz\u0005xperimental Forestal Horizontes\n",
      "Longitud: -85.5949, Latitud: 10.726964\n",
      "----------------------------------------\n",
      "Especie: Puma concolor\n",
      "Fecha: 2021-04-12\n",
      "Localidad: Estaciz\u0005xperimental Forestal Horizontes\n",
      "Longitud: -85.5949, Latitud: 10.726964\n",
      "----------------------------------------\n",
      "Especie: Puma concolor\n",
      "Fecha: 2021-04-18\n",
      "Localidad: Estaciz\u0005xperimental Forestal Horizontes\n",
      "Longitud: -85.5949, Latitud: 10.726964\n",
      "----------------------------------------\n",
      "Especie: Puma concolor\n",
      "Fecha: 2021-04-18\n",
      "Localidad: Estaciz\u0005xperimental Forestal Horizontes\n",
      "Longitud: -85.5949, Latitud: 10.726964\n",
      "----------------------------------------\n",
      "Especie: Puma concolor\n",
      "Fecha: 2021-04-30\n",
      "Localidad: Estaciz\u0005xperimental Forestal Horizontes\n",
      "Longitud: -85.5949, Latitud: 10.726964\n",
      "----------------------------------------\n",
      "Especie: Puma concolor\n",
      "Fecha: 2021-04-30\n",
      "Localidad: Estaciz\u0005xperimental Forestal Horizontes\n",
      "Longitud: -85.5949, Latitud: 10.726964\n",
      "----------------------------------------\n",
      "Especie: Puma concolor\n",
      "Fecha: 2021-04-09T15:56:34\n",
      "Localidad: None\n",
      "Longitud: -84.685433, Latitud: 10.514238\n",
      "----------------------------------------\n",
      "Especie: Puma concolor\n",
      "Fecha: 2021-04-04T12:15Z\n",
      "Localidad: None\n",
      "Longitud: -84.61128, Latitud: 10.377738\n",
      "----------------------------------------\n",
      "Especie: Puma concolor\n",
      "Fecha: 2021-05-07\n",
      "Localidad: Estaciz\u0005xperimental Forestal Horizontes\n",
      "Longitud: -85.5949, Latitud: 10.726964\n",
      "----------------------------------------\n",
      "Especie: Puma concolor\n",
      "Fecha: 2021-05-22\n",
      "Localidad: BAJO SAN JUAN\n",
      "Longitud: -83.52418, Latitud: 8.73739\n",
      "----------------------------------------\n",
      "Especie: Puma concolor\n",
      "Fecha: 2021-06-03T17:30:22\n",
      "Localidad: None\n",
      "Longitud: -85.619334, Latitud: 10.836068\n",
      "----------------------------------------\n",
      "Especie: Puma concolor\n",
      "Fecha: 2021-07-05\n",
      "Localidad: Estaciz\u0005xperimental Forestal Horizontes\n",
      "Longitud: -85.5949, Latitud: 10.726964\n",
      "----------------------------------------\n",
      "Especie: Puma concolor\n",
      "Fecha: 2021-07-29\n",
      "Localidad: Estaciz\u0005xperimental Forestal Horizontes\n",
      "Longitud: -85.5949, Latitud: 10.726964\n",
      "----------------------------------------\n",
      "Especie: Puma concolor\n",
      "Fecha: 2021-07-29\n",
      "Localidad: Estaciz\u0005xperimental Forestal Horizontes\n",
      "Longitud: -85.5949, Latitud: 10.726964\n",
      "----------------------------------------\n",
      "Especie: Puma concolor\n",
      "Fecha: 2021-07-15T16:22:29Z\n",
      "Localidad: None\n",
      "Longitud: -83.720297, Latitud: 8.632044\n",
      "----------------------------------------\n",
      "Especie: Puma concolor\n",
      "Fecha: 2021-08-11T10:22:36Z\n",
      "Localidad: None\n",
      "Longitud: -83.327498, Latitud: 8.408661\n",
      "----------------------------------------\n",
      "Especie: Puma concolor\n",
      "Fecha: 2021-09-06T18:53\n",
      "Localidad: None\n",
      "Longitud: -84.80044, Latitud: 10.295727\n",
      "----------------------------------------\n",
      "Especie: Puma concolor\n",
      "Fecha: 2021-09-05T10:38\n",
      "Localidad: None\n",
      "Longitud: -83.731624, Latitud: 8.640474\n",
      "----------------------------------------\n",
      "Especie: Puma concolor\n",
      "Fecha: 2021-09-06T18:53:16\n",
      "Localidad: None\n",
      "Longitud: -84.800993, Latitud: 10.29174\n",
      "----------------------------------------\n",
      "Especie: Puma concolor\n",
      "Fecha: 2021-12-21T03:30:19\n",
      "Localidad: None\n",
      "Longitud: -83.728829, Latitud: 8.631942\n",
      "----------------------------------------\n",
      "Especie: Puma concolor\n",
      "Fecha: 2021-12-30T19:07:28Z\n",
      "Localidad: None\n",
      "Longitud: -83.941417, Latitud: 9.342408\n",
      "----------------------------------------\n",
      "Especie: Puma concolor\n",
      "Fecha: 2021-12-06T09:18:08\n",
      "Localidad: None\n",
      "Longitud: -83.730026, Latitud: 8.627857\n",
      "----------------------------------------\n",
      "Especie: Puma concolor\n",
      "Fecha: 2020-01-20T12:29\n",
      "Localidad: None\n",
      "Longitud: -84.520869, Latitud: 9.732353\n",
      "----------------------------------------\n",
      "Especie: Puma concolor\n",
      "Fecha: 2020-01-08T09:52:42\n",
      "Localidad: None\n",
      "Longitud: -83.876113, Latitud: 9.52825\n",
      "----------------------------------------\n",
      "Especie: Puma concolor\n",
      "Fecha: 2020-01-26T11:57:13Z\n",
      "Localidad: None\n",
      "Longitud: -83.731705, Latitud: 8.620622\n",
      "----------------------------------------\n",
      "Especie: Puma concolor\n",
      "Fecha: 2020-01-09T12:51\n",
      "Localidad: None\n",
      "Longitud: -83.33003, Latitud: 8.4068\n",
      "----------------------------------------\n",
      "Especie: Puma concolor\n",
      "Fecha: 2020-02-15\n",
      "Localidad: None\n",
      "Longitud: -83.272008, Latitud: 8.710681\n",
      "----------------------------------------\n",
      "Especie: Puma concolor\n",
      "Fecha: 2020-03-07T14:56:40\n",
      "Localidad: None\n",
      "Longitud: -84.673167, Latitud: 10.355167\n",
      "----------------------------------------\n",
      "Especie: Puma concolor\n",
      "Fecha: 2020-03-06T10:31:28Z\n",
      "Localidad: None\n",
      "Longitud: -83.628635, Latitud: 8.557283\n",
      "----------------------------------------\n",
      "Especie: Puma concolor\n",
      "Fecha: 2020-03-24T12:37\n",
      "Localidad: None\n",
      "Longitud: -83.32932, Latitud: 8.40959\n",
      "----------------------------------------\n",
      "Especie: Puma concolor\n",
      "Fecha: 2020-07-31\n",
      "Localidad: AGUA BUENA-RINCŒ\n",
      "Longitud: -83.50166, Latitud: 8.69623\n",
      "----------------------------------------\n",
      "Especie: Puma concolor\n",
      "Fecha: 2020-08-29T07:08:50Z\n",
      "Localidad: None\n",
      "Longitud: -83.339722, Latitud: 8.406944\n",
      "----------------------------------------\n",
      "Especie: Puma concolor\n",
      "Fecha: 2019-01-01\n",
      "Localidad: RANCHO QUEMADO\n",
      "Longitud: -83.58411, Latitud: 8.67738\n",
      "----------------------------------------\n",
      "Especie: Puma concolor\n",
      "Fecha: 2019-01-01\n",
      "Localidad: RANCHO QUEMADO\n",
      "Longitud: -83.58411, Latitud: 8.67738\n",
      "----------------------------------------\n",
      "Especie: Puma concolor\n",
      "Fecha: 2019-01-01\n",
      "Localidad: RANCHO QUEMADO\n",
      "Longitud: -83.58411, Latitud: 8.67738\n",
      "----------------------------------------\n",
      "Especie: Puma concolor\n",
      "Fecha: 2019-02-14\n",
      "Localidad: AGUA BUENA-RINCŒ\n",
      "Longitud: -83.50129, Latitud: 8.69628\n",
      "----------------------------------------\n",
      "Especie: Puma concolor\n",
      "Fecha: 2019-02-14\n",
      "Localidad: AGUA BUENA-RINCŒ\n",
      "Longitud: -83.50129, Latitud: 8.69628\n",
      "----------------------------------------\n",
      "Especie: Puma concolor\n",
      "Fecha: 2019-03-14\n",
      "Localidad: RANCHO QUEMADO\n",
      "Longitud: -83.57298, Latitud: 8.67672\n",
      "----------------------------------------\n",
      "Especie: Puma concolor\n",
      "Fecha: 2019-03-14\n",
      "Localidad: RANCHO QUEMADO\n",
      "Longitud: -83.57298, Latitud: 8.67672\n",
      "----------------------------------------\n",
      "Especie: Puma concolor\n",
      "Fecha: 2019-03-26\n",
      "Localidad: RANCHO QUEMADO\n",
      "Longitud: -83.57434, Latitud: 8.68475\n",
      "----------------------------------------\n",
      "Especie: Puma concolor\n",
      "Fecha: 2019-03-27T16:53:28\n",
      "Localidad: None\n",
      "Longitud: -83.343176, Latitud: 8.411309\n",
      "----------------------------------------\n",
      "Especie: Puma concolor\n",
      "Fecha: 2019-04-01\n",
      "Localidad: MOGOS\n",
      "Longitud: -83.40155, Latitud: 8.74807\n",
      "----------------------------------------\n",
      "Especie: Puma concolor\n",
      "Fecha: 2019-04-01\n",
      "Localidad: MOGOS\n",
      "Longitud: -83.40155, Latitud: 8.74807\n",
      "----------------------------------------\n",
      "Especie: Puma concolor\n",
      "Fecha: 2019-04-01\n",
      "Localidad: MOGOS\n",
      "Longitud: -83.40155, Latitud: 8.74807\n",
      "----------------------------------------\n",
      "Especie: Puma concolor\n",
      "Fecha: 2019-04-01\n",
      "Localidad: MOGOS\n",
      "Longitud: -83.40155, Latitud: 8.74807\n",
      "----------------------------------------\n",
      "Especie: Puma concolor\n",
      "Fecha: 2019-04-01\n",
      "Localidad: MOGOS\n",
      "Longitud: -83.40155, Latitud: 8.74807\n",
      "----------------------------------------\n",
      "Especie: Puma concolor\n",
      "Fecha: 2019-04-01\n",
      "Localidad: MOGOS\n",
      "Longitud: -83.40155, Latitud: 8.74807\n",
      "----------------------------------------\n",
      "Especie: Puma concolor\n",
      "Fecha: 2019-04-02\n",
      "Localidad: MOGOS\n",
      "Longitud: -83.40155, Latitud: 8.74807\n",
      "----------------------------------------\n",
      "Especie: Puma concolor\n",
      "Fecha: 2019-04-02\n",
      "Localidad: MOGOS\n",
      "Longitud: -83.40155, Latitud: 8.74807\n",
      "----------------------------------------\n",
      "Especie: Puma concolor\n",
      "Fecha: 2019-04-02\n",
      "Localidad: MOGOS\n",
      "Longitud: -83.40155, Latitud: 8.74807\n",
      "----------------------------------------\n",
      "Especie: Puma concolor\n",
      "Fecha: 2019-04-02\n",
      "Localidad: MOGOS\n",
      "Longitud: -83.40155, Latitud: 8.74807\n",
      "----------------------------------------\n",
      "Especie: Puma concolor\n",
      "Fecha: 2019-04-03\n",
      "Localidad: RANCHO QUEMADO\n",
      "Longitud: -83.58411, Latitud: 8.67738\n",
      "----------------------------------------\n",
      "Especie: Puma concolor\n",
      "Fecha: 2019-04-17\n",
      "Localidad: RANCHO QUEMADO\n",
      "Longitud: -83.58411, Latitud: 8.67738\n",
      "----------------------------------------\n",
      "Especie: Puma concolor\n",
      "Fecha: 2019-04-23\n",
      "Localidad: RANCHO QUEMADO\n",
      "Longitud: -83.58411, Latitud: 8.67738\n",
      "----------------------------------------\n",
      "Especie: Puma concolor\n",
      "Fecha: 2019-04-29\n",
      "Localidad: RANCHO QUEMADO\n",
      "Longitud: -83.58411, Latitud: 8.67738\n",
      "----------------------------------------\n",
      "Especie: Puma concolor\n",
      "Fecha: 2019-04-24T02:12:33\n",
      "Localidad: None\n",
      "Longitud: -83.862023, Latitud: 9.980606\n",
      "----------------------------------------\n",
      "Especie: Puma concolor\n",
      "Fecha: 2019-04-16\n",
      "Localidad: RANCHO QUEMADO\n",
      "Longitud: -83.5835, Latitud: 8.68927\n",
      "----------------------------------------\n",
      "Especie: Puma concolor\n",
      "Fecha: 2019-04-16\n",
      "Localidad: RANCHO QUEMADO\n",
      "Longitud: -83.5835, Latitud: 8.68927\n",
      "----------------------------------------\n",
      "Especie: Puma concolor\n",
      "Fecha: 2019-04-16\n",
      "Localidad: RANCHO QUEMADO\n",
      "Longitud: -83.5835, Latitud: 8.68927\n",
      "----------------------------------------\n",
      "Especie: Puma concolor\n",
      "Fecha: 2019-05-01\n",
      "Localidad: MOGOS\n",
      "Longitud: -83.39588, Latitud: 8.74224\n",
      "----------------------------------------\n",
      "Especie: Puma concolor\n",
      "Fecha: 2019-05-02\n",
      "Localidad: RANCHO QUEMADO\n",
      "Longitud: -83.58411, Latitud: 8.67738\n",
      "----------------------------------------\n",
      "Especie: Puma concolor\n",
      "Fecha: 2019-05-02\n",
      "Localidad: RANCHO QUEMADO\n",
      "Longitud: -83.58411, Latitud: 8.67738\n",
      "----------------------------------------\n",
      "Especie: Puma concolor\n",
      "Fecha: 2019-05-08\n",
      "Localidad: RANCHO QUEMADO\n",
      "Longitud: -83.58411, Latitud: 8.67738\n",
      "----------------------------------------\n",
      "Especie: Puma concolor\n",
      "Fecha: 2019-05-10\n",
      "Localidad: MOGOS\n",
      "Longitud: -83.40155, Latitud: 8.74807\n",
      "----------------------------------------\n",
      "Especie: Puma concolor\n",
      "Fecha: 2019-05-10\n",
      "Localidad: MOGOS\n",
      "Longitud: -83.40155, Latitud: 8.74807\n",
      "----------------------------------------\n",
      "Especie: Puma concolor\n",
      "Fecha: 2019-05-10\n",
      "Localidad: MOGOS\n",
      "Longitud: -83.40155, Latitud: 8.74807\n",
      "----------------------------------------\n",
      "Especie: Puma concolor\n",
      "Fecha: 2019-05-17\n",
      "Localidad: MOGOS\n",
      "Longitud: -83.40155, Latitud: 8.74807\n",
      "----------------------------------------\n",
      "Especie: Puma concolor\n",
      "Fecha: 2019-05-17\n",
      "Localidad: MOGOS\n",
      "Longitud: -83.40155, Latitud: 8.74807\n",
      "----------------------------------------\n",
      "Especie: Puma concolor\n",
      "Fecha: 2019-05-17\n",
      "Localidad: MOGOS\n",
      "Longitud: -83.40155, Latitud: 8.74807\n",
      "----------------------------------------\n",
      "Especie: Puma concolor\n",
      "Fecha: 2019-05-17\n",
      "Localidad: MOGOS\n",
      "Longitud: -83.40155, Latitud: 8.74807\n",
      "----------------------------------------\n",
      "Especie: Puma concolor\n",
      "Fecha: 2019-05-17\n",
      "Localidad: MOGOS\n",
      "Longitud: -83.40155, Latitud: 8.74807\n",
      "----------------------------------------\n",
      "Especie: Puma concolor\n",
      "Fecha: 2019-05-17\n",
      "Localidad: MOGOS\n",
      "Longitud: -83.40155, Latitud: 8.74807\n",
      "----------------------------------------\n",
      "Especie: Puma concolor\n",
      "Fecha: 2019-05-18\n",
      "Localidad: RANCHO QUEMADO\n",
      "Longitud: -83.55246, Latitud: 8.70394\n",
      "----------------------------------------\n",
      "Especie: Puma concolor\n",
      "Fecha: 2019-05-18\n",
      "Localidad: RANCHO QUEMADO\n",
      "Longitud: -83.55246, Latitud: 8.70394\n",
      "----------------------------------------\n",
      "Especie: Puma concolor\n",
      "Fecha: 2019-05-18\n",
      "Localidad: RANCHO QUEMADO\n",
      "Longitud: -83.55246, Latitud: 8.70394\n",
      "----------------------------------------\n",
      "Especie: Puma concolor\n",
      "Fecha: 2019-05-24\n",
      "Localidad: MOGOS\n",
      "Longitud: -83.40155, Latitud: 8.74807\n",
      "----------------------------------------\n",
      "Especie: Puma concolor\n",
      "Fecha: 2019-05-24\n",
      "Localidad: MOGOS\n",
      "Longitud: -83.40155, Latitud: 8.74807\n",
      "----------------------------------------\n",
      "Especie: Puma concolor\n",
      "Fecha: 2019-05-24\n",
      "Localidad: MOGOS\n",
      "Longitud: -83.40155, Latitud: 8.74807\n",
      "----------------------------------------\n",
      "Especie: Puma concolor\n",
      "Fecha: 2019-05-29\n",
      "Localidad: RANCHO QUEMADO\n",
      "Longitud: -83.58411, Latitud: 8.67738\n",
      "----------------------------------------\n",
      "Especie: Puma concolor\n",
      "Fecha: 2019-05-29\n",
      "Localidad: MOGOS\n",
      "Longitud: -83.39588, Latitud: 8.74224\n",
      "----------------------------------------\n",
      "Especie: Puma concolor\n",
      "Fecha: 2019-05-30\n",
      "Localidad: RANCHO QUEMADO\n",
      "Longitud: -83.55246, Latitud: 8.70394\n",
      "----------------------------------------\n",
      "Especie: Puma concolor\n",
      "Fecha: 2019-05-30\n",
      "Localidad: RANCHO QUEMADO\n",
      "Longitud: -83.55246, Latitud: 8.70394\n",
      "----------------------------------------\n",
      "Especie: Puma concolor\n",
      "Fecha: 2019-05-30\n",
      "Localidad: RANCHO QUEMADO\n",
      "Longitud: -83.55246, Latitud: 8.70394\n",
      "----------------------------------------\n",
      "Especie: Puma concolor\n",
      "Fecha: 2019-06-25\n",
      "Localidad: MOGOS\n",
      "Longitud: -83.40155, Latitud: 8.74807\n",
      "----------------------------------------\n",
      "Especie: Puma concolor\n",
      "Fecha: 2019-06-02\n",
      "Localidad: RANCHO QUEMADO\n",
      "Longitud: -83.58411, Latitud: 8.67738\n",
      "----------------------------------------\n",
      "Especie: Puma concolor\n",
      "Fecha: 2019-06-07\n",
      "Localidad: MOGOS\n",
      "Longitud: -83.40155, Latitud: 8.74807\n",
      "----------------------------------------\n",
      "Especie: Puma concolor\n",
      "Fecha: 2019-06-07\n",
      "Localidad: MOGOS\n",
      "Longitud: -83.40155, Latitud: 8.74807\n",
      "----------------------------------------\n",
      "Especie: Puma concolor\n",
      "Fecha: 2019-06-07\n",
      "Localidad: MOGOS\n",
      "Longitud: -83.40155, Latitud: 8.74807\n",
      "----------------------------------------\n",
      "Especie: Puma concolor\n",
      "Fecha: 2019-06-13\n",
      "Localidad: RANCHO QUEMADO\n",
      "Longitud: -83.57298, Latitud: 8.67672\n",
      "----------------------------------------\n",
      "Especie: Puma concolor\n",
      "Fecha: 2019-06-16T09:55:39\n",
      "Localidad: None\n",
      "Longitud: -84.670325, Latitud: 10.35192\n",
      "----------------------------------------\n",
      "Especie: Puma concolor\n",
      "Fecha: 2019-07-20\n",
      "Localidad: MOGOS\n",
      "Longitud: -83.40155, Latitud: 8.74807\n",
      "----------------------------------------\n",
      "Especie: Puma concolor\n",
      "Fecha: 2018-01-16T08:50\n",
      "Localidad: None\n",
      "Longitud: -83.731718, Latitud: 8.640454\n",
      "----------------------------------------\n",
      "Especie: Puma concolor\n",
      "Fecha: 2018-02-12T02:57:07\n",
      "Localidad: None\n",
      "Longitud: -83.733795, Latitud: 8.62018\n",
      "----------------------------------------\n",
      "Especie: Puma concolor\n",
      "Fecha: 2018-02-25\n",
      "Localidad: MOGOS\n",
      "Longitud: -83.40298, Latitud: 8.74121\n",
      "----------------------------------------\n",
      "Especie: Puma concolor\n",
      "Fecha: 2018-02-16T09:01\n",
      "Localidad: None\n",
      "Longitud: -85.26441, Latitud: 9.868272\n",
      "----------------------------------------\n",
      "Especie: Puma concolor\n",
      "Fecha: 2018-02-12T09:57:13\n",
      "Localidad: None\n",
      "Longitud: -83.733872, Latitud: 8.620208\n",
      "----------------------------------------\n",
      "Especie: Puma concolor\n",
      "Fecha: 2018-03-15\n",
      "Localidad: MOGOS\n",
      "Longitud: -83.40155, Latitud: 8.74807\n",
      "----------------------------------------\n",
      "Especie: Puma concolor\n",
      "Fecha: 2018-03-25\n",
      "Localidad: AGUA BUENA-RINCŒ\n",
      "Longitud: -83.50129, Latitud: 8.69628\n",
      "----------------------------------------\n",
      "Especie: Puma concolor\n",
      "Fecha: 2018-03-25\n",
      "Localidad: AGUA BUENA-RINCŒ\n",
      "Longitud: -83.50129, Latitud: 8.69628\n",
      "----------------------------------------\n",
      "Especie: Puma concolor\n",
      "Fecha: 2018-03-25\n",
      "Localidad: AGUA BUENA-RINCŒ\n",
      "Longitud: -83.50129, Latitud: 8.69628\n",
      "----------------------------------------\n",
      "Especie: Puma concolor\n",
      "Fecha: 2018-03-25\n",
      "Localidad: AGUA BUENA-RINCŒ\n",
      "Longitud: -83.50129, Latitud: 8.69628\n",
      "----------------------------------------\n",
      "Especie: Puma concolor\n",
      "Fecha: 2018-03-25\n",
      "Localidad: AGUA BUENA-RINCŒ\n",
      "Longitud: -83.50129, Latitud: 8.69628\n",
      "----------------------------------------\n",
      "Especie: Puma concolor\n",
      "Fecha: 2018-03-25\n",
      "Localidad: AGUA BUENA-RINCŒ\n",
      "Longitud: -83.50129, Latitud: 8.69628\n",
      "----------------------------------------\n",
      "Especie: Puma concolor\n",
      "Fecha: 2018-04-02T00:30\n",
      "Localidad: None\n",
      "Longitud: -85.617054, Latitud: 10.838058\n",
      "----------------------------------------\n",
      "Especie: Puma concolor\n",
      "Fecha: 2018-04-03\n",
      "Localidad: MOGOS\n",
      "Longitud: -83.40155, Latitud: 8.74807\n",
      "----------------------------------------\n",
      "Especie: Puma concolor\n",
      "Fecha: 2018-05-04\n",
      "Localidad: MOGOS\n",
      "Longitud: -83.40155, Latitud: 8.74807\n",
      "----------------------------------------\n",
      "Especie: Puma concolor\n",
      "Fecha: 2018-05-17\n",
      "Localidad: MOGOS\n",
      "Longitud: -83.40155, Latitud: 8.74807\n",
      "----------------------------------------\n",
      "Especie: Puma concolor\n",
      "Fecha: 2018-05-25\n",
      "Localidad: MOGOS\n",
      "Longitud: -83.40155, Latitud: 8.74807\n",
      "----------------------------------------\n",
      "Especie: Puma concolor\n",
      "Fecha: 2017-01-16\n",
      "Localidad: Corcovado NP\n",
      "Longitud: -83.575916, Latitud: 8.454176\n",
      "----------------------------------------\n",
      "Especie: Puma concolor\n",
      "Fecha: 2017-01-13T20:17:53\n",
      "Localidad: None\n",
      "Longitud: -83.148603, Latitud: 8.64369\n",
      "----------------------------------------\n",
      "Especie: Puma concolor\n",
      "Fecha: 2017-02-22\n",
      "Localidad: MOGOS\n",
      "Longitud: -83.39592, Latitud: 8.74223\n",
      "----------------------------------------\n",
      "Especie: Puma concolor\n",
      "Fecha: 2017-02-25\n",
      "Localidad: MOGOS\n",
      "Longitud: -83.39592, Latitud: 8.74223\n",
      "----------------------------------------\n",
      "Especie: Puma concolor\n",
      "Fecha: 2017-03-20\n",
      "Localidad: None\n",
      "Longitud: -83.325221, Latitud: 8.391172\n",
      "----------------------------------------\n",
      "Especie: Puma concolor\n",
      "Fecha: 2017-03-05T08:44\n",
      "Localidad: None\n",
      "Longitud: -83.495966, Latitud: 8.449956\n",
      "----------------------------------------\n",
      "Especie: Puma concolor\n",
      "Fecha: 2017-04-09T10:35\n",
      "Localidad: None\n",
      "Longitud: -83.7547, Latitud: 9.5557\n",
      "----------------------------------------\n",
      "Especie: Puma concolor\n",
      "Fecha: 2017-04-09T06:51\n",
      "Localidad: None\n",
      "Longitud: -83.761, Latitud: 9.553\n",
      "----------------------------------------\n",
      "Especie: Puma concolor\n",
      "Fecha: 2017-04-09T06:29\n",
      "Localidad: None\n",
      "Longitud: -83.7607, Latitud: 9.5535\n",
      "----------------------------------------\n",
      "Especie: Puma concolor\n",
      "Fecha: 2017-04-28\n",
      "Localidad: AGUA BUENA-RINCŒ\n",
      "Longitud: -83.50128, Latitud: 8.69628\n",
      "----------------------------------------\n",
      "Especie: Puma concolor\n",
      "Fecha: 2017-04-28\n",
      "Localidad: AGUA BUENA-RINCŒ\n",
      "Longitud: -83.50128, Latitud: 8.69628\n",
      "----------------------------------------\n",
      "Especie: Puma concolor\n",
      "Fecha: 2017-05-15\n",
      "Localidad: MOGOS\n",
      "Longitud: -83.39592, Latitud: 8.74223\n",
      "----------------------------------------\n",
      "Especie: Puma concolor\n",
      "Fecha: 2017-06-05\n",
      "Localidad: MOGOS\n",
      "Longitud: -83.39592, Latitud: 8.74223\n",
      "----------------------------------------\n",
      "Especie: Puma concolor\n",
      "Fecha: 2017-07-20T12:26:52\n",
      "Localidad: None\n",
      "Longitud: -83.769932, Latitud: 9.582887\n",
      "----------------------------------------\n",
      "Especie: Puma concolor\n",
      "Fecha: 2017-11-04T01:18:08\n",
      "Localidad: None\n",
      "Longitud: -84.802146, Latitud: 10.325961\n",
      "----------------------------------------\n",
      "Especie: Puma concolor\n",
      "Fecha: 2017-12-12T11:16:37\n",
      "Localidad: None\n",
      "Longitud: -83.557658, Latitud: 8.546267\n",
      "----------------------------------------\n",
      "Especie: Puma concolor\n",
      "Fecha: 2016-03-09T18:48\n",
      "Localidad: None\n",
      "Longitud: -84.02203, Latitud: 10.423268\n",
      "----------------------------------------\n",
      "Especie: Puma concolor\n",
      "Fecha: 2016-07-20\n",
      "Localidad: MOGOS\n",
      "Longitud: -83.40638, Latitud: 8.74323\n",
      "----------------------------------------\n",
      "Especie: Puma concolor\n",
      "Fecha: 2015-02-19T12:33\n",
      "Localidad: None\n",
      "Longitud: -83.567897, Latitud: 8.450145\n",
      "----------------------------------------\n",
      "Especie: Puma concolor\n",
      "Fecha: 2015-02-19T12:26\n",
      "Localidad: None\n",
      "Longitud: -83.567897, Latitud: 8.450145\n",
      "----------------------------------------\n",
      "Especie: Puma concolor\n",
      "Fecha: 2015-03-03T12:41\n",
      "Localidad: None\n",
      "Longitud: -84.006971, Latitud: 10.430623\n",
      "----------------------------------------\n",
      "Especie: Puma concolor\n",
      "Fecha: 2015-06-26T10:05Z\n",
      "Localidad: None\n",
      "Longitud: -84.593712, Latitud: 9.792021\n",
      "----------------------------------------\n",
      "Especie: Puma concolor\n",
      "Fecha: 2015-10-23T11:50\n",
      "Localidad: None\n",
      "Longitud: -84.80149, Latitud: 10.329438\n",
      "----------------------------------------\n",
      "Especie: Puma concolor\n",
      "Fecha: 2014-03-22T08:09\n",
      "Localidad: None\n",
      "Longitud: -83.570964, Latitud: 8.540835\n",
      "----------------------------------------\n",
      "Se han guardado 232 registros de presencia en el archivo 'registros-presencia-puma.geojson'\n"
     ]
    }
   ],
   "source": [
    "import requests\n",
    "import json\n",
    "\n",
    "def obtener_taxon_key(nombre_cientifico):\n",
    "    url = 'https://api.gbif.org/v1/species/match'\n",
    "\n",
    "    parametros = {\n",
    "        'name': nombre_cientifico,\n",
    "        'strict': True  # Asegura una coincidencia exacta\n",
    "    }\n",
    "\n",
    "    respuesta = requests.get(url, params=parametros)\n",
    "    \n",
    "    if respuesta.status_code == 200:\n",
    "        datos = respuesta.json()\n",
    "        \n",
    "        # Se revisa si la llave usageKy está presente en datos\n",
    "        if 'usageKey' in datos:\n",
    "            return datos['usageKey']\n",
    "        else:\n",
    "            return None\n",
    "    else:\n",
    "        return None\n",
    "\n",
    "# Nombre científico de la especie\n",
    "nombre_cientifico = 'Puma concolor'\n",
    "\n",
    "# taxonKey de la especie\n",
    "taxon_key = obtener_taxon_key(nombre_cientifico)\n",
    "\n",
    "if taxon_key:\n",
    "    # Se encontró el taxonKey\n",
    "\n",
    "    # URL\n",
    "    url = 'https://api.gbif.org/v1/occurrence/search'\n",
    "\n",
    "    # Parámetros de la solicitud GET\n",
    "    parametros = {\n",
    "        'country': 'CR',          # Código de país ISO para Costa Rica\n",
    "        'taxonKey': taxon_key,\n",
    "        'limit': 300,             # Número máximo de registros a obtener (máximo 300 por solicitud)\n",
    "        'hasCoordinate': 'true',   # Solo se incluyen registros de presencia con coordenadas\n",
    "        'year': '2014,2024'  # Rango de años especificado\n",
    "    }\n",
    "\n",
    "    # Solicitud GET\n",
    "    respuesta = requests.get(url, params=parametros)\n",
    "\n",
    "    # Se verifica si la solicitud fue exitosa\n",
    "    if respuesta.status_code == 200:\n",
    "        # La solicitud fue exitosa\n",
    "\n",
    "        # Se cargan en formato JSON los datos retornados\n",
    "        datos_registros = respuesta.json()\n",
    "\n",
    "        # Se extraen las ocurrencias\n",
    "        registros = datos_registros['results']\n",
    "\n",
    "        # Lista para las features de GeoJSON\n",
    "        features = []\n",
    "\n",
    "        # Se recorren los datos de registros de presencia y se convierten a features GeoJSON\n",
    "        for registro in registros:\n",
    "            especie = registro.get('species')\n",
    "            fecha = registro.get('eventDate')\n",
    "            localidad = registro.get('locality')\n",
    "            latitud = registro.get('decimalLatitude')\n",
    "            longitud = registro.get('decimalLongitude')\n",
    "\n",
    "            print(f\"Especie: {especie}\")\n",
    "            print(f\"Fecha: {fecha}\")\n",
    "            print(f\"Localidad: {localidad}\")\n",
    "            print(f\"Longitud: {longitud}, Latitud: {latitud}\")\n",
    "            print(\"-\" * 40)        \n",
    "\n",
    "            # Se verifica que las coordenadas están presentes\n",
    "            if latitud is not None and longitud is not None:\n",
    "                feature = {\n",
    "                    \"type\": \"Feature\",\n",
    "                    \"geometry\": {\n",
    "                        \"type\": \"Point\",\n",
    "                        \"coordinates\": [longitud, latitud]  # GeoJSON utiliza el orden [longitud, latitud]\n",
    "                    },\n",
    "                    \"properties\": {\n",
    "                        \"species\": especie,\n",
    "                        \"eventDate\": fecha,\n",
    "                        \"locality\": localidad\n",
    "                    }\n",
    "                }\n",
    "                features.append(feature)\n",
    "\n",
    "# Crear el FeatureCollection GeoJSON\n",
    "        geojson = {\n",
    "            \"type\": \"FeatureCollection\",\n",
    "            \"features\": features\n",
    "        }\n",
    "\n",
    "        # Almacenamiento de datos en un archivo llamado \"datos-registros-presencia.geojson\"\n",
    "        with open('registros-presencia-puma.geojson', 'w', encoding='utf-8') as archivo:\n",
    "            json.dump(geojson, archivo, indent=4, ensure_ascii=False)\n",
    "\n",
    "        print(f\"Se han guardado {len(features)} registros de presencia en el archivo 'registros-presencia-puma.geojson'\")\n",
    "    else:\n",
    "        # Se produjo un error\n",
    "        print(f\"Error {respuesta.status_code}\")\n",
    "else:\n",
    "    print(f'No se encontró el taxonKey de {nombre_cientifico}')"
   ]
  },
  {
   "cell_type": "markdown",
   "metadata": {},
   "source": [
    "# Gráficos"
   ]
  },
  {
   "cell_type": "markdown",
   "metadata": {},
   "source": [
    "## Gráfico de líneas"
   ]
  },
  {
   "cell_type": "markdown",
   "metadata": {},
   "source": [
    "El gráfico de líneas revela cómo han fluctuado las observaciones de jaguares, ocelotes y pumas entre 2014 y 2024. Muestra diferencias anuales claras, destacando en qué momentos una especie fue observada con mayor frecuencia. Las líneas están coloreadas distintivamente: verde para el jaguar, azul para el ocelote y rojo para el puma. Este formato permite captar visualmente patrones de aumento o disminución en los registros de cada especie, algo que sería menos evidente en una tabla o un mapa. Además, los picos específicos de observación sugieren posibles eventos o cambios en los esfuerzos de monitoreo o en la ecología de las especies, facilitando así una interpretación rápida de tendencias y comparaciones simultáneas."
   ]
  },
  {
   "cell_type": "code",
   "execution_count": 38,
   "metadata": {},
   "outputs": [
    {
     "data": {
      "application/vnd.plotly.v1+json": {
       "config": {
        "plotlyServerURL": "https://plot.ly"
       },
       "data": [
        {
         "hovertemplate": "Especie=Jaguar<br>Año=%{x}<br>Cantidad de registros de presencia=%{y}<extra></extra>",
         "legendgroup": "Jaguar",
         "line": {
          "color": "green",
          "dash": "solid"
         },
         "marker": {
          "symbol": "circle"
         },
         "mode": "lines",
         "name": "Jaguar",
         "orientation": "v",
         "showlegend": true,
         "type": "scatter",
         "x": [
          2014,
          2015,
          2016,
          2017,
          2018,
          2019,
          2020,
          2021,
          2022,
          2023,
          2024
         ],
         "xaxis": "x",
         "y": [
          1,
          1,
          1,
          1,
          3,
          36,
          5,
          6,
          26,
          19,
          14
         ],
         "yaxis": "y"
        },
        {
         "hovertemplate": "Especie=Ocelote<br>Año=%{x}<br>Cantidad de registros de presencia=%{y}<extra></extra>",
         "legendgroup": "Ocelote",
         "line": {
          "color": "blue",
          "dash": "solid"
         },
         "marker": {
          "symbol": "circle"
         },
         "mode": "lines",
         "name": "Ocelote",
         "orientation": "v",
         "showlegend": true,
         "type": "scatter",
         "x": [
          2014,
          2015,
          2016,
          2017,
          2018,
          2019,
          2020,
          2021,
          2022,
          2023,
          2024
         ],
         "xaxis": "x",
         "y": [
          0,
          0,
          0,
          0,
          0,
          37,
          43,
          23,
          45,
          130,
          22
         ],
         "yaxis": "y"
        },
        {
         "hovertemplate": "Especie=Puma<br>Año=%{x}<br>Cantidad de registros de presencia=%{y}<extra></extra>",
         "legendgroup": "Puma",
         "line": {
          "color": "red",
          "dash": "solid"
         },
         "marker": {
          "symbol": "circle"
         },
         "mode": "lines",
         "name": "Puma",
         "orientation": "v",
         "showlegend": true,
         "type": "scatter",
         "x": [
          2014,
          2015,
          2016,
          2017,
          2018,
          2019,
          2020,
          2021,
          2022,
          2023,
          2024
         ],
         "xaxis": "x",
         "y": [
          1,
          5,
          2,
          16,
          17,
          59,
          10,
          30,
          43,
          34,
          15
         ],
         "yaxis": "y"
        }
       ],
       "layout": {
        "legend": {
         "title": {
          "text": "Especie"
         },
         "tracegroupgap": 0
        },
        "template": {
         "data": {
          "bar": [
           {
            "error_x": {
             "color": "#2a3f5f"
            },
            "error_y": {
             "color": "#2a3f5f"
            },
            "marker": {
             "line": {
              "color": "white",
              "width": 0.5
             },
             "pattern": {
              "fillmode": "overlay",
              "size": 10,
              "solidity": 0.2
             }
            },
            "type": "bar"
           }
          ],
          "barpolar": [
           {
            "marker": {
             "line": {
              "color": "white",
              "width": 0.5
             },
             "pattern": {
              "fillmode": "overlay",
              "size": 10,
              "solidity": 0.2
             }
            },
            "type": "barpolar"
           }
          ],
          "carpet": [
           {
            "aaxis": {
             "endlinecolor": "#2a3f5f",
             "gridcolor": "#C8D4E3",
             "linecolor": "#C8D4E3",
             "minorgridcolor": "#C8D4E3",
             "startlinecolor": "#2a3f5f"
            },
            "baxis": {
             "endlinecolor": "#2a3f5f",
             "gridcolor": "#C8D4E3",
             "linecolor": "#C8D4E3",
             "minorgridcolor": "#C8D4E3",
             "startlinecolor": "#2a3f5f"
            },
            "type": "carpet"
           }
          ],
          "choropleth": [
           {
            "colorbar": {
             "outlinewidth": 0,
             "ticks": ""
            },
            "type": "choropleth"
           }
          ],
          "contour": [
           {
            "colorbar": {
             "outlinewidth": 0,
             "ticks": ""
            },
            "colorscale": [
             [
              0,
              "#0d0887"
             ],
             [
              0.1111111111111111,
              "#46039f"
             ],
             [
              0.2222222222222222,
              "#7201a8"
             ],
             [
              0.3333333333333333,
              "#9c179e"
             ],
             [
              0.4444444444444444,
              "#bd3786"
             ],
             [
              0.5555555555555556,
              "#d8576b"
             ],
             [
              0.6666666666666666,
              "#ed7953"
             ],
             [
              0.7777777777777778,
              "#fb9f3a"
             ],
             [
              0.8888888888888888,
              "#fdca26"
             ],
             [
              1,
              "#f0f921"
             ]
            ],
            "type": "contour"
           }
          ],
          "contourcarpet": [
           {
            "colorbar": {
             "outlinewidth": 0,
             "ticks": ""
            },
            "type": "contourcarpet"
           }
          ],
          "heatmap": [
           {
            "colorbar": {
             "outlinewidth": 0,
             "ticks": ""
            },
            "colorscale": [
             [
              0,
              "#0d0887"
             ],
             [
              0.1111111111111111,
              "#46039f"
             ],
             [
              0.2222222222222222,
              "#7201a8"
             ],
             [
              0.3333333333333333,
              "#9c179e"
             ],
             [
              0.4444444444444444,
              "#bd3786"
             ],
             [
              0.5555555555555556,
              "#d8576b"
             ],
             [
              0.6666666666666666,
              "#ed7953"
             ],
             [
              0.7777777777777778,
              "#fb9f3a"
             ],
             [
              0.8888888888888888,
              "#fdca26"
             ],
             [
              1,
              "#f0f921"
             ]
            ],
            "type": "heatmap"
           }
          ],
          "heatmapgl": [
           {
            "colorbar": {
             "outlinewidth": 0,
             "ticks": ""
            },
            "colorscale": [
             [
              0,
              "#0d0887"
             ],
             [
              0.1111111111111111,
              "#46039f"
             ],
             [
              0.2222222222222222,
              "#7201a8"
             ],
             [
              0.3333333333333333,
              "#9c179e"
             ],
             [
              0.4444444444444444,
              "#bd3786"
             ],
             [
              0.5555555555555556,
              "#d8576b"
             ],
             [
              0.6666666666666666,
              "#ed7953"
             ],
             [
              0.7777777777777778,
              "#fb9f3a"
             ],
             [
              0.8888888888888888,
              "#fdca26"
             ],
             [
              1,
              "#f0f921"
             ]
            ],
            "type": "heatmapgl"
           }
          ],
          "histogram": [
           {
            "marker": {
             "pattern": {
              "fillmode": "overlay",
              "size": 10,
              "solidity": 0.2
             }
            },
            "type": "histogram"
           }
          ],
          "histogram2d": [
           {
            "colorbar": {
             "outlinewidth": 0,
             "ticks": ""
            },
            "colorscale": [
             [
              0,
              "#0d0887"
             ],
             [
              0.1111111111111111,
              "#46039f"
             ],
             [
              0.2222222222222222,
              "#7201a8"
             ],
             [
              0.3333333333333333,
              "#9c179e"
             ],
             [
              0.4444444444444444,
              "#bd3786"
             ],
             [
              0.5555555555555556,
              "#d8576b"
             ],
             [
              0.6666666666666666,
              "#ed7953"
             ],
             [
              0.7777777777777778,
              "#fb9f3a"
             ],
             [
              0.8888888888888888,
              "#fdca26"
             ],
             [
              1,
              "#f0f921"
             ]
            ],
            "type": "histogram2d"
           }
          ],
          "histogram2dcontour": [
           {
            "colorbar": {
             "outlinewidth": 0,
             "ticks": ""
            },
            "colorscale": [
             [
              0,
              "#0d0887"
             ],
             [
              0.1111111111111111,
              "#46039f"
             ],
             [
              0.2222222222222222,
              "#7201a8"
             ],
             [
              0.3333333333333333,
              "#9c179e"
             ],
             [
              0.4444444444444444,
              "#bd3786"
             ],
             [
              0.5555555555555556,
              "#d8576b"
             ],
             [
              0.6666666666666666,
              "#ed7953"
             ],
             [
              0.7777777777777778,
              "#fb9f3a"
             ],
             [
              0.8888888888888888,
              "#fdca26"
             ],
             [
              1,
              "#f0f921"
             ]
            ],
            "type": "histogram2dcontour"
           }
          ],
          "mesh3d": [
           {
            "colorbar": {
             "outlinewidth": 0,
             "ticks": ""
            },
            "type": "mesh3d"
           }
          ],
          "parcoords": [
           {
            "line": {
             "colorbar": {
              "outlinewidth": 0,
              "ticks": ""
             }
            },
            "type": "parcoords"
           }
          ],
          "pie": [
           {
            "automargin": true,
            "type": "pie"
           }
          ],
          "scatter": [
           {
            "fillpattern": {
             "fillmode": "overlay",
             "size": 10,
             "solidity": 0.2
            },
            "type": "scatter"
           }
          ],
          "scatter3d": [
           {
            "line": {
             "colorbar": {
              "outlinewidth": 0,
              "ticks": ""
             }
            },
            "marker": {
             "colorbar": {
              "outlinewidth": 0,
              "ticks": ""
             }
            },
            "type": "scatter3d"
           }
          ],
          "scattercarpet": [
           {
            "marker": {
             "colorbar": {
              "outlinewidth": 0,
              "ticks": ""
             }
            },
            "type": "scattercarpet"
           }
          ],
          "scattergeo": [
           {
            "marker": {
             "colorbar": {
              "outlinewidth": 0,
              "ticks": ""
             }
            },
            "type": "scattergeo"
           }
          ],
          "scattergl": [
           {
            "marker": {
             "colorbar": {
              "outlinewidth": 0,
              "ticks": ""
             }
            },
            "type": "scattergl"
           }
          ],
          "scattermapbox": [
           {
            "marker": {
             "colorbar": {
              "outlinewidth": 0,
              "ticks": ""
             }
            },
            "type": "scattermapbox"
           }
          ],
          "scatterpolar": [
           {
            "marker": {
             "colorbar": {
              "outlinewidth": 0,
              "ticks": ""
             }
            },
            "type": "scatterpolar"
           }
          ],
          "scatterpolargl": [
           {
            "marker": {
             "colorbar": {
              "outlinewidth": 0,
              "ticks": ""
             }
            },
            "type": "scatterpolargl"
           }
          ],
          "scatterternary": [
           {
            "marker": {
             "colorbar": {
              "outlinewidth": 0,
              "ticks": ""
             }
            },
            "type": "scatterternary"
           }
          ],
          "surface": [
           {
            "colorbar": {
             "outlinewidth": 0,
             "ticks": ""
            },
            "colorscale": [
             [
              0,
              "#0d0887"
             ],
             [
              0.1111111111111111,
              "#46039f"
             ],
             [
              0.2222222222222222,
              "#7201a8"
             ],
             [
              0.3333333333333333,
              "#9c179e"
             ],
             [
              0.4444444444444444,
              "#bd3786"
             ],
             [
              0.5555555555555556,
              "#d8576b"
             ],
             [
              0.6666666666666666,
              "#ed7953"
             ],
             [
              0.7777777777777778,
              "#fb9f3a"
             ],
             [
              0.8888888888888888,
              "#fdca26"
             ],
             [
              1,
              "#f0f921"
             ]
            ],
            "type": "surface"
           }
          ],
          "table": [
           {
            "cells": {
             "fill": {
              "color": "#EBF0F8"
             },
             "line": {
              "color": "white"
             }
            },
            "header": {
             "fill": {
              "color": "#C8D4E3"
             },
             "line": {
              "color": "white"
             }
            },
            "type": "table"
           }
          ]
         },
         "layout": {
          "annotationdefaults": {
           "arrowcolor": "#2a3f5f",
           "arrowhead": 0,
           "arrowwidth": 1
          },
          "autotypenumbers": "strict",
          "coloraxis": {
           "colorbar": {
            "outlinewidth": 0,
            "ticks": ""
           }
          },
          "colorscale": {
           "diverging": [
            [
             0,
             "#8e0152"
            ],
            [
             0.1,
             "#c51b7d"
            ],
            [
             0.2,
             "#de77ae"
            ],
            [
             0.3,
             "#f1b6da"
            ],
            [
             0.4,
             "#fde0ef"
            ],
            [
             0.5,
             "#f7f7f7"
            ],
            [
             0.6,
             "#e6f5d0"
            ],
            [
             0.7,
             "#b8e186"
            ],
            [
             0.8,
             "#7fbc41"
            ],
            [
             0.9,
             "#4d9221"
            ],
            [
             1,
             "#276419"
            ]
           ],
           "sequential": [
            [
             0,
             "#0d0887"
            ],
            [
             0.1111111111111111,
             "#46039f"
            ],
            [
             0.2222222222222222,
             "#7201a8"
            ],
            [
             0.3333333333333333,
             "#9c179e"
            ],
            [
             0.4444444444444444,
             "#bd3786"
            ],
            [
             0.5555555555555556,
             "#d8576b"
            ],
            [
             0.6666666666666666,
             "#ed7953"
            ],
            [
             0.7777777777777778,
             "#fb9f3a"
            ],
            [
             0.8888888888888888,
             "#fdca26"
            ],
            [
             1,
             "#f0f921"
            ]
           ],
           "sequentialminus": [
            [
             0,
             "#0d0887"
            ],
            [
             0.1111111111111111,
             "#46039f"
            ],
            [
             0.2222222222222222,
             "#7201a8"
            ],
            [
             0.3333333333333333,
             "#9c179e"
            ],
            [
             0.4444444444444444,
             "#bd3786"
            ],
            [
             0.5555555555555556,
             "#d8576b"
            ],
            [
             0.6666666666666666,
             "#ed7953"
            ],
            [
             0.7777777777777778,
             "#fb9f3a"
            ],
            [
             0.8888888888888888,
             "#fdca26"
            ],
            [
             1,
             "#f0f921"
            ]
           ]
          },
          "colorway": [
           "#636efa",
           "#EF553B",
           "#00cc96",
           "#ab63fa",
           "#FFA15A",
           "#19d3f3",
           "#FF6692",
           "#B6E880",
           "#FF97FF",
           "#FECB52"
          ],
          "font": {
           "color": "#2a3f5f"
          },
          "geo": {
           "bgcolor": "white",
           "lakecolor": "white",
           "landcolor": "white",
           "showlakes": true,
           "showland": true,
           "subunitcolor": "#C8D4E3"
          },
          "hoverlabel": {
           "align": "left"
          },
          "hovermode": "closest",
          "mapbox": {
           "style": "light"
          },
          "paper_bgcolor": "white",
          "plot_bgcolor": "white",
          "polar": {
           "angularaxis": {
            "gridcolor": "#EBF0F8",
            "linecolor": "#EBF0F8",
            "ticks": ""
           },
           "bgcolor": "white",
           "radialaxis": {
            "gridcolor": "#EBF0F8",
            "linecolor": "#EBF0F8",
            "ticks": ""
           }
          },
          "scene": {
           "xaxis": {
            "backgroundcolor": "white",
            "gridcolor": "#DFE8F3",
            "gridwidth": 2,
            "linecolor": "#EBF0F8",
            "showbackground": true,
            "ticks": "",
            "zerolinecolor": "#EBF0F8"
           },
           "yaxis": {
            "backgroundcolor": "white",
            "gridcolor": "#DFE8F3",
            "gridwidth": 2,
            "linecolor": "#EBF0F8",
            "showbackground": true,
            "ticks": "",
            "zerolinecolor": "#EBF0F8"
           },
           "zaxis": {
            "backgroundcolor": "white",
            "gridcolor": "#DFE8F3",
            "gridwidth": 2,
            "linecolor": "#EBF0F8",
            "showbackground": true,
            "ticks": "",
            "zerolinecolor": "#EBF0F8"
           }
          },
          "shapedefaults": {
           "line": {
            "color": "#2a3f5f"
           }
          },
          "ternary": {
           "aaxis": {
            "gridcolor": "#DFE8F3",
            "linecolor": "#A2B1C6",
            "ticks": ""
           },
           "baxis": {
            "gridcolor": "#DFE8F3",
            "linecolor": "#A2B1C6",
            "ticks": ""
           },
           "bgcolor": "white",
           "caxis": {
            "gridcolor": "#DFE8F3",
            "linecolor": "#A2B1C6",
            "ticks": ""
           }
          },
          "title": {
           "x": 0.05
          },
          "xaxis": {
           "automargin": true,
           "gridcolor": "#EBF0F8",
           "linecolor": "#EBF0F8",
           "ticks": "",
           "title": {
            "standoff": 15
           },
           "zerolinecolor": "#EBF0F8",
           "zerolinewidth": 2
          },
          "yaxis": {
           "automargin": true,
           "gridcolor": "#EBF0F8",
           "linecolor": "#EBF0F8",
           "ticks": "",
           "title": {
            "standoff": 15
           },
           "zerolinecolor": "#EBF0F8",
           "zerolinewidth": 2
          }
         }
        },
        "title": {
         "text": "Cantidad de registros de presencia por año (2014-2024) para jaguares, ocelotes y pumas",
         "x": 0.5
        },
        "xaxis": {
         "anchor": "y",
         "domain": [
          0,
          1
         ],
         "title": {
          "text": "Año"
         }
        },
        "yaxis": {
         "anchor": "x",
         "domain": [
          0,
          1
         ],
         "title": {
          "text": "Registros de presencia"
         }
        }
       }
      }
     },
     "metadata": {},
     "output_type": "display_data"
    }
   ],
   "source": [
    "import pandas as pd\n",
    "import geopandas as gpd\n",
    "import plotly.express as px\n",
    "\n",
    "# Lectura de cada archivo GeoJSON en un GeoDataFrame con la columna de especie\n",
    "gdf_jaguar = gpd.read_file('registros-presencia-jaguar.geojson')\n",
    "gdf_jaguar['especie'] = 'Jaguar'\n",
    "\n",
    "gdf_ocelote = gpd.read_file('registros-presencia-ocelote.geojson')\n",
    "gdf_ocelote['especie'] = 'Ocelote'\n",
    "\n",
    "gdf_puma = gpd.read_file('registros-presencia-puma.geojson')\n",
    "gdf_puma['especie'] = 'Puma'\n",
    "\n",
    "# Concatenación de todos los registros en un solo DataFrame\n",
    "gdf = pd.concat([gdf_jaguar, gdf_ocelote, gdf_puma], ignore_index=True)\n",
    "\n",
    "# Conversión de 'eventDate' a hilera de texto y luego a formato datetime\n",
    "gdf['eventDate'] = gdf['eventDate'].astype(str)\n",
    "gdf['eventDate'] = pd.to_datetime(gdf['eventDate'], errors='coerce')\n",
    "\n",
    "# Extracción del año\n",
    "gdf['anio'] = gdf['eventDate'].dt.year\n",
    "\n",
    "# Filtrar el rango de años de interés (2014-2024)\n",
    "gdf = gdf[(gdf['anio'] >= 2014) & (gdf['anio'] <= 2024)]\n",
    "\n",
    "# Conteo de la cantidad de registros de presencia por año y especie\n",
    "registros_por_anio_especie = gdf.groupby(['anio', 'especie']).size().reset_index(name='cantidad')\n",
    "\n",
    "# Crear un DataFrame con todos los años en el rango 2014-2024 para cada especie\n",
    "todos_los_anios_especies = pd.DataFrame({\n",
    "    'anio': list(range(2014, 2025)) * 3,\n",
    "    'especie': ['Jaguar'] * 11 + ['Ocelote'] * 11 + ['Puma'] * 11\n",
    "})\n",
    "\n",
    "# Unir ambos DataFrames para asegurarse de que todos los años estén presentes para cada especie\n",
    "registros_por_anio_especie = todos_los_anios_especies.merge(\n",
    "    registros_por_anio_especie, \n",
    "    on=['anio', 'especie'], \n",
    "    how='left'\n",
    ")\n",
    "registros_por_anio_especie['cantidad'] = registros_por_anio_especie['cantidad'].fillna(0)  # Rellenar NaN con 0\n",
    "\n",
    "# Crear un gráfico de líneas interactivo con plotly\n",
    "fig = px.line(\n",
    "    registros_por_anio_especie,\n",
    "    x='anio',\n",
    "    y='cantidad',\n",
    "    color='especie',\n",
    "    title='Cantidad de registros de presencia por año (2014-2024) para jaguares, ocelotes y pumas',\n",
    "    labels={'anio': 'Año', 'cantidad': 'Cantidad de registros de presencia', 'especie': 'Especie'},\n",
    "     color_discrete_map={\n",
    "        'Jaguar': 'green',\n",
    "        'Ocelote': 'blue',\n",
    "        'Puma': 'red'\n",
    "    }  # Colores específicos para cada especie\n",
    ")\n",
    "\n",
    "# Ajustes al gráfico\n",
    "fig.update_layout(\n",
    "    xaxis_title='Año',\n",
    "    yaxis_title='Registros de presencia',\n",
    "    title_x=0.5,\n",
    "    template='plotly_white'\n",
    ")\n",
    "\n",
    "# Despliegue del gráfico\n",
    "fig.show()\n",
    "\n",
    "\n"
   ]
  },
  {
   "cell_type": "markdown",
   "metadata": {},
   "source": [
    "Además, en base a las preguntas de la Tarea 1. Con este gráfico de líneas se podría dar una respuesta general a las siguientes preguntas:\n",
    "\n",
    "**¿Existen tendencias que indiquen una expansión o contracción de sus hábitats?**\n",
    "\n",
    "Se puede pensar en un cambio en en la distribución de las especies, pero hacen falta datos espaciales, para confirmar una expansión o contracción en un área específica.\n",
    "\n",
    "**¿Existen regiones donde los esfuerzos de conservación deberían priorizarse según la presencia de especies vulnerables?**\n",
    "\n",
    "Un aumento en registros permite considerar el señalamiento de áreas de interés para conservación."
   ]
  },
  {
   "cell_type": "markdown",
   "metadata": {},
   "source": [
    "## Gráficos de barras"
   ]
  },
  {
   "cell_type": "markdown",
   "metadata": {},
   "source": [
    "### Jaguar - 2019"
   ]
  },
  {
   "cell_type": "markdown",
   "metadata": {},
   "source": [
    "Este gráfico detalla el número de observaciones mensuales de jaguares durante el año 2019. Cada mes está representado, incluyendo aquellos en los que no se registraron observaciones, lo cual ayuda a analizar la variabilidad de los registros a lo largo de las estaciones. Con un total anual indicado, es posible observar patrones mensuales que pueden correlacionarse con factores climáticos o comportamentales de la especie (Arroyo *et al*, 2014)."
   ]
  },
  {
   "cell_type": "code",
   "execution_count": 33,
   "metadata": {},
   "outputs": [
    {
     "name": "stderr",
     "output_type": "stream",
     "text": [
      "c:\\Users\\mfall\\miniconda3\\envs\\geopython\\Lib\\site-packages\\geopandas\\geodataframe.py:1819: SettingWithCopyWarning:\n",
      "\n",
      "\n",
      "A value is trying to be set on a copy of a slice from a DataFrame.\n",
      "Try using .loc[row_indexer,col_indexer] = value instead\n",
      "\n",
      "See the caveats in the documentation: https://pandas.pydata.org/pandas-docs/stable/user_guide/indexing.html#returning-a-view-versus-a-copy\n",
      "\n"
     ]
    },
    {
     "data": {
      "application/vnd.plotly.v1+json": {
       "config": {
        "plotlyServerURL": "https://plot.ly"
       },
       "data": [
        {
         "alignmentgroup": "True",
         "hovertemplate": "Mes=%{x}<br>Cantidad de registros de presencia=%{text}<extra></extra>",
         "legendgroup": "",
         "marker": {
          "color": "green",
          "pattern": {
           "shape": ""
          }
         },
         "name": "",
         "offsetgroup": "",
         "orientation": "v",
         "showlegend": false,
         "text": [
          0,
          9,
          1,
          15,
          4,
          0,
          4,
          1,
          1,
          1,
          0,
          0
         ],
         "textposition": "auto",
         "type": "bar",
         "x": [
          "Enero",
          "Febrero",
          "Marzo",
          "Abril",
          "Mayo",
          "Junio",
          "Julio",
          "Agosto",
          "Septiembre",
          "Octubre",
          "Noviembre",
          "Diciembre"
         ],
         "xaxis": "x",
         "y": [
          0,
          9,
          1,
          15,
          4,
          0,
          4,
          1,
          1,
          1,
          0,
          0
         ],
         "yaxis": "y"
        }
       ],
       "layout": {
        "barmode": "relative",
        "legend": {
         "tracegroupgap": 0
        },
        "template": {
         "data": {
          "bar": [
           {
            "error_x": {
             "color": "#2a3f5f"
            },
            "error_y": {
             "color": "#2a3f5f"
            },
            "marker": {
             "line": {
              "color": "white",
              "width": 0.5
             },
             "pattern": {
              "fillmode": "overlay",
              "size": 10,
              "solidity": 0.2
             }
            },
            "type": "bar"
           }
          ],
          "barpolar": [
           {
            "marker": {
             "line": {
              "color": "white",
              "width": 0.5
             },
             "pattern": {
              "fillmode": "overlay",
              "size": 10,
              "solidity": 0.2
             }
            },
            "type": "barpolar"
           }
          ],
          "carpet": [
           {
            "aaxis": {
             "endlinecolor": "#2a3f5f",
             "gridcolor": "#C8D4E3",
             "linecolor": "#C8D4E3",
             "minorgridcolor": "#C8D4E3",
             "startlinecolor": "#2a3f5f"
            },
            "baxis": {
             "endlinecolor": "#2a3f5f",
             "gridcolor": "#C8D4E3",
             "linecolor": "#C8D4E3",
             "minorgridcolor": "#C8D4E3",
             "startlinecolor": "#2a3f5f"
            },
            "type": "carpet"
           }
          ],
          "choropleth": [
           {
            "colorbar": {
             "outlinewidth": 0,
             "ticks": ""
            },
            "type": "choropleth"
           }
          ],
          "contour": [
           {
            "colorbar": {
             "outlinewidth": 0,
             "ticks": ""
            },
            "colorscale": [
             [
              0,
              "#0d0887"
             ],
             [
              0.1111111111111111,
              "#46039f"
             ],
             [
              0.2222222222222222,
              "#7201a8"
             ],
             [
              0.3333333333333333,
              "#9c179e"
             ],
             [
              0.4444444444444444,
              "#bd3786"
             ],
             [
              0.5555555555555556,
              "#d8576b"
             ],
             [
              0.6666666666666666,
              "#ed7953"
             ],
             [
              0.7777777777777778,
              "#fb9f3a"
             ],
             [
              0.8888888888888888,
              "#fdca26"
             ],
             [
              1,
              "#f0f921"
             ]
            ],
            "type": "contour"
           }
          ],
          "contourcarpet": [
           {
            "colorbar": {
             "outlinewidth": 0,
             "ticks": ""
            },
            "type": "contourcarpet"
           }
          ],
          "heatmap": [
           {
            "colorbar": {
             "outlinewidth": 0,
             "ticks": ""
            },
            "colorscale": [
             [
              0,
              "#0d0887"
             ],
             [
              0.1111111111111111,
              "#46039f"
             ],
             [
              0.2222222222222222,
              "#7201a8"
             ],
             [
              0.3333333333333333,
              "#9c179e"
             ],
             [
              0.4444444444444444,
              "#bd3786"
             ],
             [
              0.5555555555555556,
              "#d8576b"
             ],
             [
              0.6666666666666666,
              "#ed7953"
             ],
             [
              0.7777777777777778,
              "#fb9f3a"
             ],
             [
              0.8888888888888888,
              "#fdca26"
             ],
             [
              1,
              "#f0f921"
             ]
            ],
            "type": "heatmap"
           }
          ],
          "heatmapgl": [
           {
            "colorbar": {
             "outlinewidth": 0,
             "ticks": ""
            },
            "colorscale": [
             [
              0,
              "#0d0887"
             ],
             [
              0.1111111111111111,
              "#46039f"
             ],
             [
              0.2222222222222222,
              "#7201a8"
             ],
             [
              0.3333333333333333,
              "#9c179e"
             ],
             [
              0.4444444444444444,
              "#bd3786"
             ],
             [
              0.5555555555555556,
              "#d8576b"
             ],
             [
              0.6666666666666666,
              "#ed7953"
             ],
             [
              0.7777777777777778,
              "#fb9f3a"
             ],
             [
              0.8888888888888888,
              "#fdca26"
             ],
             [
              1,
              "#f0f921"
             ]
            ],
            "type": "heatmapgl"
           }
          ],
          "histogram": [
           {
            "marker": {
             "pattern": {
              "fillmode": "overlay",
              "size": 10,
              "solidity": 0.2
             }
            },
            "type": "histogram"
           }
          ],
          "histogram2d": [
           {
            "colorbar": {
             "outlinewidth": 0,
             "ticks": ""
            },
            "colorscale": [
             [
              0,
              "#0d0887"
             ],
             [
              0.1111111111111111,
              "#46039f"
             ],
             [
              0.2222222222222222,
              "#7201a8"
             ],
             [
              0.3333333333333333,
              "#9c179e"
             ],
             [
              0.4444444444444444,
              "#bd3786"
             ],
             [
              0.5555555555555556,
              "#d8576b"
             ],
             [
              0.6666666666666666,
              "#ed7953"
             ],
             [
              0.7777777777777778,
              "#fb9f3a"
             ],
             [
              0.8888888888888888,
              "#fdca26"
             ],
             [
              1,
              "#f0f921"
             ]
            ],
            "type": "histogram2d"
           }
          ],
          "histogram2dcontour": [
           {
            "colorbar": {
             "outlinewidth": 0,
             "ticks": ""
            },
            "colorscale": [
             [
              0,
              "#0d0887"
             ],
             [
              0.1111111111111111,
              "#46039f"
             ],
             [
              0.2222222222222222,
              "#7201a8"
             ],
             [
              0.3333333333333333,
              "#9c179e"
             ],
             [
              0.4444444444444444,
              "#bd3786"
             ],
             [
              0.5555555555555556,
              "#d8576b"
             ],
             [
              0.6666666666666666,
              "#ed7953"
             ],
             [
              0.7777777777777778,
              "#fb9f3a"
             ],
             [
              0.8888888888888888,
              "#fdca26"
             ],
             [
              1,
              "#f0f921"
             ]
            ],
            "type": "histogram2dcontour"
           }
          ],
          "mesh3d": [
           {
            "colorbar": {
             "outlinewidth": 0,
             "ticks": ""
            },
            "type": "mesh3d"
           }
          ],
          "parcoords": [
           {
            "line": {
             "colorbar": {
              "outlinewidth": 0,
              "ticks": ""
             }
            },
            "type": "parcoords"
           }
          ],
          "pie": [
           {
            "automargin": true,
            "type": "pie"
           }
          ],
          "scatter": [
           {
            "fillpattern": {
             "fillmode": "overlay",
             "size": 10,
             "solidity": 0.2
            },
            "type": "scatter"
           }
          ],
          "scatter3d": [
           {
            "line": {
             "colorbar": {
              "outlinewidth": 0,
              "ticks": ""
             }
            },
            "marker": {
             "colorbar": {
              "outlinewidth": 0,
              "ticks": ""
             }
            },
            "type": "scatter3d"
           }
          ],
          "scattercarpet": [
           {
            "marker": {
             "colorbar": {
              "outlinewidth": 0,
              "ticks": ""
             }
            },
            "type": "scattercarpet"
           }
          ],
          "scattergeo": [
           {
            "marker": {
             "colorbar": {
              "outlinewidth": 0,
              "ticks": ""
             }
            },
            "type": "scattergeo"
           }
          ],
          "scattergl": [
           {
            "marker": {
             "colorbar": {
              "outlinewidth": 0,
              "ticks": ""
             }
            },
            "type": "scattergl"
           }
          ],
          "scattermapbox": [
           {
            "marker": {
             "colorbar": {
              "outlinewidth": 0,
              "ticks": ""
             }
            },
            "type": "scattermapbox"
           }
          ],
          "scatterpolar": [
           {
            "marker": {
             "colorbar": {
              "outlinewidth": 0,
              "ticks": ""
             }
            },
            "type": "scatterpolar"
           }
          ],
          "scatterpolargl": [
           {
            "marker": {
             "colorbar": {
              "outlinewidth": 0,
              "ticks": ""
             }
            },
            "type": "scatterpolargl"
           }
          ],
          "scatterternary": [
           {
            "marker": {
             "colorbar": {
              "outlinewidth": 0,
              "ticks": ""
             }
            },
            "type": "scatterternary"
           }
          ],
          "surface": [
           {
            "colorbar": {
             "outlinewidth": 0,
             "ticks": ""
            },
            "colorscale": [
             [
              0,
              "#0d0887"
             ],
             [
              0.1111111111111111,
              "#46039f"
             ],
             [
              0.2222222222222222,
              "#7201a8"
             ],
             [
              0.3333333333333333,
              "#9c179e"
             ],
             [
              0.4444444444444444,
              "#bd3786"
             ],
             [
              0.5555555555555556,
              "#d8576b"
             ],
             [
              0.6666666666666666,
              "#ed7953"
             ],
             [
              0.7777777777777778,
              "#fb9f3a"
             ],
             [
              0.8888888888888888,
              "#fdca26"
             ],
             [
              1,
              "#f0f921"
             ]
            ],
            "type": "surface"
           }
          ],
          "table": [
           {
            "cells": {
             "fill": {
              "color": "#EBF0F8"
             },
             "line": {
              "color": "white"
             }
            },
            "header": {
             "fill": {
              "color": "#C8D4E3"
             },
             "line": {
              "color": "white"
             }
            },
            "type": "table"
           }
          ]
         },
         "layout": {
          "annotationdefaults": {
           "arrowcolor": "#2a3f5f",
           "arrowhead": 0,
           "arrowwidth": 1
          },
          "autotypenumbers": "strict",
          "coloraxis": {
           "colorbar": {
            "outlinewidth": 0,
            "ticks": ""
           }
          },
          "colorscale": {
           "diverging": [
            [
             0,
             "#8e0152"
            ],
            [
             0.1,
             "#c51b7d"
            ],
            [
             0.2,
             "#de77ae"
            ],
            [
             0.3,
             "#f1b6da"
            ],
            [
             0.4,
             "#fde0ef"
            ],
            [
             0.5,
             "#f7f7f7"
            ],
            [
             0.6,
             "#e6f5d0"
            ],
            [
             0.7,
             "#b8e186"
            ],
            [
             0.8,
             "#7fbc41"
            ],
            [
             0.9,
             "#4d9221"
            ],
            [
             1,
             "#276419"
            ]
           ],
           "sequential": [
            [
             0,
             "#0d0887"
            ],
            [
             0.1111111111111111,
             "#46039f"
            ],
            [
             0.2222222222222222,
             "#7201a8"
            ],
            [
             0.3333333333333333,
             "#9c179e"
            ],
            [
             0.4444444444444444,
             "#bd3786"
            ],
            [
             0.5555555555555556,
             "#d8576b"
            ],
            [
             0.6666666666666666,
             "#ed7953"
            ],
            [
             0.7777777777777778,
             "#fb9f3a"
            ],
            [
             0.8888888888888888,
             "#fdca26"
            ],
            [
             1,
             "#f0f921"
            ]
           ],
           "sequentialminus": [
            [
             0,
             "#0d0887"
            ],
            [
             0.1111111111111111,
             "#46039f"
            ],
            [
             0.2222222222222222,
             "#7201a8"
            ],
            [
             0.3333333333333333,
             "#9c179e"
            ],
            [
             0.4444444444444444,
             "#bd3786"
            ],
            [
             0.5555555555555556,
             "#d8576b"
            ],
            [
             0.6666666666666666,
             "#ed7953"
            ],
            [
             0.7777777777777778,
             "#fb9f3a"
            ],
            [
             0.8888888888888888,
             "#fdca26"
            ],
            [
             1,
             "#f0f921"
            ]
           ]
          },
          "colorway": [
           "#636efa",
           "#EF553B",
           "#00cc96",
           "#ab63fa",
           "#FFA15A",
           "#19d3f3",
           "#FF6692",
           "#B6E880",
           "#FF97FF",
           "#FECB52"
          ],
          "font": {
           "color": "#2a3f5f"
          },
          "geo": {
           "bgcolor": "white",
           "lakecolor": "white",
           "landcolor": "white",
           "showlakes": true,
           "showland": true,
           "subunitcolor": "#C8D4E3"
          },
          "hoverlabel": {
           "align": "left"
          },
          "hovermode": "closest",
          "mapbox": {
           "style": "light"
          },
          "paper_bgcolor": "white",
          "plot_bgcolor": "white",
          "polar": {
           "angularaxis": {
            "gridcolor": "#EBF0F8",
            "linecolor": "#EBF0F8",
            "ticks": ""
           },
           "bgcolor": "white",
           "radialaxis": {
            "gridcolor": "#EBF0F8",
            "linecolor": "#EBF0F8",
            "ticks": ""
           }
          },
          "scene": {
           "xaxis": {
            "backgroundcolor": "white",
            "gridcolor": "#DFE8F3",
            "gridwidth": 2,
            "linecolor": "#EBF0F8",
            "showbackground": true,
            "ticks": "",
            "zerolinecolor": "#EBF0F8"
           },
           "yaxis": {
            "backgroundcolor": "white",
            "gridcolor": "#DFE8F3",
            "gridwidth": 2,
            "linecolor": "#EBF0F8",
            "showbackground": true,
            "ticks": "",
            "zerolinecolor": "#EBF0F8"
           },
           "zaxis": {
            "backgroundcolor": "white",
            "gridcolor": "#DFE8F3",
            "gridwidth": 2,
            "linecolor": "#EBF0F8",
            "showbackground": true,
            "ticks": "",
            "zerolinecolor": "#EBF0F8"
           }
          },
          "shapedefaults": {
           "line": {
            "color": "#2a3f5f"
           }
          },
          "ternary": {
           "aaxis": {
            "gridcolor": "#DFE8F3",
            "linecolor": "#A2B1C6",
            "ticks": ""
           },
           "baxis": {
            "gridcolor": "#DFE8F3",
            "linecolor": "#A2B1C6",
            "ticks": ""
           },
           "bgcolor": "white",
           "caxis": {
            "gridcolor": "#DFE8F3",
            "linecolor": "#A2B1C6",
            "ticks": ""
           }
          },
          "title": {
           "x": 0.05
          },
          "xaxis": {
           "automargin": true,
           "gridcolor": "#EBF0F8",
           "linecolor": "#EBF0F8",
           "ticks": "",
           "title": {
            "standoff": 15
           },
           "zerolinecolor": "#EBF0F8",
           "zerolinewidth": 2
          },
          "yaxis": {
           "automargin": true,
           "gridcolor": "#EBF0F8",
           "linecolor": "#EBF0F8",
           "ticks": "",
           "title": {
            "standoff": 15
           },
           "zerolinecolor": "#EBF0F8",
           "zerolinewidth": 2
          }
         }
        },
        "title": {
         "text": "Cantidad de registros de presencia de jaguares por mes en 2019 (Total: 36)",
         "x": 0.5
        },
        "xaxis": {
         "anchor": "y",
         "domain": [
          0,
          1
         ],
         "title": {
          "text": "Mes"
         }
        },
        "yaxis": {
         "anchor": "x",
         "domain": [
          0,
          1
         ],
         "title": {
          "text": "Cantidad de registros de presencia"
         }
        }
       }
      }
     },
     "metadata": {},
     "output_type": "display_data"
    }
   ],
   "source": [
    "import pandas as pd\n",
    "import geopandas as gpd\n",
    "import plotly.express as px\n",
    "\n",
    "# Lista de nombres de meses en español\n",
    "meses_espanol = [\n",
    "    'Enero', 'Febrero', 'Marzo', 'Abril', 'Mayo', 'Junio',\n",
    "    'Julio', 'Agosto', 'Septiembre', 'Octubre', 'Noviembre', 'Diciembre'\n",
    "]\n",
    "\n",
    "# Lectura del archivo GeoJSON específico de jaguares en un GeoDataFrame\n",
    "gdf_jaguar = gpd.read_file('registros-presencia-jaguar.geojson')\n",
    "\n",
    "# Conversión de 'eventDate' a hilera de texto y luego a formato datetime\n",
    "gdf_jaguar['eventDate'] = gdf_jaguar['eventDate'].astype(str)\n",
    "gdf_jaguar['eventDate'] = pd.to_datetime(gdf_jaguar['eventDate'], errors='coerce')\n",
    "\n",
    "# Filtrar los datos para el año 2019\n",
    "gdf_jaguar_2019 = gdf_jaguar[gdf_jaguar['eventDate'].dt.year == 2019]\n",
    "\n",
    "# Extracción del mes\n",
    "gdf_jaguar_2019['mes'] = gdf_jaguar_2019['eventDate'].dt.month\n",
    "\n",
    "# Conteo de la cantidad de registros de presencia por mes en 2019\n",
    "registros_por_mes_2019 = gdf_jaguar_2019.groupby('mes').size().reset_index(name='cantidad')\n",
    "\n",
    "# Crear un DataFrame con todos los meses del año\n",
    "todos_los_meses = pd.DataFrame({'mes': range(1, 13)})\n",
    "\n",
    "# Unir ambos DataFrames para asegurarse de que todos los meses estén presentes\n",
    "registros_por_mes_2019 = todos_los_meses.merge(registros_por_mes_2019, on='mes', how='left')\n",
    "registros_por_mes_2019['cantidad'] = registros_por_mes_2019['cantidad'].fillna(0)  # Rellenar NaN con 0\n",
    "\n",
    "# Agregar la columna con los nombres de los meses en español\n",
    "registros_por_mes_2019['mes_nombre'] = registros_por_mes_2019['mes'].apply(lambda x: meses_espanol[x - 1])\n",
    "\n",
    "# Crear un gráfico de barras para mostrar la cantidad de observaciones por mes en 2019\n",
    "fig = px.bar(\n",
    "    registros_por_mes_2019,\n",
    "    x='mes_nombre',\n",
    "    y='cantidad',\n",
    "    title='Cantidad de registros de presencia de jaguares por mes en 2019 (Total: 36)',\n",
    "    labels={'mes_nombre': 'Mes', 'cantidad': 'Cantidad de registros de presencia'},\n",
    "    text='cantidad',\n",
    "    color_discrete_sequence=['green']  # Configurar el color de las barras en verde\n",
    ")\n",
    "\n",
    "# Ajustes al gráfico\n",
    "fig.update_layout(\n",
    "    xaxis_title='Mes',\n",
    "    yaxis_title='Cantidad de registros de presencia',\n",
    "    title_x=0.5,\n",
    "    template='plotly_white'\n",
    ")\n",
    "\n",
    "# Despliegue del gráfico\n",
    "fig.show()\n"
   ]
  },
  {
   "cell_type": "markdown",
   "metadata": {},
   "source": [
    "### Ocelotes - 2023"
   ]
  },
  {
   "cell_type": "markdown",
   "metadata": {},
   "source": [
    "Este gráfico de barras muestra el número de observaciones mensuales de ocelotes en el año 2023. El gráfico tiene las barras en azul y cuenta con el total de 130 observaciones."
   ]
  },
  {
   "cell_type": "markdown",
   "metadata": {},
   "source": [
    "El gráfico presenta la cantidad de registros de presencia de ocelotes por mes, con los nombres de los meses en español en el eje x y la cantidad de registros en el eje y. Esta visualización permite observar patrones de actividad mensual, como posibles aumentos o disminuciones en observaciones en función de la temporada."
   ]
  },
  {
   "cell_type": "code",
   "execution_count": 32,
   "metadata": {},
   "outputs": [
    {
     "name": "stderr",
     "output_type": "stream",
     "text": [
      "c:\\Users\\mfall\\miniconda3\\envs\\geopython\\Lib\\site-packages\\geopandas\\geodataframe.py:1819: SettingWithCopyWarning:\n",
      "\n",
      "\n",
      "A value is trying to be set on a copy of a slice from a DataFrame.\n",
      "Try using .loc[row_indexer,col_indexer] = value instead\n",
      "\n",
      "See the caveats in the documentation: https://pandas.pydata.org/pandas-docs/stable/user_guide/indexing.html#returning-a-view-versus-a-copy\n",
      "\n"
     ]
    },
    {
     "data": {
      "application/vnd.plotly.v1+json": {
       "config": {
        "plotlyServerURL": "https://plot.ly"
       },
       "data": [
        {
         "alignmentgroup": "True",
         "hovertemplate": "Mes=%{x}<br>Cantidad de registros de presencia=%{text}<extra></extra>",
         "legendgroup": "",
         "marker": {
          "color": "blue",
          "pattern": {
           "shape": ""
          }
         },
         "name": "",
         "offsetgroup": "",
         "orientation": "v",
         "showlegend": false,
         "text": [
          17,
          6,
          22,
          29,
          29,
          3,
          4,
          3,
          8,
          5,
          2,
          2
         ],
         "textposition": "auto",
         "type": "bar",
         "x": [
          "Enero",
          "Febrero",
          "Marzo",
          "Abril",
          "Mayo",
          "Junio",
          "Julio",
          "Agosto",
          "Septiembre",
          "Octubre",
          "Noviembre",
          "Diciembre"
         ],
         "xaxis": "x",
         "y": [
          17,
          6,
          22,
          29,
          29,
          3,
          4,
          3,
          8,
          5,
          2,
          2
         ],
         "yaxis": "y"
        }
       ],
       "layout": {
        "barmode": "relative",
        "legend": {
         "tracegroupgap": 0
        },
        "template": {
         "data": {
          "bar": [
           {
            "error_x": {
             "color": "#2a3f5f"
            },
            "error_y": {
             "color": "#2a3f5f"
            },
            "marker": {
             "line": {
              "color": "white",
              "width": 0.5
             },
             "pattern": {
              "fillmode": "overlay",
              "size": 10,
              "solidity": 0.2
             }
            },
            "type": "bar"
           }
          ],
          "barpolar": [
           {
            "marker": {
             "line": {
              "color": "white",
              "width": 0.5
             },
             "pattern": {
              "fillmode": "overlay",
              "size": 10,
              "solidity": 0.2
             }
            },
            "type": "barpolar"
           }
          ],
          "carpet": [
           {
            "aaxis": {
             "endlinecolor": "#2a3f5f",
             "gridcolor": "#C8D4E3",
             "linecolor": "#C8D4E3",
             "minorgridcolor": "#C8D4E3",
             "startlinecolor": "#2a3f5f"
            },
            "baxis": {
             "endlinecolor": "#2a3f5f",
             "gridcolor": "#C8D4E3",
             "linecolor": "#C8D4E3",
             "minorgridcolor": "#C8D4E3",
             "startlinecolor": "#2a3f5f"
            },
            "type": "carpet"
           }
          ],
          "choropleth": [
           {
            "colorbar": {
             "outlinewidth": 0,
             "ticks": ""
            },
            "type": "choropleth"
           }
          ],
          "contour": [
           {
            "colorbar": {
             "outlinewidth": 0,
             "ticks": ""
            },
            "colorscale": [
             [
              0,
              "#0d0887"
             ],
             [
              0.1111111111111111,
              "#46039f"
             ],
             [
              0.2222222222222222,
              "#7201a8"
             ],
             [
              0.3333333333333333,
              "#9c179e"
             ],
             [
              0.4444444444444444,
              "#bd3786"
             ],
             [
              0.5555555555555556,
              "#d8576b"
             ],
             [
              0.6666666666666666,
              "#ed7953"
             ],
             [
              0.7777777777777778,
              "#fb9f3a"
             ],
             [
              0.8888888888888888,
              "#fdca26"
             ],
             [
              1,
              "#f0f921"
             ]
            ],
            "type": "contour"
           }
          ],
          "contourcarpet": [
           {
            "colorbar": {
             "outlinewidth": 0,
             "ticks": ""
            },
            "type": "contourcarpet"
           }
          ],
          "heatmap": [
           {
            "colorbar": {
             "outlinewidth": 0,
             "ticks": ""
            },
            "colorscale": [
             [
              0,
              "#0d0887"
             ],
             [
              0.1111111111111111,
              "#46039f"
             ],
             [
              0.2222222222222222,
              "#7201a8"
             ],
             [
              0.3333333333333333,
              "#9c179e"
             ],
             [
              0.4444444444444444,
              "#bd3786"
             ],
             [
              0.5555555555555556,
              "#d8576b"
             ],
             [
              0.6666666666666666,
              "#ed7953"
             ],
             [
              0.7777777777777778,
              "#fb9f3a"
             ],
             [
              0.8888888888888888,
              "#fdca26"
             ],
             [
              1,
              "#f0f921"
             ]
            ],
            "type": "heatmap"
           }
          ],
          "heatmapgl": [
           {
            "colorbar": {
             "outlinewidth": 0,
             "ticks": ""
            },
            "colorscale": [
             [
              0,
              "#0d0887"
             ],
             [
              0.1111111111111111,
              "#46039f"
             ],
             [
              0.2222222222222222,
              "#7201a8"
             ],
             [
              0.3333333333333333,
              "#9c179e"
             ],
             [
              0.4444444444444444,
              "#bd3786"
             ],
             [
              0.5555555555555556,
              "#d8576b"
             ],
             [
              0.6666666666666666,
              "#ed7953"
             ],
             [
              0.7777777777777778,
              "#fb9f3a"
             ],
             [
              0.8888888888888888,
              "#fdca26"
             ],
             [
              1,
              "#f0f921"
             ]
            ],
            "type": "heatmapgl"
           }
          ],
          "histogram": [
           {
            "marker": {
             "pattern": {
              "fillmode": "overlay",
              "size": 10,
              "solidity": 0.2
             }
            },
            "type": "histogram"
           }
          ],
          "histogram2d": [
           {
            "colorbar": {
             "outlinewidth": 0,
             "ticks": ""
            },
            "colorscale": [
             [
              0,
              "#0d0887"
             ],
             [
              0.1111111111111111,
              "#46039f"
             ],
             [
              0.2222222222222222,
              "#7201a8"
             ],
             [
              0.3333333333333333,
              "#9c179e"
             ],
             [
              0.4444444444444444,
              "#bd3786"
             ],
             [
              0.5555555555555556,
              "#d8576b"
             ],
             [
              0.6666666666666666,
              "#ed7953"
             ],
             [
              0.7777777777777778,
              "#fb9f3a"
             ],
             [
              0.8888888888888888,
              "#fdca26"
             ],
             [
              1,
              "#f0f921"
             ]
            ],
            "type": "histogram2d"
           }
          ],
          "histogram2dcontour": [
           {
            "colorbar": {
             "outlinewidth": 0,
             "ticks": ""
            },
            "colorscale": [
             [
              0,
              "#0d0887"
             ],
             [
              0.1111111111111111,
              "#46039f"
             ],
             [
              0.2222222222222222,
              "#7201a8"
             ],
             [
              0.3333333333333333,
              "#9c179e"
             ],
             [
              0.4444444444444444,
              "#bd3786"
             ],
             [
              0.5555555555555556,
              "#d8576b"
             ],
             [
              0.6666666666666666,
              "#ed7953"
             ],
             [
              0.7777777777777778,
              "#fb9f3a"
             ],
             [
              0.8888888888888888,
              "#fdca26"
             ],
             [
              1,
              "#f0f921"
             ]
            ],
            "type": "histogram2dcontour"
           }
          ],
          "mesh3d": [
           {
            "colorbar": {
             "outlinewidth": 0,
             "ticks": ""
            },
            "type": "mesh3d"
           }
          ],
          "parcoords": [
           {
            "line": {
             "colorbar": {
              "outlinewidth": 0,
              "ticks": ""
             }
            },
            "type": "parcoords"
           }
          ],
          "pie": [
           {
            "automargin": true,
            "type": "pie"
           }
          ],
          "scatter": [
           {
            "fillpattern": {
             "fillmode": "overlay",
             "size": 10,
             "solidity": 0.2
            },
            "type": "scatter"
           }
          ],
          "scatter3d": [
           {
            "line": {
             "colorbar": {
              "outlinewidth": 0,
              "ticks": ""
             }
            },
            "marker": {
             "colorbar": {
              "outlinewidth": 0,
              "ticks": ""
             }
            },
            "type": "scatter3d"
           }
          ],
          "scattercarpet": [
           {
            "marker": {
             "colorbar": {
              "outlinewidth": 0,
              "ticks": ""
             }
            },
            "type": "scattercarpet"
           }
          ],
          "scattergeo": [
           {
            "marker": {
             "colorbar": {
              "outlinewidth": 0,
              "ticks": ""
             }
            },
            "type": "scattergeo"
           }
          ],
          "scattergl": [
           {
            "marker": {
             "colorbar": {
              "outlinewidth": 0,
              "ticks": ""
             }
            },
            "type": "scattergl"
           }
          ],
          "scattermapbox": [
           {
            "marker": {
             "colorbar": {
              "outlinewidth": 0,
              "ticks": ""
             }
            },
            "type": "scattermapbox"
           }
          ],
          "scatterpolar": [
           {
            "marker": {
             "colorbar": {
              "outlinewidth": 0,
              "ticks": ""
             }
            },
            "type": "scatterpolar"
           }
          ],
          "scatterpolargl": [
           {
            "marker": {
             "colorbar": {
              "outlinewidth": 0,
              "ticks": ""
             }
            },
            "type": "scatterpolargl"
           }
          ],
          "scatterternary": [
           {
            "marker": {
             "colorbar": {
              "outlinewidth": 0,
              "ticks": ""
             }
            },
            "type": "scatterternary"
           }
          ],
          "surface": [
           {
            "colorbar": {
             "outlinewidth": 0,
             "ticks": ""
            },
            "colorscale": [
             [
              0,
              "#0d0887"
             ],
             [
              0.1111111111111111,
              "#46039f"
             ],
             [
              0.2222222222222222,
              "#7201a8"
             ],
             [
              0.3333333333333333,
              "#9c179e"
             ],
             [
              0.4444444444444444,
              "#bd3786"
             ],
             [
              0.5555555555555556,
              "#d8576b"
             ],
             [
              0.6666666666666666,
              "#ed7953"
             ],
             [
              0.7777777777777778,
              "#fb9f3a"
             ],
             [
              0.8888888888888888,
              "#fdca26"
             ],
             [
              1,
              "#f0f921"
             ]
            ],
            "type": "surface"
           }
          ],
          "table": [
           {
            "cells": {
             "fill": {
              "color": "#EBF0F8"
             },
             "line": {
              "color": "white"
             }
            },
            "header": {
             "fill": {
              "color": "#C8D4E3"
             },
             "line": {
              "color": "white"
             }
            },
            "type": "table"
           }
          ]
         },
         "layout": {
          "annotationdefaults": {
           "arrowcolor": "#2a3f5f",
           "arrowhead": 0,
           "arrowwidth": 1
          },
          "autotypenumbers": "strict",
          "coloraxis": {
           "colorbar": {
            "outlinewidth": 0,
            "ticks": ""
           }
          },
          "colorscale": {
           "diverging": [
            [
             0,
             "#8e0152"
            ],
            [
             0.1,
             "#c51b7d"
            ],
            [
             0.2,
             "#de77ae"
            ],
            [
             0.3,
             "#f1b6da"
            ],
            [
             0.4,
             "#fde0ef"
            ],
            [
             0.5,
             "#f7f7f7"
            ],
            [
             0.6,
             "#e6f5d0"
            ],
            [
             0.7,
             "#b8e186"
            ],
            [
             0.8,
             "#7fbc41"
            ],
            [
             0.9,
             "#4d9221"
            ],
            [
             1,
             "#276419"
            ]
           ],
           "sequential": [
            [
             0,
             "#0d0887"
            ],
            [
             0.1111111111111111,
             "#46039f"
            ],
            [
             0.2222222222222222,
             "#7201a8"
            ],
            [
             0.3333333333333333,
             "#9c179e"
            ],
            [
             0.4444444444444444,
             "#bd3786"
            ],
            [
             0.5555555555555556,
             "#d8576b"
            ],
            [
             0.6666666666666666,
             "#ed7953"
            ],
            [
             0.7777777777777778,
             "#fb9f3a"
            ],
            [
             0.8888888888888888,
             "#fdca26"
            ],
            [
             1,
             "#f0f921"
            ]
           ],
           "sequentialminus": [
            [
             0,
             "#0d0887"
            ],
            [
             0.1111111111111111,
             "#46039f"
            ],
            [
             0.2222222222222222,
             "#7201a8"
            ],
            [
             0.3333333333333333,
             "#9c179e"
            ],
            [
             0.4444444444444444,
             "#bd3786"
            ],
            [
             0.5555555555555556,
             "#d8576b"
            ],
            [
             0.6666666666666666,
             "#ed7953"
            ],
            [
             0.7777777777777778,
             "#fb9f3a"
            ],
            [
             0.8888888888888888,
             "#fdca26"
            ],
            [
             1,
             "#f0f921"
            ]
           ]
          },
          "colorway": [
           "#636efa",
           "#EF553B",
           "#00cc96",
           "#ab63fa",
           "#FFA15A",
           "#19d3f3",
           "#FF6692",
           "#B6E880",
           "#FF97FF",
           "#FECB52"
          ],
          "font": {
           "color": "#2a3f5f"
          },
          "geo": {
           "bgcolor": "white",
           "lakecolor": "white",
           "landcolor": "white",
           "showlakes": true,
           "showland": true,
           "subunitcolor": "#C8D4E3"
          },
          "hoverlabel": {
           "align": "left"
          },
          "hovermode": "closest",
          "mapbox": {
           "style": "light"
          },
          "paper_bgcolor": "white",
          "plot_bgcolor": "white",
          "polar": {
           "angularaxis": {
            "gridcolor": "#EBF0F8",
            "linecolor": "#EBF0F8",
            "ticks": ""
           },
           "bgcolor": "white",
           "radialaxis": {
            "gridcolor": "#EBF0F8",
            "linecolor": "#EBF0F8",
            "ticks": ""
           }
          },
          "scene": {
           "xaxis": {
            "backgroundcolor": "white",
            "gridcolor": "#DFE8F3",
            "gridwidth": 2,
            "linecolor": "#EBF0F8",
            "showbackground": true,
            "ticks": "",
            "zerolinecolor": "#EBF0F8"
           },
           "yaxis": {
            "backgroundcolor": "white",
            "gridcolor": "#DFE8F3",
            "gridwidth": 2,
            "linecolor": "#EBF0F8",
            "showbackground": true,
            "ticks": "",
            "zerolinecolor": "#EBF0F8"
           },
           "zaxis": {
            "backgroundcolor": "white",
            "gridcolor": "#DFE8F3",
            "gridwidth": 2,
            "linecolor": "#EBF0F8",
            "showbackground": true,
            "ticks": "",
            "zerolinecolor": "#EBF0F8"
           }
          },
          "shapedefaults": {
           "line": {
            "color": "#2a3f5f"
           }
          },
          "ternary": {
           "aaxis": {
            "gridcolor": "#DFE8F3",
            "linecolor": "#A2B1C6",
            "ticks": ""
           },
           "baxis": {
            "gridcolor": "#DFE8F3",
            "linecolor": "#A2B1C6",
            "ticks": ""
           },
           "bgcolor": "white",
           "caxis": {
            "gridcolor": "#DFE8F3",
            "linecolor": "#A2B1C6",
            "ticks": ""
           }
          },
          "title": {
           "x": 0.05
          },
          "xaxis": {
           "automargin": true,
           "gridcolor": "#EBF0F8",
           "linecolor": "#EBF0F8",
           "ticks": "",
           "title": {
            "standoff": 15
           },
           "zerolinecolor": "#EBF0F8",
           "zerolinewidth": 2
          },
          "yaxis": {
           "automargin": true,
           "gridcolor": "#EBF0F8",
           "linecolor": "#EBF0F8",
           "ticks": "",
           "title": {
            "standoff": 15
           },
           "zerolinecolor": "#EBF0F8",
           "zerolinewidth": 2
          }
         }
        },
        "title": {
         "text": "Cantidad de registros de presencia de ocelotes por mes en 2023 (Total: 130)",
         "x": 0.5
        },
        "xaxis": {
         "anchor": "y",
         "domain": [
          0,
          1
         ],
         "title": {
          "text": "Mes"
         }
        },
        "yaxis": {
         "anchor": "x",
         "domain": [
          0,
          1
         ],
         "title": {
          "text": "Cantidad de registros de presencia"
         }
        }
       }
      }
     },
     "metadata": {},
     "output_type": "display_data"
    }
   ],
   "source": [
    "import pandas as pd\n",
    "import geopandas as gpd\n",
    "import plotly.express as px\n",
    "\n",
    "# Lista de nombres de meses en español\n",
    "meses_espanol = [\n",
    "    'Enero', 'Febrero', 'Marzo', 'Abril', 'Mayo', 'Junio',\n",
    "    'Julio', 'Agosto', 'Septiembre', 'Octubre', 'Noviembre', 'Diciembre'\n",
    "]\n",
    "\n",
    "# Lectura del archivo GeoJSON específico de ocelotes en un GeoDataFrame\n",
    "gdf_ocelote = gpd.read_file('registros-presencia-ocelote.geojson')\n",
    "\n",
    "# Conversión de 'eventDate' a hilera de texto y luego a formato datetime\n",
    "gdf_ocelote['eventDate'] = gdf_ocelote['eventDate'].astype(str)\n",
    "gdf_ocelote['eventDate'] = pd.to_datetime(gdf_ocelote['eventDate'], errors='coerce')\n",
    "\n",
    "# Filtrar los datos para el año 2023\n",
    "gdf_ocelote_2023 = gdf_ocelote[gdf_ocelote['eventDate'].dt.year == 2023]\n",
    "\n",
    "# Extracción del mes\n",
    "gdf_ocelote_2023['mes'] = gdf_ocelote_2023['eventDate'].dt.month\n",
    "\n",
    "# Conteo de la cantidad de registros de presencia por mes en 2023\n",
    "registros_por_mes_2023 = gdf_ocelote_2023.groupby('mes').size().reset_index(name='cantidad')\n",
    "\n",
    "# Crear un DataFrame con todos los meses del año\n",
    "todos_los_meses = pd.DataFrame({'mes': range(1, 13)})\n",
    "\n",
    "# Unir ambos DataFrames para asegurarse de que todos los meses estén presentes\n",
    "registros_por_mes_2023 = todos_los_meses.merge(registros_por_mes_2023, on='mes', how='left')\n",
    "registros_por_mes_2023['cantidad'] = registros_por_mes_2023['cantidad'].fillna(0)  # Rellenar NaN con 0\n",
    "\n",
    "# Agregar la columna con los nombres de los meses en español\n",
    "registros_por_mes_2023['mes_nombre'] = registros_por_mes_2023['mes'].apply(lambda x: meses_espanol[x - 1])\n",
    "\n",
    "# Crear un gráfico de barras para mostrar la cantidad de observaciones por mes en 2023\n",
    "fig = px.bar(\n",
    "    registros_por_mes_2023,\n",
    "    x='mes_nombre',\n",
    "    y='cantidad',\n",
    "    title='Cantidad de registros de presencia de ocelotes por mes en 2023 (Total: 130)',\n",
    "    labels={'mes_nombre': 'Mes', 'cantidad': 'Cantidad de registros de presencia'},\n",
    "    text='cantidad',\n",
    "    color_discrete_sequence=['blue']  # Configurar el color de las barras en azul\n",
    ")\n",
    "\n",
    "# Ajustes al gráfico\n",
    "fig.update_layout(\n",
    "    xaxis_title='Mes',\n",
    "    yaxis_title='Cantidad de registros de presencia',\n",
    "    title_x=0.5,\n",
    "    template='plotly_white'\n",
    ")\n",
    "\n",
    "# Despliegue del gráfico\n",
    "fig.show()\n"
   ]
  },
  {
   "cell_type": "markdown",
   "metadata": {},
   "source": [
    "### Pumas - 2019"
   ]
  },
  {
   "cell_type": "markdown",
   "metadata": {},
   "source": [
    "El siguiente gráfico de barras muestra el número de observaciones mensuales de pumas en el año 2019. Las barras están coloreadas de rojo y se incluye el total de 59 observaciones."
   ]
  },
  {
   "cell_type": "markdown",
   "metadata": {},
   "source": [
    "Al igual que los dos gráficos de barras anteriores, este presenta la cantidad de registros de presencia de ocelotes por mes, con los nombres de los meses en español en el eje x y la cantidad de registros en el eje y.\n",
    "Y es posible observar patrones mensuales que pueden correlacionarse con factores climáticos o comportamentales de la especie."
   ]
  },
  {
   "cell_type": "code",
   "execution_count": 31,
   "metadata": {},
   "outputs": [
    {
     "name": "stderr",
     "output_type": "stream",
     "text": [
      "c:\\Users\\mfall\\miniconda3\\envs\\geopython\\Lib\\site-packages\\geopandas\\geodataframe.py:1819: SettingWithCopyWarning:\n",
      "\n",
      "\n",
      "A value is trying to be set on a copy of a slice from a DataFrame.\n",
      "Try using .loc[row_indexer,col_indexer] = value instead\n",
      "\n",
      "See the caveats in the documentation: https://pandas.pydata.org/pandas-docs/stable/user_guide/indexing.html#returning-a-view-versus-a-copy\n",
      "\n"
     ]
    },
    {
     "data": {
      "application/vnd.plotly.v1+json": {
       "config": {
        "plotlyServerURL": "https://plot.ly"
       },
       "data": [
        {
         "alignmentgroup": "True",
         "hovertemplate": "Mes=%{x}<br>Cantidad de registros de presencia=%{text}<extra></extra>",
         "legendgroup": "",
         "marker": {
          "color": "red",
          "pattern": {
           "shape": ""
          }
         },
         "name": "",
         "offsetgroup": "",
         "orientation": "v",
         "showlegend": false,
         "text": [
          3,
          2,
          4,
          18,
          24,
          7,
          1,
          0,
          0,
          0,
          0,
          0
         ],
         "textposition": "auto",
         "type": "bar",
         "x": [
          "Enero",
          "Febrero",
          "Marzo",
          "Abril",
          "Mayo",
          "Junio",
          "Julio",
          "Agosto",
          "Septiembre",
          "Octubre",
          "Noviembre",
          "Diciembre"
         ],
         "xaxis": "x",
         "y": [
          3,
          2,
          4,
          18,
          24,
          7,
          1,
          0,
          0,
          0,
          0,
          0
         ],
         "yaxis": "y"
        }
       ],
       "layout": {
        "barmode": "relative",
        "legend": {
         "tracegroupgap": 0
        },
        "template": {
         "data": {
          "bar": [
           {
            "error_x": {
             "color": "#2a3f5f"
            },
            "error_y": {
             "color": "#2a3f5f"
            },
            "marker": {
             "line": {
              "color": "white",
              "width": 0.5
             },
             "pattern": {
              "fillmode": "overlay",
              "size": 10,
              "solidity": 0.2
             }
            },
            "type": "bar"
           }
          ],
          "barpolar": [
           {
            "marker": {
             "line": {
              "color": "white",
              "width": 0.5
             },
             "pattern": {
              "fillmode": "overlay",
              "size": 10,
              "solidity": 0.2
             }
            },
            "type": "barpolar"
           }
          ],
          "carpet": [
           {
            "aaxis": {
             "endlinecolor": "#2a3f5f",
             "gridcolor": "#C8D4E3",
             "linecolor": "#C8D4E3",
             "minorgridcolor": "#C8D4E3",
             "startlinecolor": "#2a3f5f"
            },
            "baxis": {
             "endlinecolor": "#2a3f5f",
             "gridcolor": "#C8D4E3",
             "linecolor": "#C8D4E3",
             "minorgridcolor": "#C8D4E3",
             "startlinecolor": "#2a3f5f"
            },
            "type": "carpet"
           }
          ],
          "choropleth": [
           {
            "colorbar": {
             "outlinewidth": 0,
             "ticks": ""
            },
            "type": "choropleth"
           }
          ],
          "contour": [
           {
            "colorbar": {
             "outlinewidth": 0,
             "ticks": ""
            },
            "colorscale": [
             [
              0,
              "#0d0887"
             ],
             [
              0.1111111111111111,
              "#46039f"
             ],
             [
              0.2222222222222222,
              "#7201a8"
             ],
             [
              0.3333333333333333,
              "#9c179e"
             ],
             [
              0.4444444444444444,
              "#bd3786"
             ],
             [
              0.5555555555555556,
              "#d8576b"
             ],
             [
              0.6666666666666666,
              "#ed7953"
             ],
             [
              0.7777777777777778,
              "#fb9f3a"
             ],
             [
              0.8888888888888888,
              "#fdca26"
             ],
             [
              1,
              "#f0f921"
             ]
            ],
            "type": "contour"
           }
          ],
          "contourcarpet": [
           {
            "colorbar": {
             "outlinewidth": 0,
             "ticks": ""
            },
            "type": "contourcarpet"
           }
          ],
          "heatmap": [
           {
            "colorbar": {
             "outlinewidth": 0,
             "ticks": ""
            },
            "colorscale": [
             [
              0,
              "#0d0887"
             ],
             [
              0.1111111111111111,
              "#46039f"
             ],
             [
              0.2222222222222222,
              "#7201a8"
             ],
             [
              0.3333333333333333,
              "#9c179e"
             ],
             [
              0.4444444444444444,
              "#bd3786"
             ],
             [
              0.5555555555555556,
              "#d8576b"
             ],
             [
              0.6666666666666666,
              "#ed7953"
             ],
             [
              0.7777777777777778,
              "#fb9f3a"
             ],
             [
              0.8888888888888888,
              "#fdca26"
             ],
             [
              1,
              "#f0f921"
             ]
            ],
            "type": "heatmap"
           }
          ],
          "heatmapgl": [
           {
            "colorbar": {
             "outlinewidth": 0,
             "ticks": ""
            },
            "colorscale": [
             [
              0,
              "#0d0887"
             ],
             [
              0.1111111111111111,
              "#46039f"
             ],
             [
              0.2222222222222222,
              "#7201a8"
             ],
             [
              0.3333333333333333,
              "#9c179e"
             ],
             [
              0.4444444444444444,
              "#bd3786"
             ],
             [
              0.5555555555555556,
              "#d8576b"
             ],
             [
              0.6666666666666666,
              "#ed7953"
             ],
             [
              0.7777777777777778,
              "#fb9f3a"
             ],
             [
              0.8888888888888888,
              "#fdca26"
             ],
             [
              1,
              "#f0f921"
             ]
            ],
            "type": "heatmapgl"
           }
          ],
          "histogram": [
           {
            "marker": {
             "pattern": {
              "fillmode": "overlay",
              "size": 10,
              "solidity": 0.2
             }
            },
            "type": "histogram"
           }
          ],
          "histogram2d": [
           {
            "colorbar": {
             "outlinewidth": 0,
             "ticks": ""
            },
            "colorscale": [
             [
              0,
              "#0d0887"
             ],
             [
              0.1111111111111111,
              "#46039f"
             ],
             [
              0.2222222222222222,
              "#7201a8"
             ],
             [
              0.3333333333333333,
              "#9c179e"
             ],
             [
              0.4444444444444444,
              "#bd3786"
             ],
             [
              0.5555555555555556,
              "#d8576b"
             ],
             [
              0.6666666666666666,
              "#ed7953"
             ],
             [
              0.7777777777777778,
              "#fb9f3a"
             ],
             [
              0.8888888888888888,
              "#fdca26"
             ],
             [
              1,
              "#f0f921"
             ]
            ],
            "type": "histogram2d"
           }
          ],
          "histogram2dcontour": [
           {
            "colorbar": {
             "outlinewidth": 0,
             "ticks": ""
            },
            "colorscale": [
             [
              0,
              "#0d0887"
             ],
             [
              0.1111111111111111,
              "#46039f"
             ],
             [
              0.2222222222222222,
              "#7201a8"
             ],
             [
              0.3333333333333333,
              "#9c179e"
             ],
             [
              0.4444444444444444,
              "#bd3786"
             ],
             [
              0.5555555555555556,
              "#d8576b"
             ],
             [
              0.6666666666666666,
              "#ed7953"
             ],
             [
              0.7777777777777778,
              "#fb9f3a"
             ],
             [
              0.8888888888888888,
              "#fdca26"
             ],
             [
              1,
              "#f0f921"
             ]
            ],
            "type": "histogram2dcontour"
           }
          ],
          "mesh3d": [
           {
            "colorbar": {
             "outlinewidth": 0,
             "ticks": ""
            },
            "type": "mesh3d"
           }
          ],
          "parcoords": [
           {
            "line": {
             "colorbar": {
              "outlinewidth": 0,
              "ticks": ""
             }
            },
            "type": "parcoords"
           }
          ],
          "pie": [
           {
            "automargin": true,
            "type": "pie"
           }
          ],
          "scatter": [
           {
            "fillpattern": {
             "fillmode": "overlay",
             "size": 10,
             "solidity": 0.2
            },
            "type": "scatter"
           }
          ],
          "scatter3d": [
           {
            "line": {
             "colorbar": {
              "outlinewidth": 0,
              "ticks": ""
             }
            },
            "marker": {
             "colorbar": {
              "outlinewidth": 0,
              "ticks": ""
             }
            },
            "type": "scatter3d"
           }
          ],
          "scattercarpet": [
           {
            "marker": {
             "colorbar": {
              "outlinewidth": 0,
              "ticks": ""
             }
            },
            "type": "scattercarpet"
           }
          ],
          "scattergeo": [
           {
            "marker": {
             "colorbar": {
              "outlinewidth": 0,
              "ticks": ""
             }
            },
            "type": "scattergeo"
           }
          ],
          "scattergl": [
           {
            "marker": {
             "colorbar": {
              "outlinewidth": 0,
              "ticks": ""
             }
            },
            "type": "scattergl"
           }
          ],
          "scattermapbox": [
           {
            "marker": {
             "colorbar": {
              "outlinewidth": 0,
              "ticks": ""
             }
            },
            "type": "scattermapbox"
           }
          ],
          "scatterpolar": [
           {
            "marker": {
             "colorbar": {
              "outlinewidth": 0,
              "ticks": ""
             }
            },
            "type": "scatterpolar"
           }
          ],
          "scatterpolargl": [
           {
            "marker": {
             "colorbar": {
              "outlinewidth": 0,
              "ticks": ""
             }
            },
            "type": "scatterpolargl"
           }
          ],
          "scatterternary": [
           {
            "marker": {
             "colorbar": {
              "outlinewidth": 0,
              "ticks": ""
             }
            },
            "type": "scatterternary"
           }
          ],
          "surface": [
           {
            "colorbar": {
             "outlinewidth": 0,
             "ticks": ""
            },
            "colorscale": [
             [
              0,
              "#0d0887"
             ],
             [
              0.1111111111111111,
              "#46039f"
             ],
             [
              0.2222222222222222,
              "#7201a8"
             ],
             [
              0.3333333333333333,
              "#9c179e"
             ],
             [
              0.4444444444444444,
              "#bd3786"
             ],
             [
              0.5555555555555556,
              "#d8576b"
             ],
             [
              0.6666666666666666,
              "#ed7953"
             ],
             [
              0.7777777777777778,
              "#fb9f3a"
             ],
             [
              0.8888888888888888,
              "#fdca26"
             ],
             [
              1,
              "#f0f921"
             ]
            ],
            "type": "surface"
           }
          ],
          "table": [
           {
            "cells": {
             "fill": {
              "color": "#EBF0F8"
             },
             "line": {
              "color": "white"
             }
            },
            "header": {
             "fill": {
              "color": "#C8D4E3"
             },
             "line": {
              "color": "white"
             }
            },
            "type": "table"
           }
          ]
         },
         "layout": {
          "annotationdefaults": {
           "arrowcolor": "#2a3f5f",
           "arrowhead": 0,
           "arrowwidth": 1
          },
          "autotypenumbers": "strict",
          "coloraxis": {
           "colorbar": {
            "outlinewidth": 0,
            "ticks": ""
           }
          },
          "colorscale": {
           "diverging": [
            [
             0,
             "#8e0152"
            ],
            [
             0.1,
             "#c51b7d"
            ],
            [
             0.2,
             "#de77ae"
            ],
            [
             0.3,
             "#f1b6da"
            ],
            [
             0.4,
             "#fde0ef"
            ],
            [
             0.5,
             "#f7f7f7"
            ],
            [
             0.6,
             "#e6f5d0"
            ],
            [
             0.7,
             "#b8e186"
            ],
            [
             0.8,
             "#7fbc41"
            ],
            [
             0.9,
             "#4d9221"
            ],
            [
             1,
             "#276419"
            ]
           ],
           "sequential": [
            [
             0,
             "#0d0887"
            ],
            [
             0.1111111111111111,
             "#46039f"
            ],
            [
             0.2222222222222222,
             "#7201a8"
            ],
            [
             0.3333333333333333,
             "#9c179e"
            ],
            [
             0.4444444444444444,
             "#bd3786"
            ],
            [
             0.5555555555555556,
             "#d8576b"
            ],
            [
             0.6666666666666666,
             "#ed7953"
            ],
            [
             0.7777777777777778,
             "#fb9f3a"
            ],
            [
             0.8888888888888888,
             "#fdca26"
            ],
            [
             1,
             "#f0f921"
            ]
           ],
           "sequentialminus": [
            [
             0,
             "#0d0887"
            ],
            [
             0.1111111111111111,
             "#46039f"
            ],
            [
             0.2222222222222222,
             "#7201a8"
            ],
            [
             0.3333333333333333,
             "#9c179e"
            ],
            [
             0.4444444444444444,
             "#bd3786"
            ],
            [
             0.5555555555555556,
             "#d8576b"
            ],
            [
             0.6666666666666666,
             "#ed7953"
            ],
            [
             0.7777777777777778,
             "#fb9f3a"
            ],
            [
             0.8888888888888888,
             "#fdca26"
            ],
            [
             1,
             "#f0f921"
            ]
           ]
          },
          "colorway": [
           "#636efa",
           "#EF553B",
           "#00cc96",
           "#ab63fa",
           "#FFA15A",
           "#19d3f3",
           "#FF6692",
           "#B6E880",
           "#FF97FF",
           "#FECB52"
          ],
          "font": {
           "color": "#2a3f5f"
          },
          "geo": {
           "bgcolor": "white",
           "lakecolor": "white",
           "landcolor": "white",
           "showlakes": true,
           "showland": true,
           "subunitcolor": "#C8D4E3"
          },
          "hoverlabel": {
           "align": "left"
          },
          "hovermode": "closest",
          "mapbox": {
           "style": "light"
          },
          "paper_bgcolor": "white",
          "plot_bgcolor": "white",
          "polar": {
           "angularaxis": {
            "gridcolor": "#EBF0F8",
            "linecolor": "#EBF0F8",
            "ticks": ""
           },
           "bgcolor": "white",
           "radialaxis": {
            "gridcolor": "#EBF0F8",
            "linecolor": "#EBF0F8",
            "ticks": ""
           }
          },
          "scene": {
           "xaxis": {
            "backgroundcolor": "white",
            "gridcolor": "#DFE8F3",
            "gridwidth": 2,
            "linecolor": "#EBF0F8",
            "showbackground": true,
            "ticks": "",
            "zerolinecolor": "#EBF0F8"
           },
           "yaxis": {
            "backgroundcolor": "white",
            "gridcolor": "#DFE8F3",
            "gridwidth": 2,
            "linecolor": "#EBF0F8",
            "showbackground": true,
            "ticks": "",
            "zerolinecolor": "#EBF0F8"
           },
           "zaxis": {
            "backgroundcolor": "white",
            "gridcolor": "#DFE8F3",
            "gridwidth": 2,
            "linecolor": "#EBF0F8",
            "showbackground": true,
            "ticks": "",
            "zerolinecolor": "#EBF0F8"
           }
          },
          "shapedefaults": {
           "line": {
            "color": "#2a3f5f"
           }
          },
          "ternary": {
           "aaxis": {
            "gridcolor": "#DFE8F3",
            "linecolor": "#A2B1C6",
            "ticks": ""
           },
           "baxis": {
            "gridcolor": "#DFE8F3",
            "linecolor": "#A2B1C6",
            "ticks": ""
           },
           "bgcolor": "white",
           "caxis": {
            "gridcolor": "#DFE8F3",
            "linecolor": "#A2B1C6",
            "ticks": ""
           }
          },
          "title": {
           "x": 0.05
          },
          "xaxis": {
           "automargin": true,
           "gridcolor": "#EBF0F8",
           "linecolor": "#EBF0F8",
           "ticks": "",
           "title": {
            "standoff": 15
           },
           "zerolinecolor": "#EBF0F8",
           "zerolinewidth": 2
          },
          "yaxis": {
           "automargin": true,
           "gridcolor": "#EBF0F8",
           "linecolor": "#EBF0F8",
           "ticks": "",
           "title": {
            "standoff": 15
           },
           "zerolinecolor": "#EBF0F8",
           "zerolinewidth": 2
          }
         }
        },
        "title": {
         "text": "Cantidad de registros de presencia de pumas por mes en 2019 (Total: 59)",
         "x": 0.5
        },
        "xaxis": {
         "anchor": "y",
         "domain": [
          0,
          1
         ],
         "title": {
          "text": "Mes"
         }
        },
        "yaxis": {
         "anchor": "x",
         "domain": [
          0,
          1
         ],
         "title": {
          "text": "Cantidad de registros de presencia"
         }
        }
       }
      }
     },
     "metadata": {},
     "output_type": "display_data"
    }
   ],
   "source": [
    "import pandas as pd\n",
    "import geopandas as gpd\n",
    "import plotly.express as px\n",
    "\n",
    "# Lista de nombres de meses en español\n",
    "meses_espanol = [\n",
    "    'Enero', 'Febrero', 'Marzo', 'Abril', 'Mayo', 'Junio',\n",
    "    'Julio', 'Agosto', 'Septiembre', 'Octubre', 'Noviembre', 'Diciembre'\n",
    "]\n",
    "\n",
    "# Lectura del archivo GeoJSON específico de pumas en un GeoDataFrame\n",
    "gdf_puma = gpd.read_file('registros-presencia-puma.geojson')\n",
    "\n",
    "# Conversión de 'eventDate' a hilera de texto y luego a formato datetime\n",
    "gdf_puma['eventDate'] = gdf_puma['eventDate'].astype(str)\n",
    "gdf_puma['eventDate'] = pd.to_datetime(gdf_puma['eventDate'], errors='coerce')\n",
    "\n",
    "# Filtrar los datos para el año 2019p\n",
    "gdf_puma_2019p = gdf_puma[gdf_puma['eventDate'].dt.year == 2019]\n",
    "\n",
    "# Extracción del mes\n",
    "gdf_puma_2019p['mes'] = gdf_puma_2019p['eventDate'].dt.month\n",
    "\n",
    "# Conteo de la cantidad de registros de presencia por mes en 2019p\n",
    "registros_por_mes_2019p = gdf_puma_2019p.groupby('mes').size().reset_index(name='cantidad')\n",
    "\n",
    "# Crear un DataFrame con todos los meses del año\n",
    "todos_los_meses = pd.DataFrame({'mes': range(1, 13)})\n",
    "\n",
    "# Unir ambos DataFrames para asegurarse de que todos los meses estén presentes\n",
    "registros_por_mes_2019p = todos_los_meses.merge(registros_por_mes_2019p, on='mes', how='left')\n",
    "registros_por_mes_2019p['cantidad'] = registros_por_mes_2019p['cantidad'].fillna(0)  # Rellenar NaN con 0\n",
    "\n",
    "# Agregar la columna con los nombres de los meses en español\n",
    "registros_por_mes_2019p['mes_nombre'] = registros_por_mes_2019p['mes'].apply(lambda x: meses_espanol[x - 1])\n",
    "\n",
    "# Crear un gráfico de barras para mostrar la cantidad de observaciones por mes en 2019p\n",
    "fig = px.bar(\n",
    "    registros_por_mes_2019p,\n",
    "    x='mes_nombre',\n",
    "    y='cantidad',\n",
    "    title='Cantidad de registros de presencia de pumas por mes en 2019 (Total: 59)',\n",
    "    labels={'mes_nombre': 'Mes', 'cantidad': 'Cantidad de registros de presencia'},\n",
    "    text='cantidad',\n",
    "    color_discrete_sequence=['red']  # Configurar el color de las barras en rojo\n",
    ")\n",
    "\n",
    "# Ajustes al gráfico\n",
    "fig.update_layout(\n",
    "    xaxis_title='Mes',\n",
    "    yaxis_title='Cantidad de registros de presencia',\n",
    "    title_x=0.5,\n",
    "    template='plotly_white'\n",
    ")\n",
    "\n",
    "# Despliegue del gráfico\n",
    "fig.show()\n"
   ]
  },
  {
   "cell_type": "markdown",
   "metadata": {},
   "source": [
    "Los gráficos presentan un patrón de aumento en los registros de jaguares, ocelotes y pumas entre 2014 y 2024, lo que sugiere una mejora en la visibilidad de estas especies o en los esfuerzos de conservación realizados. Además, las variaciones mensuales observadas en los gráficos de ocelotes y pumas indican diferencias estacionales en las observaciones, posiblemente influenciadas por factores ambientales como la disponibilidad de alimento o la actividad humana (Montalvo *et al*, 2015).\n",
    "\n",
    "Lo interesante de estos gráficos es que permiten identificar rápidamente tendencias y patrones que podrían pasar desapercibidos en formatos más tradicionales. Por ejemplo, se puede apreciar de inmediato cuáles son los meses con más avistamientos y cómo varían las actividades de cada especie a lo largo del tiempo. Esta visualización clara ayuda a dirigir los esfuerzos de conservación hacia momentos y lugares específicos donde la necesidad es más urgente."
   ]
  },
  {
   "cell_type": "markdown",
   "metadata": {},
   "source": [
    "## Gráfico pastel"
   ]
  },
  {
   "cell_type": "markdown",
   "metadata": {},
   "source": [
    "El gráfico de pastel ilustra la distribución de las observaciones de tres especies de felinos: jaguares, ocelotes y pumas, entre los años 2014 y 2024. Cada sección del gráfico representa la proporción de registros para cada especie, lo que permite visualizar fácilmente cuál de ellas fue observada con mayor frecuencia durante este período."
   ]
  },
  {
   "cell_type": "code",
   "execution_count": 34,
   "metadata": {},
   "outputs": [
    {
     "data": {
      "application/vnd.plotly.v1+json": {
       "config": {
        "plotlyServerURL": "https://plot.ly"
       },
       "data": [
        {
         "domain": {
          "x": [
           0,
           1
          ],
          "y": [
           0,
           1
          ]
         },
         "hovertemplate": "especie=%{label}<br>cantidad=%{value}<extra></extra>",
         "labels": [
          "Ocelote",
          "Puma",
          "Jaguar"
         ],
         "legendgroup": "",
         "marker": {
          "colors": [
           "blue",
           "red",
           "green"
          ]
         },
         "name": "",
         "showlegend": true,
         "type": "pie",
         "values": [
          300,
          232,
          113
         ]
        }
       ],
       "layout": {
        "legend": {
         "tracegroupgap": 0
        },
        "template": {
         "data": {
          "bar": [
           {
            "error_x": {
             "color": "#2a3f5f"
            },
            "error_y": {
             "color": "#2a3f5f"
            },
            "marker": {
             "line": {
              "color": "#E5ECF6",
              "width": 0.5
             },
             "pattern": {
              "fillmode": "overlay",
              "size": 10,
              "solidity": 0.2
             }
            },
            "type": "bar"
           }
          ],
          "barpolar": [
           {
            "marker": {
             "line": {
              "color": "#E5ECF6",
              "width": 0.5
             },
             "pattern": {
              "fillmode": "overlay",
              "size": 10,
              "solidity": 0.2
             }
            },
            "type": "barpolar"
           }
          ],
          "carpet": [
           {
            "aaxis": {
             "endlinecolor": "#2a3f5f",
             "gridcolor": "white",
             "linecolor": "white",
             "minorgridcolor": "white",
             "startlinecolor": "#2a3f5f"
            },
            "baxis": {
             "endlinecolor": "#2a3f5f",
             "gridcolor": "white",
             "linecolor": "white",
             "minorgridcolor": "white",
             "startlinecolor": "#2a3f5f"
            },
            "type": "carpet"
           }
          ],
          "choropleth": [
           {
            "colorbar": {
             "outlinewidth": 0,
             "ticks": ""
            },
            "type": "choropleth"
           }
          ],
          "contour": [
           {
            "colorbar": {
             "outlinewidth": 0,
             "ticks": ""
            },
            "colorscale": [
             [
              0,
              "#0d0887"
             ],
             [
              0.1111111111111111,
              "#46039f"
             ],
             [
              0.2222222222222222,
              "#7201a8"
             ],
             [
              0.3333333333333333,
              "#9c179e"
             ],
             [
              0.4444444444444444,
              "#bd3786"
             ],
             [
              0.5555555555555556,
              "#d8576b"
             ],
             [
              0.6666666666666666,
              "#ed7953"
             ],
             [
              0.7777777777777778,
              "#fb9f3a"
             ],
             [
              0.8888888888888888,
              "#fdca26"
             ],
             [
              1,
              "#f0f921"
             ]
            ],
            "type": "contour"
           }
          ],
          "contourcarpet": [
           {
            "colorbar": {
             "outlinewidth": 0,
             "ticks": ""
            },
            "type": "contourcarpet"
           }
          ],
          "heatmap": [
           {
            "colorbar": {
             "outlinewidth": 0,
             "ticks": ""
            },
            "colorscale": [
             [
              0,
              "#0d0887"
             ],
             [
              0.1111111111111111,
              "#46039f"
             ],
             [
              0.2222222222222222,
              "#7201a8"
             ],
             [
              0.3333333333333333,
              "#9c179e"
             ],
             [
              0.4444444444444444,
              "#bd3786"
             ],
             [
              0.5555555555555556,
              "#d8576b"
             ],
             [
              0.6666666666666666,
              "#ed7953"
             ],
             [
              0.7777777777777778,
              "#fb9f3a"
             ],
             [
              0.8888888888888888,
              "#fdca26"
             ],
             [
              1,
              "#f0f921"
             ]
            ],
            "type": "heatmap"
           }
          ],
          "heatmapgl": [
           {
            "colorbar": {
             "outlinewidth": 0,
             "ticks": ""
            },
            "colorscale": [
             [
              0,
              "#0d0887"
             ],
             [
              0.1111111111111111,
              "#46039f"
             ],
             [
              0.2222222222222222,
              "#7201a8"
             ],
             [
              0.3333333333333333,
              "#9c179e"
             ],
             [
              0.4444444444444444,
              "#bd3786"
             ],
             [
              0.5555555555555556,
              "#d8576b"
             ],
             [
              0.6666666666666666,
              "#ed7953"
             ],
             [
              0.7777777777777778,
              "#fb9f3a"
             ],
             [
              0.8888888888888888,
              "#fdca26"
             ],
             [
              1,
              "#f0f921"
             ]
            ],
            "type": "heatmapgl"
           }
          ],
          "histogram": [
           {
            "marker": {
             "pattern": {
              "fillmode": "overlay",
              "size": 10,
              "solidity": 0.2
             }
            },
            "type": "histogram"
           }
          ],
          "histogram2d": [
           {
            "colorbar": {
             "outlinewidth": 0,
             "ticks": ""
            },
            "colorscale": [
             [
              0,
              "#0d0887"
             ],
             [
              0.1111111111111111,
              "#46039f"
             ],
             [
              0.2222222222222222,
              "#7201a8"
             ],
             [
              0.3333333333333333,
              "#9c179e"
             ],
             [
              0.4444444444444444,
              "#bd3786"
             ],
             [
              0.5555555555555556,
              "#d8576b"
             ],
             [
              0.6666666666666666,
              "#ed7953"
             ],
             [
              0.7777777777777778,
              "#fb9f3a"
             ],
             [
              0.8888888888888888,
              "#fdca26"
             ],
             [
              1,
              "#f0f921"
             ]
            ],
            "type": "histogram2d"
           }
          ],
          "histogram2dcontour": [
           {
            "colorbar": {
             "outlinewidth": 0,
             "ticks": ""
            },
            "colorscale": [
             [
              0,
              "#0d0887"
             ],
             [
              0.1111111111111111,
              "#46039f"
             ],
             [
              0.2222222222222222,
              "#7201a8"
             ],
             [
              0.3333333333333333,
              "#9c179e"
             ],
             [
              0.4444444444444444,
              "#bd3786"
             ],
             [
              0.5555555555555556,
              "#d8576b"
             ],
             [
              0.6666666666666666,
              "#ed7953"
             ],
             [
              0.7777777777777778,
              "#fb9f3a"
             ],
             [
              0.8888888888888888,
              "#fdca26"
             ],
             [
              1,
              "#f0f921"
             ]
            ],
            "type": "histogram2dcontour"
           }
          ],
          "mesh3d": [
           {
            "colorbar": {
             "outlinewidth": 0,
             "ticks": ""
            },
            "type": "mesh3d"
           }
          ],
          "parcoords": [
           {
            "line": {
             "colorbar": {
              "outlinewidth": 0,
              "ticks": ""
             }
            },
            "type": "parcoords"
           }
          ],
          "pie": [
           {
            "automargin": true,
            "type": "pie"
           }
          ],
          "scatter": [
           {
            "fillpattern": {
             "fillmode": "overlay",
             "size": 10,
             "solidity": 0.2
            },
            "type": "scatter"
           }
          ],
          "scatter3d": [
           {
            "line": {
             "colorbar": {
              "outlinewidth": 0,
              "ticks": ""
             }
            },
            "marker": {
             "colorbar": {
              "outlinewidth": 0,
              "ticks": ""
             }
            },
            "type": "scatter3d"
           }
          ],
          "scattercarpet": [
           {
            "marker": {
             "colorbar": {
              "outlinewidth": 0,
              "ticks": ""
             }
            },
            "type": "scattercarpet"
           }
          ],
          "scattergeo": [
           {
            "marker": {
             "colorbar": {
              "outlinewidth": 0,
              "ticks": ""
             }
            },
            "type": "scattergeo"
           }
          ],
          "scattergl": [
           {
            "marker": {
             "colorbar": {
              "outlinewidth": 0,
              "ticks": ""
             }
            },
            "type": "scattergl"
           }
          ],
          "scattermapbox": [
           {
            "marker": {
             "colorbar": {
              "outlinewidth": 0,
              "ticks": ""
             }
            },
            "type": "scattermapbox"
           }
          ],
          "scatterpolar": [
           {
            "marker": {
             "colorbar": {
              "outlinewidth": 0,
              "ticks": ""
             }
            },
            "type": "scatterpolar"
           }
          ],
          "scatterpolargl": [
           {
            "marker": {
             "colorbar": {
              "outlinewidth": 0,
              "ticks": ""
             }
            },
            "type": "scatterpolargl"
           }
          ],
          "scatterternary": [
           {
            "marker": {
             "colorbar": {
              "outlinewidth": 0,
              "ticks": ""
             }
            },
            "type": "scatterternary"
           }
          ],
          "surface": [
           {
            "colorbar": {
             "outlinewidth": 0,
             "ticks": ""
            },
            "colorscale": [
             [
              0,
              "#0d0887"
             ],
             [
              0.1111111111111111,
              "#46039f"
             ],
             [
              0.2222222222222222,
              "#7201a8"
             ],
             [
              0.3333333333333333,
              "#9c179e"
             ],
             [
              0.4444444444444444,
              "#bd3786"
             ],
             [
              0.5555555555555556,
              "#d8576b"
             ],
             [
              0.6666666666666666,
              "#ed7953"
             ],
             [
              0.7777777777777778,
              "#fb9f3a"
             ],
             [
              0.8888888888888888,
              "#fdca26"
             ],
             [
              1,
              "#f0f921"
             ]
            ],
            "type": "surface"
           }
          ],
          "table": [
           {
            "cells": {
             "fill": {
              "color": "#EBF0F8"
             },
             "line": {
              "color": "white"
             }
            },
            "header": {
             "fill": {
              "color": "#C8D4E3"
             },
             "line": {
              "color": "white"
             }
            },
            "type": "table"
           }
          ]
         },
         "layout": {
          "annotationdefaults": {
           "arrowcolor": "#2a3f5f",
           "arrowhead": 0,
           "arrowwidth": 1
          },
          "autotypenumbers": "strict",
          "coloraxis": {
           "colorbar": {
            "outlinewidth": 0,
            "ticks": ""
           }
          },
          "colorscale": {
           "diverging": [
            [
             0,
             "#8e0152"
            ],
            [
             0.1,
             "#c51b7d"
            ],
            [
             0.2,
             "#de77ae"
            ],
            [
             0.3,
             "#f1b6da"
            ],
            [
             0.4,
             "#fde0ef"
            ],
            [
             0.5,
             "#f7f7f7"
            ],
            [
             0.6,
             "#e6f5d0"
            ],
            [
             0.7,
             "#b8e186"
            ],
            [
             0.8,
             "#7fbc41"
            ],
            [
             0.9,
             "#4d9221"
            ],
            [
             1,
             "#276419"
            ]
           ],
           "sequential": [
            [
             0,
             "#0d0887"
            ],
            [
             0.1111111111111111,
             "#46039f"
            ],
            [
             0.2222222222222222,
             "#7201a8"
            ],
            [
             0.3333333333333333,
             "#9c179e"
            ],
            [
             0.4444444444444444,
             "#bd3786"
            ],
            [
             0.5555555555555556,
             "#d8576b"
            ],
            [
             0.6666666666666666,
             "#ed7953"
            ],
            [
             0.7777777777777778,
             "#fb9f3a"
            ],
            [
             0.8888888888888888,
             "#fdca26"
            ],
            [
             1,
             "#f0f921"
            ]
           ],
           "sequentialminus": [
            [
             0,
             "#0d0887"
            ],
            [
             0.1111111111111111,
             "#46039f"
            ],
            [
             0.2222222222222222,
             "#7201a8"
            ],
            [
             0.3333333333333333,
             "#9c179e"
            ],
            [
             0.4444444444444444,
             "#bd3786"
            ],
            [
             0.5555555555555556,
             "#d8576b"
            ],
            [
             0.6666666666666666,
             "#ed7953"
            ],
            [
             0.7777777777777778,
             "#fb9f3a"
            ],
            [
             0.8888888888888888,
             "#fdca26"
            ],
            [
             1,
             "#f0f921"
            ]
           ]
          },
          "colorway": [
           "#636efa",
           "#EF553B",
           "#00cc96",
           "#ab63fa",
           "#FFA15A",
           "#19d3f3",
           "#FF6692",
           "#B6E880",
           "#FF97FF",
           "#FECB52"
          ],
          "font": {
           "color": "#2a3f5f"
          },
          "geo": {
           "bgcolor": "white",
           "lakecolor": "white",
           "landcolor": "#E5ECF6",
           "showlakes": true,
           "showland": true,
           "subunitcolor": "white"
          },
          "hoverlabel": {
           "align": "left"
          },
          "hovermode": "closest",
          "mapbox": {
           "style": "light"
          },
          "paper_bgcolor": "white",
          "plot_bgcolor": "#E5ECF6",
          "polar": {
           "angularaxis": {
            "gridcolor": "white",
            "linecolor": "white",
            "ticks": ""
           },
           "bgcolor": "#E5ECF6",
           "radialaxis": {
            "gridcolor": "white",
            "linecolor": "white",
            "ticks": ""
           }
          },
          "scene": {
           "xaxis": {
            "backgroundcolor": "#E5ECF6",
            "gridcolor": "white",
            "gridwidth": 2,
            "linecolor": "white",
            "showbackground": true,
            "ticks": "",
            "zerolinecolor": "white"
           },
           "yaxis": {
            "backgroundcolor": "#E5ECF6",
            "gridcolor": "white",
            "gridwidth": 2,
            "linecolor": "white",
            "showbackground": true,
            "ticks": "",
            "zerolinecolor": "white"
           },
           "zaxis": {
            "backgroundcolor": "#E5ECF6",
            "gridcolor": "white",
            "gridwidth": 2,
            "linecolor": "white",
            "showbackground": true,
            "ticks": "",
            "zerolinecolor": "white"
           }
          },
          "shapedefaults": {
           "line": {
            "color": "#2a3f5f"
           }
          },
          "ternary": {
           "aaxis": {
            "gridcolor": "white",
            "linecolor": "white",
            "ticks": ""
           },
           "baxis": {
            "gridcolor": "white",
            "linecolor": "white",
            "ticks": ""
           },
           "bgcolor": "#E5ECF6",
           "caxis": {
            "gridcolor": "white",
            "linecolor": "white",
            "ticks": ""
           }
          },
          "title": {
           "x": 0.05
          },
          "xaxis": {
           "automargin": true,
           "gridcolor": "white",
           "linecolor": "white",
           "ticks": "",
           "title": {
            "standoff": 15
           },
           "zerolinecolor": "white",
           "zerolinewidth": 2
          },
          "yaxis": {
           "automargin": true,
           "gridcolor": "white",
           "linecolor": "white",
           "ticks": "",
           "title": {
            "standoff": 15
           },
           "zerolinecolor": "white",
           "zerolinewidth": 2
          }
         }
        },
        "title": {
         "text": "Distribución de observaciones de jaguares, ocelotes y pumas (2014-2024)"
        }
       }
      }
     },
     "metadata": {},
     "output_type": "display_data"
    }
   ],
   "source": [
    "import pandas as pd\n",
    "import geopandas as gpd\n",
    "import plotly.express as px\n",
    "\n",
    "# Lectura de cada archivo GeoJSON en un GeoDataFrame con la columna de especie\n",
    "gdf_jaguar = gpd.read_file('registros-presencia-jaguar.geojson')\n",
    "gdf_jaguar['especie'] = 'Jaguar'\n",
    "\n",
    "gdf_ocelote = gpd.read_file('registros-presencia-ocelote.geojson')\n",
    "gdf_ocelote['especie'] = 'Ocelote'\n",
    "\n",
    "gdf_puma = gpd.read_file('registros-presencia-puma.geojson')\n",
    "gdf_puma['especie'] = 'Puma'\n",
    "\n",
    "# Concatenar todos los registros en un solo DataFrame\n",
    "df = pd.concat([gdf_jaguar, gdf_ocelote, gdf_puma], ignore_index=True)\n",
    "\n",
    "# Filtrar el rango de años (2014-2024) en la columna de fecha\n",
    "df['eventDate'] = pd.to_datetime(df['eventDate'], errors='coerce')\n",
    "df['year'] = df['eventDate'].dt.year\n",
    "df = df[(df['year'] >= 2014) & (df['year'] <= 2024)]\n",
    "\n",
    "# Contar la cantidad de registros por especie\n",
    "conteo_especies = df['especie'].value_counts().reset_index()\n",
    "conteo_especies.columns = ['especie', 'cantidad']\n",
    "\n",
    "# Crear el gráfico de pastel con Plotly Express\n",
    "fig = px.pie(\n",
    "    conteo_especies,\n",
    "    names='especie',\n",
    "    values='cantidad',\n",
    "    title='Distribución de observaciones de jaguares, ocelotes y pumas (2014-2024)'\n",
    ")\n",
    "\n",
    "# Ajustar los colores manualmente en los trazos\n",
    "fig.update_traces(marker=dict(colors=['blue', 'red', 'green']))\n",
    "\n",
    "# Mostrar el gráfico\n",
    "fig.show()\n"
   ]
  },
  {
   "cell_type": "markdown",
   "metadata": {},
   "source": [
    "Asimismo el gráfico revela de manera clara cuál de las tres especies fue más observada durante el periodo analizado. Esto permite identificar si existe una especie dominante en términos de avistamientos, lo que podría indicar su mayor presencia en el hábitat, así como su adaptabilidad o respuesta a cambios ambientales o humanos (Montalvo *et al*, 2015).\n",
    "\n",
    "En este sentido, el uso de un gráfico de pastel facilita la apreciación de la relación proporcional entre las especies, algo que podría no ser evidente en una tabla de datos. Al observar visualmente la relación entre los registros, se pueden identificar patrones como el predominio de una especie sobre las otras de manera rápida y efectiva, lo que no siempre es tan evidente en formatos de texto o mapas."
   ]
  },
  {
   "cell_type": "markdown",
   "metadata": {},
   "source": [
    "## Referencias:"
   ]
  },
  {
   "cell_type": "markdown",
   "metadata": {},
   "source": [
    "Arroyo-Arce, S., Guilder, J., & Salom-Pérez, R. (2014). Características del hábitat que influyen en la presencia de jaguar (Panthera onca) (Carnivora: Felidae) en el Parque Nacional Tortuguero, Costa Rica. Revista de Biología Tropical, 62(4), 1411-1422. https://doi.org/10.15517/rbt.v62i4.10807\n",
    "\n",
    "Montalvo Guadamuz, V., Sáenz Bolaños, C., Ramírez Carvajal, S., & Carrillo Jiménez, E. (2015). Abundancia del jaguar (Panthera onca), otros felinos y sus presas potenciales en el Parque Nacional Santa Rosa, Costa Rica. Cuadernos de Investigación UNED, 7(2), 1-15. https://doi.org/10.22458/ciu.v7i2.1420"
   ]
  }
 ],
 "metadata": {
  "kernelspec": {
   "display_name": "geopython",
   "language": "python",
   "name": "python3"
  },
  "language_info": {
   "codemirror_mode": {
    "name": "ipython",
    "version": 3
   },
   "file_extension": ".py",
   "mimetype": "text/x-python",
   "name": "python",
   "nbconvert_exporter": "python",
   "pygments_lexer": "ipython3",
   "version": "3.11.10"
  }
 },
 "nbformat": 4,
 "nbformat_minor": 2
}
